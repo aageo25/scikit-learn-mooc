{
 "cells": [
  {
   "cell_type": "markdown",
   "id": "e16b71bd",
   "metadata": {},
   "source": [
    "# 📝 Exercise M7.03\n",
    "\n",
    "As with the classification metrics exercise, we will evaluate the regression\n",
    "metrics within a cross-validation framework to get familiar with the syntax.\n",
    "\n",
    "We will use the Ames house prices dataset."
   ]
  },
  {
   "cell_type": "code",
   "execution_count": 1,
   "id": "abffe07a",
   "metadata": {},
   "outputs": [],
   "source": [
    "import pandas as pd\n",
    "import numpy as np\n",
    "\n",
    "ames_housing = pd.read_csv(\"../datasets/house_prices.csv\")\n",
    "data = ames_housing.drop(columns=\"SalePrice\")\n",
    "target = ames_housing[\"SalePrice\"]\n",
    "data = data.select_dtypes(np.number)\n",
    "target /= 1000"
   ]
  },
  {
   "cell_type": "markdown",
   "id": "67594239",
   "metadata": {
    "lines_to_next_cell": 2
   },
   "source": [
    "<div class=\"admonition note alert alert-info\">\n",
    "<p class=\"first admonition-title\" style=\"font-weight: bold;\">Note</p>\n",
    "<p class=\"last\">If you want a deeper overview regarding this dataset, you can refer to the\n",
    "Appendix - Datasets description section at the end of this MOOC.</p>\n",
    "</div>"
   ]
  },
  {
   "cell_type": "markdown",
   "id": "f363d583",
   "metadata": {},
   "source": [
    "The first step will be to create a linear regression model."
   ]
  },
  {
   "cell_type": "code",
   "execution_count": 2,
   "id": "0715ed89",
   "metadata": {},
   "outputs": [],
   "source": [
    "from sklearn.linear_model import LinearRegression\n",
    "\n",
    "model = LinearRegression()"
   ]
  },
  {
   "cell_type": "markdown",
   "id": "ef8ea21b",
   "metadata": {},
   "source": [
    "Then, use the `cross_val_score` to estimate the generalization performance of\n",
    "the model. Use a `KFold` cross-validation with 10 folds. Make the use of the\n",
    "$R^2$ score explicit by assigning the parameter `scoring` (even though it is\n",
    "the default score)."
   ]
  },
  {
   "cell_type": "code",
   "execution_count": 10,
   "id": "6a189903",
   "metadata": {},
   "outputs": [
    {
     "name": "stdout",
     "output_type": "stream",
     "text": [
      "Accuracy of the regression model: 0.772 ± 0.141\n"
     ]
    }
   ],
   "source": [
    "from sklearn.model_selection import cross_val_score, KFold\n",
    "\n",
    "cv = KFold(n_splits=10, shuffle=True, random_state=0)\n",
    "\n",
    "cv_scores = cross_val_score(\n",
    "    model, data, target, cv=cv, n_jobs=4, scoring='r2')\n",
    "\n",
    "print(f\"R2 scores of the regression model: \"\n",
    "      f\"{cv_scores.mean():.3f} ± {cv_scores.std():.3f}\")"
   ]
  },
  {
   "cell_type": "markdown",
   "id": "a57703b0",
   "metadata": {},
   "source": [
    "Then, instead of using the $R^2$ score, use the mean absolute error. You need\n",
    "to refer to the documentation for the `scoring` parameter."
   ]
  },
  {
   "cell_type": "code",
   "execution_count": 11,
   "id": "c3faf97c",
   "metadata": {},
   "outputs": [
    {
     "name": "stdout",
     "output_type": "stream",
     "text": [
      "Mean absolute error of the regression model: 22.041 ± 2.429\n"
     ]
    }
   ],
   "source": [
    "cv_scores = cross_val_score(\n",
    "    model, data, target, cv=cv, n_jobs=4, scoring='neg_mean_absolute_error')\n",
    "\n",
    "print(f\"Mean absolute error of the regression model: \"\n",
    "      f\"{-cv_scores.mean():.3f} ± {cv_scores.std():.3f}\")"
   ]
  },
  {
   "cell_type": "markdown",
   "id": "ec216d05",
   "metadata": {},
   "source": [
    "Finally, use the `cross_validate` function and compute multiple scores/errors\n",
    "at once by passing a list of scorers to the `scoring` parameter. You can\n",
    "compute the $R^2$ score and the mean absolute error for instance."
   ]
  },
  {
   "cell_type": "code",
   "execution_count": 21,
   "id": "9acb4cfa",
   "metadata": {},
   "outputs": [
    {
     "name": "stdout",
     "output_type": "stream",
     "text": [
      "Score explained_variance of the regression model: 0.774 ± 0.139\n",
      "Score max_error of the regression model: -265.302 ± 166.209\n",
      "Score neg_mean_absolute_error of the regression model: 22.041 ± 2.429\n",
      "Score neg_mean_squared_error of the regression model: 1463.919 ± 1037.629\n",
      "Score neg_root_mean_squared_error of the regression model: 36.575 ± 11.233\n",
      "Score neg_median_absolute_error of the regression model: 15.730 ± 1.680\n",
      "Score r2 of the regression model: 0.772 ± 0.141\n",
      "Score neg_mean_absolute_percentage_error of the regression model: 0.132 ± 0.018\n"
     ]
    }
   ],
   "source": [
    "from sklearn.model_selection import cross_validate\n",
    "\n",
    "scoring = [\n",
    "    'explained_variance',\n",
    "    'max_error',\n",
    "    'neg_mean_absolute_error',\n",
    "    'neg_mean_squared_error',\n",
    "    'neg_root_mean_squared_error',\n",
    "    'neg_median_absolute_error',\n",
    "    'r2',\n",
    "    'neg_mean_absolute_percentage_error',\n",
    "]\n",
    "\n",
    "cv_scores = cross_validate(\n",
    "    model, data, target, cv=cv, scoring=scoring\n",
    ")\n",
    "for score in scoring:\n",
    "    if 'neg' in score:\n",
    "        print(f\"Score {score} of the regression model: \"\n",
    "              f\"{-cv_scores['test_'+score].mean():.3f} ± {cv_scores['test_'+score].std():.3f}\")\n",
    "    else:\n",
    "        print(f\"Score {score} of the regression model: \"\n",
    "              f\"{cv_scores['test_'+score].mean():.3f} ± {cv_scores['test_'+score].std():.3f}\")"
   ]
  }
 ],
 "metadata": {
  "jupytext": {
   "encoding": "# -*- coding: utf-8 -*-",
   "main_language": "python"
  },
  "kernelspec": {
   "display_name": "Python 3 (ipykernel)",
   "language": "python",
   "name": "python3"
  },
  "language_info": {
   "codemirror_mode": {
    "name": "ipython",
    "version": 3
   },
   "file_extension": ".py",
   "mimetype": "text/x-python",
   "name": "python",
   "nbconvert_exporter": "python",
   "pygments_lexer": "ipython3",
   "version": "3.10.6"
  }
 },
 "nbformat": 4,
 "nbformat_minor": 5
}
