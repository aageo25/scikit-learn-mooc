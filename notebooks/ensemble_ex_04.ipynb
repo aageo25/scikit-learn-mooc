{
 "cells": [
  {
   "cell_type": "markdown",
   "id": "dce215e7",
   "metadata": {},
   "source": [
    "# 📝 Exercise M6.04\n",
    "\n",
    "The aim of the exercise is to get familiar with the histogram\n",
    "gradient-boosting in scikit-learn. Besides, we will use this model within\n",
    "a cross-validation framework in order to inspect internal parameters found\n",
    "via grid-search.\n",
    "\n",
    "We will use the California housing dataset."
   ]
  },
  {
   "cell_type": "code",
   "execution_count": 1,
   "id": "438b6389",
   "metadata": {},
   "outputs": [],
   "source": [
    "from sklearn.datasets import fetch_california_housing\n",
    "\n",
    "data, target = fetch_california_housing(return_X_y=True, as_frame=True)\n",
    "target *= 100  # rescale the target in k$"
   ]
  },
  {
   "cell_type": "markdown",
   "id": "a6f49fbc",
   "metadata": {},
   "source": [
    "First, create a histogram gradient boosting regressor. You can set the\n",
    "trees number to be large, and configure the model to use early-stopping."
   ]
  },
  {
   "cell_type": "code",
   "execution_count": 5,
   "id": "5abf600f",
   "metadata": {},
   "outputs": [],
   "source": [
    "from sklearn.ensemble import HistGradientBoostingRegressor\n",
    "\n",
    "hgbr = HistGradientBoostingRegressor(\n",
    "    max_iter=10000,\n",
    "    early_stopping=True, random_state=0)"
   ]
  },
  {
   "cell_type": "markdown",
   "id": "9ebccba3",
   "metadata": {},
   "source": [
    "We will use a grid-search to find some optimal parameter for this model.\n",
    "In this grid-search, you should search for the following parameters:\n",
    "\n",
    "* `max_depth: [3, 8]`;\n",
    "* `max_leaf_nodes: [15, 31]`;\n",
    "* `learning_rate: [0.1, 1]`.\n",
    "\n",
    "Feel free to explore the space with additional values. Create the\n",
    "grid-search providing the previous gradient boosting instance as the model."
   ]
  },
  {
   "cell_type": "code",
   "execution_count": 7,
   "id": "7d623231-b415-49c4-9145-c5be72416516",
   "metadata": {},
   "outputs": [],
   "source": [
    "from sklearn.model_selection import GridSearchCV"
   ]
  },
  {
   "cell_type": "code",
   "execution_count": 32,
   "id": "efdba3a2-d6db-4c3d-be67-cfb2456928f6",
   "metadata": {},
   "outputs": [],
   "source": [
    "param_distributions = {\n",
    "    'max_depth': [3, 8],\n",
    "    'max_leaf_nodes': [15, 31],\n",
    "    'learning_rate': [0.1, 1]\n",
    "}\n",
    "\n",
    "model_grid_search = GridSearchCV(\n",
    "    hgbr, param_grid=param_distributions, scoring='neg_mean_absolute_error',\n",
    "    n_jobs=4\n",
    ")"
   ]
  },
  {
   "cell_type": "code",
   "execution_count": 20,
   "id": "4740b49c-cf92-49c3-a4a2-990c79554bce",
   "metadata": {},
   "outputs": [
    {
     "name": "stdout",
     "output_type": "stream",
     "text": [
      "The test accuracy score is: 24.87\n"
     ]
    }
   ],
   "source": [
    "accuracy = model_grid_search.score(data, target)\n",
    "\n",
    "print(\n",
    "    f\"The test accuracy score is: \"\n",
    "    f\"{-accuracy:.2f}\"\n",
    ")"
   ]
  },
  {
   "cell_type": "markdown",
   "id": "e3abdc1c",
   "metadata": {},
   "source": [
    "Finally, we will run our experiment through cross-validation. In this regard,\n",
    "define a 5-fold cross-validation. Besides, be sure to shuffle the data.\n",
    "Subsequently, use the function `sklearn.model_selection.cross_validate`\n",
    "to run the cross-validation. You should also set `return_estimator=True`,\n",
    "so that we can investigate the inner model trained via cross-validation."
   ]
  },
  {
   "cell_type": "code",
   "execution_count": 33,
   "id": "95fa63cc-edef-42b9-a549-8f9b10bf70f7",
   "metadata": {},
   "outputs": [],
   "source": [
    "# Write your code here.\n",
    "from sklearn.model_selection import cross_validate\n",
    "from sklearn.model_selection import KFold"
   ]
  },
  {
   "cell_type": "code",
   "execution_count": 35,
   "id": "cdfbfa48-333d-44da-9487-e65771c390c3",
   "metadata": {},
   "outputs": [],
   "source": [
    "cv = KFold(n_splits=5, shuffle=True, random_state=0)\n",
    "\n",
    "cv_results = cross_validate(\n",
    "    model_grid_search, data, target,\n",
    "    return_estimator=True,\n",
    "    cv=cv,\n",
    "    n_jobs=4,\n",
    "    scoring='neg_mean_absolute_error'\n",
    ")"
   ]
  },
  {
   "cell_type": "markdown",
   "id": "c8a8cbb6",
   "metadata": {},
   "source": [
    "Now that we got the cross-validation results, print out the mean and\n",
    "standard deviation score."
   ]
  },
  {
   "cell_type": "code",
   "execution_count": 36,
   "id": "cf0a7073",
   "metadata": {},
   "outputs": [
    {
     "name": "stdout",
     "output_type": "stream",
     "text": [
      "Histogram Gradient Boosting Decision Tree\n",
      "Mean absolute error via cross-validation: 30.470 ± 0.296\n"
     ]
    }
   ],
   "source": [
    "print('Histogram Gradient Boosting Decision Tree')\n",
    "print(\n",
    "    f\"Mean absolute error via cross-validation: \"\n",
    "    f\"{-cv_results['test_score'].mean():.3f} ± \"\n",
    "    f\"{cv_results['test_score'].std():.3f}\"\n",
    ")"
   ]
  },
  {
   "cell_type": "markdown",
   "id": "47773641",
   "metadata": {},
   "source": [
    "Then inspect the `estimator` entry of the results and check the best\n",
    "parameters values. Besides, check the number of trees used by the model."
   ]
  },
  {
   "cell_type": "code",
   "execution_count": 40,
   "id": "5a93f648",
   "metadata": {},
   "outputs": [
    {
     "name": "stdout",
     "output_type": "stream",
     "text": [
      "{'learning_rate': 0.1, 'max_depth': 8, 'max_leaf_nodes': 31}\n",
      " # trees: 214\n",
      "{'learning_rate': 0.1, 'max_depth': 8, 'max_leaf_nodes': 15}\n",
      " # trees: 447\n",
      "{'learning_rate': 0.1, 'max_depth': 8, 'max_leaf_nodes': 15}\n",
      " # trees: 423\n",
      "{'learning_rate': 0.1, 'max_depth': 8, 'max_leaf_nodes': 15}\n",
      " # trees: 290\n",
      "{'learning_rate': 0.1, 'max_depth': 8, 'max_leaf_nodes': 31}\n",
      " # trees: 145\n"
     ]
    }
   ],
   "source": [
    "for estimator in cv_results['estimator']:\n",
    "    print(estimator.best_params_)\n",
    "    print(f\" # trees: {estimator.best_estimator_.n_iter_}\")"
   ]
  },
  {
   "cell_type": "markdown",
   "id": "d7898bfb",
   "metadata": {},
   "source": [
    "Inspect the results of the inner CV for each estimator of the outer CV.\n",
    "Aggregate the mean test score for each parameter combination and make a box\n",
    "plot of these scores."
   ]
  },
  {
   "cell_type": "code",
   "execution_count": 41,
   "id": "e63aaa46",
   "metadata": {},
   "outputs": [],
   "source": [
    "import pandas as pd\n",
    "\n",
    "index_columns = [f\"param_{name}\" for name in param_distributions.keys()]\n",
    "columns = index_columns + ['mean_test_score']\n",
    "\n",
    "inner_cv_results = []\n",
    "for cv_idx, estimator in enumerate(cv_results['estimator']):\n",
    "    search_cv_results = pd.DataFrame(estimator.cv_results_)\n",
    "    search_cv_results = search_cv_results[columns].set_index(index_columns)\n",
    "    search_cv_results = search_cv_results.rename(\n",
    "        columns={'mean_test_score': f\"CV {cv_idx}\"})\n",
    "    inner_cv_results.append(search_cv_results)\n",
    "inner_cv_results = pd.concat(inner_cv_results, axis=1).T"
   ]
  },
  {
   "cell_type": "code",
   "execution_count": 43,
   "id": "5306b017-4572-4bee-8a85-73a868db54fb",
   "metadata": {},
   "outputs": [
    {
     "data": {
      "image/png": "[encoded data removed]",
      "text/plain": [
       "<Figure size 432x288 with 1 Axes>"
      ]
     },
     "metadata": {
      "needs_background": "light"
     },
     "output_type": "display_data"
    }
   ],
   "source": [
    "import matplotlib.pyplot as plt\n",
    "\n",
    "color = {'whiskers': 'black', 'medians': 'black', 'caps': 'black'}\n",
    "inner_cv_results.plot.box(vert=False, color=color)\n",
    "plt.xlabel('neg mean absolute error')\n",
    "plt.ylabel('Parameters')\n",
    "_ = plt.title(\"Inner CV results with parameters\\n\"\n",
    "              \"(max_depth, max_leaf_nodes, learnng_rate)\")"
   ]
  },
  {
   "cell_type": "code",
   "execution_count": 44,
   "id": "f55a5888-9030-4b01-a780-47e63988f775",
   "metadata": {},
   "outputs": [
    {
     "data": {
      "text/html": [
       "<div>\n",
       "<style scoped>\n",
       "    .dataframe tbody tr th:only-of-type {\n",
       "        vertical-align: middle;\n",
       "    }\n",
       "\n",
       "    .dataframe tbody tr th {\n",
       "        vertical-align: top;\n",
       "    }\n",
       "\n",
       "    .dataframe thead tr th {\n",
       "        text-align: left;\n",
       "    }\n",
       "</style>\n",
       "<table border=\"1\" class=\"dataframe\">\n",
       "  <thead>\n",
       "    <tr>\n",
       "      <th>param_max_depth</th>\n",
       "      <th colspan=\"2\" halign=\"left\">3</th>\n",
       "      <th colspan=\"2\" halign=\"left\">8</th>\n",
       "      <th colspan=\"2\" halign=\"left\">3</th>\n",
       "      <th colspan=\"2\" halign=\"left\">8</th>\n",
       "    </tr>\n",
       "    <tr>\n",
       "      <th>param_max_leaf_nodes</th>\n",
       "      <th>15</th>\n",
       "      <th>31</th>\n",
       "      <th>15</th>\n",
       "      <th>31</th>\n",
       "      <th>15</th>\n",
       "      <th>31</th>\n",
       "      <th>15</th>\n",
       "      <th>31</th>\n",
       "    </tr>\n",
       "    <tr>\n",
       "      <th>param_learning_rate</th>\n",
       "      <th>0.1</th>\n",
       "      <th>0.1</th>\n",
       "      <th>0.1</th>\n",
       "      <th>0.1</th>\n",
       "      <th>1.0</th>\n",
       "      <th>1.0</th>\n",
       "      <th>1.0</th>\n",
       "      <th>1.0</th>\n",
       "    </tr>\n",
       "  </thead>\n",
       "  <tbody>\n",
       "    <tr>\n",
       "      <th>CV 0</th>\n",
       "      <td>-45.363795</td>\n",
       "      <td>-45.363795</td>\n",
       "      <td>-44.418063</td>\n",
       "      <td>-44.024151</td>\n",
       "      <td>-51.784022</td>\n",
       "      <td>-51.784022</td>\n",
       "      <td>-52.357514</td>\n",
       "      <td>-55.777035</td>\n",
       "    </tr>\n",
       "    <tr>\n",
       "      <th>CV 1</th>\n",
       "      <td>-44.983669</td>\n",
       "      <td>-44.983669</td>\n",
       "      <td>-42.684050</td>\n",
       "      <td>-44.082431</td>\n",
       "      <td>-48.438538</td>\n",
       "      <td>-48.438538</td>\n",
       "      <td>-52.913829</td>\n",
       "      <td>-54.148831</td>\n",
       "    </tr>\n",
       "    <tr>\n",
       "      <th>CV 2</th>\n",
       "      <td>-44.371186</td>\n",
       "      <td>-44.371186</td>\n",
       "      <td>-43.708911</td>\n",
       "      <td>-44.348723</td>\n",
       "      <td>-51.082222</td>\n",
       "      <td>-51.082222</td>\n",
       "      <td>-52.824518</td>\n",
       "      <td>-54.231546</td>\n",
       "    </tr>\n",
       "    <tr>\n",
       "      <th>CV 3</th>\n",
       "      <td>-46.687255</td>\n",
       "      <td>-46.687255</td>\n",
       "      <td>-44.976488</td>\n",
       "      <td>-44.980240</td>\n",
       "      <td>-51.690035</td>\n",
       "      <td>-51.690035</td>\n",
       "      <td>-52.151477</td>\n",
       "      <td>-54.995510</td>\n",
       "    </tr>\n",
       "    <tr>\n",
       "      <th>CV 4</th>\n",
       "      <td>-46.133727</td>\n",
       "      <td>-46.133727</td>\n",
       "      <td>-44.111906</td>\n",
       "      <td>-43.745421</td>\n",
       "      <td>-50.199512</td>\n",
       "      <td>-50.199512</td>\n",
       "      <td>-53.214412</td>\n",
       "      <td>-53.559586</td>\n",
       "    </tr>\n",
       "  </tbody>\n",
       "</table>\n",
       "</div>"
      ],
      "text/plain": [
       "param_max_depth               3                     8                     3  \\\n",
       "param_max_leaf_nodes         15         31         15         31         15   \n",
       "param_learning_rate         0.1        0.1        0.1        0.1        1.0   \n",
       "CV 0                 -45.363795 -45.363795 -44.418063 -44.024151 -51.784022   \n",
       "CV 1                 -44.983669 -44.983669 -42.684050 -44.082431 -48.438538   \n",
       "CV 2                 -44.371186 -44.371186 -43.708911 -44.348723 -51.082222   \n",
       "CV 3                 -46.687255 -46.687255 -44.976488 -44.980240 -51.690035   \n",
       "CV 4                 -46.133727 -46.133727 -44.111906 -43.745421 -50.199512   \n",
       "\n",
       "param_max_depth                          8             \n",
       "param_max_leaf_nodes         31         15         31  \n",
       "param_learning_rate         1.0        1.0        1.0  \n",
       "CV 0                 -51.784022 -52.357514 -55.777035  \n",
       "CV 1                 -48.438538 -52.913829 -54.148831  \n",
       "CV 2                 -51.082222 -52.824518 -54.231546  \n",
       "CV 3                 -51.690035 -52.151477 -54.995510  \n",
       "CV 4                 -50.199512 -53.214412 -53.559586  "
      ]
     },
     "execution_count": 44,
     "metadata": {},
     "output_type": "execute_result"
    }
   ],
   "source": [
    "inner_cv_results"
   ]
  },
  {
   "cell_type": "code",
   "execution_count": null,
   "id": "8c532be1-ded7-442b-92fb-51b892a55006",
   "metadata": {},
   "outputs": [],
   "source": []
  }
 ],
 "metadata": {
  "jupytext": {
   "encoding": "# -*- coding: utf-8 -*-",
   "main_language": "python"
  },
  "kernelspec": {
   "display_name": "Python 3 (ipykernel)",
   "language": "python",
   "name": "python3"
  },
  "language_info": {
   "codemirror_mode": {
    "name": "ipython",
    "version": 3
   },
   "file_extension": ".py",
   "mimetype": "text/x-python",
   "name": "python",
   "nbconvert_exporter": "python",
   "pygments_lexer": "ipython3",
   "version": "3.10.6"
  }
 },
 "nbformat": 4,
 "nbformat_minor": 5
}
