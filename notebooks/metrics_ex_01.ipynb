{
 "cells": [
  {
   "cell_type": "markdown",
   "id": "80e8e3f9",
   "metadata": {},
   "source": [
    "# 📝 Exercise M7.02\n",
    "\n",
    "We presented different classification metrics in the previous notebook.\n",
    "However, we did not use it with a cross-validation. This exercise aims at\n",
    "practicing and implementing cross-validation.\n",
    "\n",
    "We will reuse the blood transfusion dataset."
   ]
  },
  {
   "cell_type": "code",
   "execution_count": 1,
   "id": "117bd6ba",
   "metadata": {},
   "outputs": [],
   "source": [
    "import pandas as pd\n",
    "\n",
    "blood_transfusion = pd.read_csv(\"../datasets/blood_transfusion.csv\")\n",
    "data = blood_transfusion.drop(columns=\"Class\")\n",
    "target = blood_transfusion[\"Class\"]"
   ]
  },
  {
   "cell_type": "code",
   "execution_count": 19,
   "id": "e389e0e4-2ae4-487a-bd49-8c2ad2437f88",
   "metadata": {},
   "outputs": [],
   "source": [
    "from sklearn.model_selection import train_test_split\n",
    "\n",
    "data_train, data_test, target_train, target_test = train_test_split(\n",
    "    data, target, shuffle=True, random_state=0, test_size=0.5\n",
    ")"
   ]
  },
  {
   "cell_type": "markdown",
   "id": "a67e282c",
   "metadata": {},
   "source": [
    "<div class=\"admonition note alert alert-info\">\n",
    "<p class=\"first admonition-title\" style=\"font-weight: bold;\">Note</p>\n",
    "<p class=\"last\">If you want a deeper overview regarding this dataset, you can refer to the\n",
    "Appendix - Datasets description section at the end of this MOOC.</p>\n",
    "</div>"
   ]
  },
  {
   "cell_type": "markdown",
   "id": "e3f80649",
   "metadata": {},
   "source": [
    "First, create a decision tree classifier."
   ]
  },
  {
   "cell_type": "code",
   "execution_count": 25,
   "id": "f58f3ab8",
   "metadata": {},
   "outputs": [
    {
     "data": {
      "text/html": [
       "<style>#sk-container-id-2 {color: black;}#sk-container-id-2 pre{padding: 0;}#sk-container-id-2 div.sk-toggleable {background-color: white;}#sk-container-id-2 label.sk-toggleable__label {cursor: pointer;display: block;width: 100%;margin-bottom: 0;padding: 0.3em;box-sizing: border-box;text-align: center;}#sk-container-id-2 label.sk-toggleable__label-arrow:before {content: \"▸\";float: left;margin-right: 0.25em;color: #696969;}#sk-container-id-2 label.sk-toggleable__label-arrow:hover:before {color: black;}#sk-container-id-2 div.sk-estimator:hover label.sk-toggleable__label-arrow:before {color: black;}#sk-container-id-2 div.sk-toggleable__content {max-height: 0;max-width: 0;overflow: hidden;text-align: left;background-color: #f0f8ff;}#sk-container-id-2 div.sk-toggleable__content pre {margin: 0.2em;color: black;border-radius: 0.25em;background-color: #f0f8ff;}#sk-container-id-2 input.sk-toggleable__control:checked~div.sk-toggleable__content {max-height: 200px;max-width: 100%;overflow: auto;}#sk-container-id-2 input.sk-toggleable__control:checked~label.sk-toggleable__label-arrow:before {content: \"▾\";}#sk-container-id-2 div.sk-estimator input.sk-toggleable__control:checked~label.sk-toggleable__label {background-color: #d4ebff;}#sk-container-id-2 div.sk-label input.sk-toggleable__control:checked~label.sk-toggleable__label {background-color: #d4ebff;}#sk-container-id-2 input.sk-hidden--visually {border: 0;clip: rect(1px 1px 1px 1px);clip: rect(1px, 1px, 1px, 1px);height: 1px;margin: -1px;overflow: hidden;padding: 0;position: absolute;width: 1px;}#sk-container-id-2 div.sk-estimator {font-family: monospace;background-color: #f0f8ff;border: 1px dotted black;border-radius: 0.25em;box-sizing: border-box;margin-bottom: 0.5em;}#sk-container-id-2 div.sk-estimator:hover {background-color: #d4ebff;}#sk-container-id-2 div.sk-parallel-item::after {content: \"\";width: 100%;border-bottom: 1px solid gray;flex-grow: 1;}#sk-container-id-2 div.sk-label:hover label.sk-toggleable__label {background-color: #d4ebff;}#sk-container-id-2 div.sk-serial::before {content: \"\";position: absolute;border-left: 1px solid gray;box-sizing: border-box;top: 0;bottom: 0;left: 50%;z-index: 0;}#sk-container-id-2 div.sk-serial {display: flex;flex-direction: column;align-items: center;background-color: white;padding-right: 0.2em;padding-left: 0.2em;position: relative;}#sk-container-id-2 div.sk-item {position: relative;z-index: 1;}#sk-container-id-2 div.sk-parallel {display: flex;align-items: stretch;justify-content: center;background-color: white;position: relative;}#sk-container-id-2 div.sk-item::before, #sk-container-id-2 div.sk-parallel-item::before {content: \"\";position: absolute;border-left: 1px solid gray;box-sizing: border-box;top: 0;bottom: 0;left: 50%;z-index: -1;}#sk-container-id-2 div.sk-parallel-item {display: flex;flex-direction: column;z-index: 1;position: relative;background-color: white;}#sk-container-id-2 div.sk-parallel-item:first-child::after {align-self: flex-end;width: 50%;}#sk-container-id-2 div.sk-parallel-item:last-child::after {align-self: flex-start;width: 50%;}#sk-container-id-2 div.sk-parallel-item:only-child::after {width: 0;}#sk-container-id-2 div.sk-dashed-wrapped {border: 1px dashed gray;margin: 0 0.4em 0.5em 0.4em;box-sizing: border-box;padding-bottom: 0.4em;background-color: white;}#sk-container-id-2 div.sk-label label {font-family: monospace;font-weight: bold;display: inline-block;line-height: 1.2em;}#sk-container-id-2 div.sk-label-container {text-align: center;}#sk-container-id-2 div.sk-container {/* jupyter's `normalize.less` sets `[hidden] { display: none; }` but bootstrap.min.css set `[hidden] { display: none !important; }` so we also need the `!important` here to be able to override the default hidden behavior on the sphinx rendered scikit-learn.org. See: https://github.com/scikit-learn/scikit-learn/issues/21755 */display: inline-block !important;position: relative;}#sk-container-id-2 div.sk-text-repr-fallback {display: none;}</style><div id=\"sk-container-id-2\" class=\"sk-top-container\"><div class=\"sk-text-repr-fallback\"><pre>DecisionTreeClassifier()</pre><b>In a Jupyter environment, please rerun this cell to show the HTML representation or trust the notebook. <br />On GitHub, the HTML representation is unable to render, please try loading this page with nbviewer.org.</b></div><div class=\"sk-container\" hidden><div class=\"sk-item\"><div class=\"sk-estimator sk-toggleable\"><input class=\"sk-toggleable__control sk-hidden--visually\" id=\"sk-estimator-id-2\" type=\"checkbox\" checked><label for=\"sk-estimator-id-2\" class=\"sk-toggleable__label sk-toggleable__label-arrow\">DecisionTreeClassifier</label><div class=\"sk-toggleable__content\"><pre>DecisionTreeClassifier()</pre></div></div></div></div></div>"
      ],
      "text/plain": [
       "DecisionTreeClassifier()"
      ]
     },
     "execution_count": 25,
     "metadata": {},
     "output_type": "execute_result"
    }
   ],
   "source": [
    "from sklearn.tree import DecisionTreeClassifier\n",
    "\n",
    "model = DecisionTreeClassifier()\n",
    "model.fit(data, target)"
   ]
  },
  {
   "cell_type": "markdown",
   "id": "9dc8c5c1",
   "metadata": {},
   "source": [
    "Create a `StratifiedKFold` cross-validation object. Then use it inside the\n",
    "`cross_val_score` function to evaluate the decision tree. We will first use\n",
    "the accuracy as a score function. Explicitly use the `scoring` parameter\n",
    "of `cross_val_score` to compute the accuracy (even if this is the default\n",
    "score). Check its documentation to learn how to do that."
   ]
  },
  {
   "cell_type": "code",
   "execution_count": 52,
   "id": "16353f25",
   "metadata": {},
   "outputs": [
    {
     "name": "stdout",
     "output_type": "stream",
     "text": [
      "Accuracy score: 0.605 ± 0.099\n"
     ]
    }
   ],
   "source": [
    "from sklearn.model_selection import StratifiedKFold, cross_val_score\n",
    "\n",
    "cv = StratifiedKFold(shuffle=True, random_state=0)\n",
    "cv_score = cross_val_score(model, data, target, scoring='accuracy', n_jobs=4)\n",
    "print(f\"Accuracy score: {cv_score.mean():.3f} ± {cv_score.std():.3f}\")"
   ]
  },
  {
   "cell_type": "markdown",
   "id": "b9fe9e9d",
   "metadata": {},
   "source": [
    "Repeat the experiment by computing the `balanced_accuracy`."
   ]
  },
  {
   "cell_type": "code",
   "execution_count": 53,
   "id": "5621d429",
   "metadata": {},
   "outputs": [
    {
     "name": "stdout",
     "output_type": "stream",
     "text": [
      "Accuracy score: 0.504 ± 0.075\n"
     ]
    }
   ],
   "source": [
    "cv_score = cross_val_score(model, data, target, scoring='balanced_accuracy', n_jobs=4)\n",
    "print(f\"Accuracy score: {cv_score.mean():.3f} ± {cv_score.std():.3f}\")"
   ]
  },
  {
   "cell_type": "markdown",
   "id": "a6c2defe",
   "metadata": {},
   "source": [
    "We will now add a bit of complexity. We would like to compute the precision\n",
    "of our model. However, during the course we saw that we need to mention the\n",
    "positive label which in our case we consider to be the class `donated`.\n",
    "\n",
    "We will show that computing the precision without providing the positive\n",
    "label will not be supported by scikit-learn because it is indeed ambiguous."
   ]
  },
  {
   "cell_type": "code",
   "execution_count": 29,
   "id": "7e494b71",
   "metadata": {
    "scrolled": true
   },
   "outputs": [
    {
     "name": "stderr",
     "output_type": "stream",
     "text": [
      "/home/ageo/.local/lib/python3.10/site-packages/sklearn/model_selection/_validation.py:842: UserWarning: Scoring failed. The score on this train-test partition for these parameters will be set to nan. Details: \n",
      "Traceback (most recent call last):\n",
      "  File \"/home/ageo/.local/lib/python3.10/site-packages/sklearn/metrics/_scorer.py\", line 136, in __call__\n",
      "    score = scorer._score(\n",
      "  File \"/home/ageo/.local/lib/python3.10/site-packages/sklearn/metrics/_scorer.py\", line 355, in _score\n",
      "    return self._sign * self._score_func(y_true, y_pred, **scoring_kwargs)\n",
      "  File \"/home/ageo/.local/lib/python3.10/site-packages/sklearn/utils/_param_validation.py\", line 211, in wrapper\n",
      "    return func(*args, **kwargs)\n",
      "  File \"/home/ageo/.local/lib/python3.10/site-packages/sklearn/metrics/_classification.py\", line 2127, in precision_score\n",
      "    p, _, _, _ = precision_recall_fscore_support(\n",
      "  File \"/home/ageo/.local/lib/python3.10/site-packages/sklearn/utils/_param_validation.py\", line 184, in wrapper\n",
      "    return func(*args, **kwargs)\n",
      "  File \"/home/ageo/.local/lib/python3.10/site-packages/sklearn/metrics/_classification.py\", line 1721, in precision_recall_fscore_support\n",
      "    labels = _check_set_wise_labels(y_true, y_pred, average, labels, pos_label)\n",
      "  File \"/home/ageo/.local/lib/python3.10/site-packages/sklearn/metrics/_classification.py\", line 1507, in _check_set_wise_labels\n",
      "    raise ValueError(\n",
      "ValueError: pos_label=1 is not a valid label. It should be one of ['donated', 'not donated']\n",
      "\n",
      "  warnings.warn(\n",
      "/home/ageo/.local/lib/python3.10/site-packages/sklearn/model_selection/_validation.py:842: UserWarning: Scoring failed. The score on this train-test partition for these parameters will be set to nan. Details: \n",
      "Traceback (most recent call last):\n",
      "  File \"/home/ageo/.local/lib/python3.10/site-packages/sklearn/metrics/_scorer.py\", line 136, in __call__\n",
      "    score = scorer._score(\n",
      "  File \"/home/ageo/.local/lib/python3.10/site-packages/sklearn/metrics/_scorer.py\", line 355, in _score\n",
      "    return self._sign * self._score_func(y_true, y_pred, **scoring_kwargs)\n",
      "  File \"/home/ageo/.local/lib/python3.10/site-packages/sklearn/utils/_param_validation.py\", line 211, in wrapper\n",
      "    return func(*args, **kwargs)\n",
      "  File \"/home/ageo/.local/lib/python3.10/site-packages/sklearn/metrics/_classification.py\", line 2127, in precision_score\n",
      "    p, _, _, _ = precision_recall_fscore_support(\n",
      "  File \"/home/ageo/.local/lib/python3.10/site-packages/sklearn/utils/_param_validation.py\", line 184, in wrapper\n",
      "    return func(*args, **kwargs)\n",
      "  File \"/home/ageo/.local/lib/python3.10/site-packages/sklearn/metrics/_classification.py\", line 1721, in precision_recall_fscore_support\n",
      "    labels = _check_set_wise_labels(y_true, y_pred, average, labels, pos_label)\n",
      "  File \"/home/ageo/.local/lib/python3.10/site-packages/sklearn/metrics/_classification.py\", line 1507, in _check_set_wise_labels\n",
      "    raise ValueError(\n",
      "ValueError: pos_label=1 is not a valid label. It should be one of ['donated', 'not donated']\n",
      "\n",
      "  warnings.warn(\n",
      "/home/ageo/.local/lib/python3.10/site-packages/sklearn/model_selection/_validation.py:842: UserWarning: Scoring failed. The score on this train-test partition for these parameters will be set to nan. Details: \n",
      "Traceback (most recent call last):\n",
      "  File \"/home/ageo/.local/lib/python3.10/site-packages/sklearn/metrics/_scorer.py\", line 136, in __call__\n",
      "    score = scorer._score(\n",
      "  File \"/home/ageo/.local/lib/python3.10/site-packages/sklearn/metrics/_scorer.py\", line 355, in _score\n",
      "    return self._sign * self._score_func(y_true, y_pred, **scoring_kwargs)\n",
      "  File \"/home/ageo/.local/lib/python3.10/site-packages/sklearn/utils/_param_validation.py\", line 211, in wrapper\n",
      "    return func(*args, **kwargs)\n",
      "  File \"/home/ageo/.local/lib/python3.10/site-packages/sklearn/metrics/_classification.py\", line 2127, in precision_score\n",
      "    p, _, _, _ = precision_recall_fscore_support(\n",
      "  File \"/home/ageo/.local/lib/python3.10/site-packages/sklearn/utils/_param_validation.py\", line 184, in wrapper\n",
      "    return func(*args, **kwargs)\n",
      "  File \"/home/ageo/.local/lib/python3.10/site-packages/sklearn/metrics/_classification.py\", line 1721, in precision_recall_fscore_support\n",
      "    labels = _check_set_wise_labels(y_true, y_pred, average, labels, pos_label)\n",
      "  File \"/home/ageo/.local/lib/python3.10/site-packages/sklearn/metrics/_classification.py\", line 1507, in _check_set_wise_labels\n",
      "    raise ValueError(\n",
      "ValueError: pos_label=1 is not a valid label. It should be one of ['donated', 'not donated']\n",
      "\n",
      "  warnings.warn(\n",
      "/home/ageo/.local/lib/python3.10/site-packages/sklearn/model_selection/_validation.py:842: UserWarning: Scoring failed. The score on this train-test partition for these parameters will be set to nan. Details: \n",
      "Traceback (most recent call last):\n",
      "  File \"/home/ageo/.local/lib/python3.10/site-packages/sklearn/metrics/_scorer.py\", line 136, in __call__\n",
      "    score = scorer._score(\n",
      "  File \"/home/ageo/.local/lib/python3.10/site-packages/sklearn/metrics/_scorer.py\", line 355, in _score\n",
      "    return self._sign * self._score_func(y_true, y_pred, **scoring_kwargs)\n",
      "  File \"/home/ageo/.local/lib/python3.10/site-packages/sklearn/utils/_param_validation.py\", line 211, in wrapper\n",
      "    return func(*args, **kwargs)\n",
      "  File \"/home/ageo/.local/lib/python3.10/site-packages/sklearn/metrics/_classification.py\", line 2127, in precision_score\n",
      "    p, _, _, _ = precision_recall_fscore_support(\n",
      "  File \"/home/ageo/.local/lib/python3.10/site-packages/sklearn/utils/_param_validation.py\", line 184, in wrapper\n",
      "    return func(*args, **kwargs)\n",
      "  File \"/home/ageo/.local/lib/python3.10/site-packages/sklearn/metrics/_classification.py\", line 1721, in precision_recall_fscore_support\n",
      "    labels = _check_set_wise_labels(y_true, y_pred, average, labels, pos_label)\n",
      "  File \"/home/ageo/.local/lib/python3.10/site-packages/sklearn/metrics/_classification.py\", line 1507, in _check_set_wise_labels\n",
      "    raise ValueError(\n",
      "ValueError: pos_label=1 is not a valid label. It should be one of ['donated', 'not donated']\n",
      "\n",
      "  warnings.warn(\n",
      "/home/ageo/.local/lib/python3.10/site-packages/sklearn/model_selection/_validation.py:842: UserWarning: Scoring failed. The score on this train-test partition for these parameters will be set to nan. Details: \n",
      "Traceback (most recent call last):\n",
      "  File \"/home/ageo/.local/lib/python3.10/site-packages/sklearn/metrics/_scorer.py\", line 136, in __call__\n",
      "    score = scorer._score(\n",
      "  File \"/home/ageo/.local/lib/python3.10/site-packages/sklearn/metrics/_scorer.py\", line 355, in _score\n",
      "    return self._sign * self._score_func(y_true, y_pred, **scoring_kwargs)\n",
      "  File \"/home/ageo/.local/lib/python3.10/site-packages/sklearn/utils/_param_validation.py\", line 211, in wrapper\n",
      "    return func(*args, **kwargs)\n",
      "  File \"/home/ageo/.local/lib/python3.10/site-packages/sklearn/metrics/_classification.py\", line 2127, in precision_score\n",
      "    p, _, _, _ = precision_recall_fscore_support(\n",
      "  File \"/home/ageo/.local/lib/python3.10/site-packages/sklearn/utils/_param_validation.py\", line 184, in wrapper\n",
      "    return func(*args, **kwargs)\n",
      "  File \"/home/ageo/.local/lib/python3.10/site-packages/sklearn/metrics/_classification.py\", line 1721, in precision_recall_fscore_support\n",
      "    labels = _check_set_wise_labels(y_true, y_pred, average, labels, pos_label)\n",
      "  File \"/home/ageo/.local/lib/python3.10/site-packages/sklearn/metrics/_classification.py\", line 1507, in _check_set_wise_labels\n",
      "    raise ValueError(\n",
      "ValueError: pos_label=1 is not a valid label. It should be one of ['donated', 'not donated']\n",
      "\n",
      "  warnings.warn(\n",
      "/home/ageo/.local/lib/python3.10/site-packages/sklearn/model_selection/_validation.py:842: UserWarning: Scoring failed. The score on this train-test partition for these parameters will be set to nan. Details: \n",
      "Traceback (most recent call last):\n",
      "  File \"/home/ageo/.local/lib/python3.10/site-packages/sklearn/metrics/_scorer.py\", line 136, in __call__\n",
      "    score = scorer._score(\n",
      "  File \"/home/ageo/.local/lib/python3.10/site-packages/sklearn/metrics/_scorer.py\", line 355, in _score\n",
      "    return self._sign * self._score_func(y_true, y_pred, **scoring_kwargs)\n",
      "  File \"/home/ageo/.local/lib/python3.10/site-packages/sklearn/utils/_param_validation.py\", line 211, in wrapper\n",
      "    return func(*args, **kwargs)\n",
      "  File \"/home/ageo/.local/lib/python3.10/site-packages/sklearn/metrics/_classification.py\", line 2127, in precision_score\n",
      "    p, _, _, _ = precision_recall_fscore_support(\n",
      "  File \"/home/ageo/.local/lib/python3.10/site-packages/sklearn/utils/_param_validation.py\", line 184, in wrapper\n",
      "    return func(*args, **kwargs)\n",
      "  File \"/home/ageo/.local/lib/python3.10/site-packages/sklearn/metrics/_classification.py\", line 1721, in precision_recall_fscore_support\n",
      "    labels = _check_set_wise_labels(y_true, y_pred, average, labels, pos_label)\n",
      "  File \"/home/ageo/.local/lib/python3.10/site-packages/sklearn/metrics/_classification.py\", line 1507, in _check_set_wise_labels\n",
      "    raise ValueError(\n",
      "ValueError: pos_label=1 is not a valid label. It should be one of ['donated', 'not donated']\n",
      "\n",
      "  warnings.warn(\n",
      "/home/ageo/.local/lib/python3.10/site-packages/sklearn/model_selection/_validation.py:842: UserWarning: Scoring failed. The score on this train-test partition for these parameters will be set to nan. Details: \n",
      "Traceback (most recent call last):\n",
      "  File \"/home/ageo/.local/lib/python3.10/site-packages/sklearn/metrics/_scorer.py\", line 136, in __call__\n",
      "    score = scorer._score(\n",
      "  File \"/home/ageo/.local/lib/python3.10/site-packages/sklearn/metrics/_scorer.py\", line 355, in _score\n",
      "    return self._sign * self._score_func(y_true, y_pred, **scoring_kwargs)\n",
      "  File \"/home/ageo/.local/lib/python3.10/site-packages/sklearn/utils/_param_validation.py\", line 211, in wrapper\n",
      "    return func(*args, **kwargs)\n",
      "  File \"/home/ageo/.local/lib/python3.10/site-packages/sklearn/metrics/_classification.py\", line 2127, in precision_score\n",
      "    p, _, _, _ = precision_recall_fscore_support(\n",
      "  File \"/home/ageo/.local/lib/python3.10/site-packages/sklearn/utils/_param_validation.py\", line 184, in wrapper\n",
      "    return func(*args, **kwargs)\n",
      "  File \"/home/ageo/.local/lib/python3.10/site-packages/sklearn/metrics/_classification.py\", line 1721, in precision_recall_fscore_support\n",
      "    labels = _check_set_wise_labels(y_true, y_pred, average, labels, pos_label)\n",
      "  File \"/home/ageo/.local/lib/python3.10/site-packages/sklearn/metrics/_classification.py\", line 1507, in _check_set_wise_labels\n",
      "    raise ValueError(\n",
      "ValueError: pos_label=1 is not a valid label. It should be one of ['donated', 'not donated']\n",
      "\n",
      "  warnings.warn(\n",
      "/home/ageo/.local/lib/python3.10/site-packages/sklearn/model_selection/_validation.py:842: UserWarning: Scoring failed. The score on this train-test partition for these parameters will be set to nan. Details: \n",
      "Traceback (most recent call last):\n",
      "  File \"/home/ageo/.local/lib/python3.10/site-packages/sklearn/metrics/_scorer.py\", line 136, in __call__\n",
      "    score = scorer._score(\n",
      "  File \"/home/ageo/.local/lib/python3.10/site-packages/sklearn/metrics/_scorer.py\", line 355, in _score\n",
      "    return self._sign * self._score_func(y_true, y_pred, **scoring_kwargs)\n",
      "  File \"/home/ageo/.local/lib/python3.10/site-packages/sklearn/utils/_param_validation.py\", line 211, in wrapper\n",
      "    return func(*args, **kwargs)\n",
      "  File \"/home/ageo/.local/lib/python3.10/site-packages/sklearn/metrics/_classification.py\", line 2127, in precision_score\n",
      "    p, _, _, _ = precision_recall_fscore_support(\n",
      "  File \"/home/ageo/.local/lib/python3.10/site-packages/sklearn/utils/_param_validation.py\", line 184, in wrapper\n",
      "    return func(*args, **kwargs)\n",
      "  File \"/home/ageo/.local/lib/python3.10/site-packages/sklearn/metrics/_classification.py\", line 1721, in precision_recall_fscore_support\n",
      "    labels = _check_set_wise_labels(y_true, y_pred, average, labels, pos_label)\n",
      "  File \"/home/ageo/.local/lib/python3.10/site-packages/sklearn/metrics/_classification.py\", line 1507, in _check_set_wise_labels\n",
      "    raise ValueError(\n",
      "ValueError: pos_label=1 is not a valid label. It should be one of ['donated', 'not donated']\n",
      "\n",
      "  warnings.warn(\n",
      "/home/ageo/.local/lib/python3.10/site-packages/sklearn/model_selection/_validation.py:842: UserWarning: Scoring failed. The score on this train-test partition for these parameters will be set to nan. Details: \n",
      "Traceback (most recent call last):\n",
      "  File \"/home/ageo/.local/lib/python3.10/site-packages/sklearn/metrics/_scorer.py\", line 136, in __call__\n",
      "    score = scorer._score(\n",
      "  File \"/home/ageo/.local/lib/python3.10/site-packages/sklearn/metrics/_scorer.py\", line 355, in _score\n",
      "    return self._sign * self._score_func(y_true, y_pred, **scoring_kwargs)\n",
      "  File \"/home/ageo/.local/lib/python3.10/site-packages/sklearn/utils/_param_validation.py\", line 211, in wrapper\n",
      "    return func(*args, **kwargs)\n",
      "  File \"/home/ageo/.local/lib/python3.10/site-packages/sklearn/metrics/_classification.py\", line 2127, in precision_score\n",
      "    p, _, _, _ = precision_recall_fscore_support(\n",
      "  File \"/home/ageo/.local/lib/python3.10/site-packages/sklearn/utils/_param_validation.py\", line 184, in wrapper\n",
      "    return func(*args, **kwargs)\n",
      "  File \"/home/ageo/.local/lib/python3.10/site-packages/sklearn/metrics/_classification.py\", line 1721, in precision_recall_fscore_support\n",
      "    labels = _check_set_wise_labels(y_true, y_pred, average, labels, pos_label)\n",
      "  File \"/home/ageo/.local/lib/python3.10/site-packages/sklearn/metrics/_classification.py\", line 1507, in _check_set_wise_labels\n",
      "    raise ValueError(\n",
      "ValueError: pos_label=1 is not a valid label. It should be one of ['donated', 'not donated']\n",
      "\n",
      "  warnings.warn(\n",
      "/home/ageo/.local/lib/python3.10/site-packages/sklearn/model_selection/_validation.py:842: UserWarning: Scoring failed. The score on this train-test partition for these parameters will be set to nan. Details: \n",
      "Traceback (most recent call last):\n",
      "  File \"/home/ageo/.local/lib/python3.10/site-packages/sklearn/metrics/_scorer.py\", line 136, in __call__\n",
      "    score = scorer._score(\n",
      "  File \"/home/ageo/.local/lib/python3.10/site-packages/sklearn/metrics/_scorer.py\", line 355, in _score\n",
      "    return self._sign * self._score_func(y_true, y_pred, **scoring_kwargs)\n",
      "  File \"/home/ageo/.local/lib/python3.10/site-packages/sklearn/utils/_param_validation.py\", line 211, in wrapper\n",
      "    return func(*args, **kwargs)\n",
      "  File \"/home/ageo/.local/lib/python3.10/site-packages/sklearn/metrics/_classification.py\", line 2127, in precision_score\n",
      "    p, _, _, _ = precision_recall_fscore_support(\n",
      "  File \"/home/ageo/.local/lib/python3.10/site-packages/sklearn/utils/_param_validation.py\", line 184, in wrapper\n",
      "    return func(*args, **kwargs)\n",
      "  File \"/home/ageo/.local/lib/python3.10/site-packages/sklearn/metrics/_classification.py\", line 1721, in precision_recall_fscore_support\n",
      "    labels = _check_set_wise_labels(y_true, y_pred, average, labels, pos_label)\n",
      "  File \"/home/ageo/.local/lib/python3.10/site-packages/sklearn/metrics/_classification.py\", line 1507, in _check_set_wise_labels\n",
      "    raise ValueError(\n",
      "ValueError: pos_label=1 is not a valid label. It should be one of ['donated', 'not donated']\n",
      "\n",
      "  warnings.warn(\n"
     ]
    }
   ],
   "source": [
    "from sklearn.model_selection import cross_val_score\n",
    "from sklearn.tree import DecisionTreeClassifier\n",
    "\n",
    "tree = DecisionTreeClassifier()\n",
    "try:\n",
    "    scores = cross_val_score(tree, data, target, cv=10, scoring=\"precision\")\n",
    "except ValueError as exc:\n",
    "    print(exc)"
   ]
  },
  {
   "cell_type": "markdown",
   "id": "2190eaf5",
   "metadata": {},
   "source": [
    "<div class=\"admonition tip alert alert-warning\">\n",
    "<p class=\"first admonition-title\" style=\"font-weight: bold;\">Tip</p>\n",
    "<p class=\"last\">We catch the exception with a <tt class=\"docutils literal\">try</tt>/<tt class=\"docutils literal\">except</tt> pattern to be able to print it.</p>\n",
    "</div>\n",
    "We get an exception because the default scorer has its positive label set to\n",
    "one (`pos_label=1`), which is not our case (our positive label is \"donated\").\n",
    "In this case, we need to create a scorer using the scoring function and the\n",
    "helper function `make_scorer`.\n",
    "\n",
    "So, import `sklearn.metrics.make_scorer` and\n",
    "`sklearn.metrics.precision_score`. Check their documentations for more\n",
    "information.\n",
    "Finally, create a scorer by calling `make_scorer` using the score function\n",
    "`precision_score` and pass the extra parameter `pos_label=\"donated\"`."
   ]
  },
  {
   "cell_type": "code",
   "execution_count": 34,
   "id": "0ddc9a80",
   "metadata": {},
   "outputs": [],
   "source": [
    "from sklearn.metrics import make_scorer, precision_score\n",
    "\n",
    "scorer = make_scorer(\n",
    "    precision_score,\n",
    "    pos_label='donated',\n",
    ")"
   ]
  },
  {
   "cell_type": "markdown",
   "id": "09735344",
   "metadata": {},
   "source": [
    "Now, instead of providing the string `\"precision\"` to the `scoring` parameter\n",
    "in the `cross_val_score` call, pass the scorer that you created above."
   ]
  },
  {
   "cell_type": "code",
   "execution_count": 54,
   "id": "86eda152",
   "metadata": {},
   "outputs": [
    {
     "name": "stdout",
     "output_type": "stream",
     "text": [
      "Precision score: 0.268 ± 0.169\n"
     ]
    }
   ],
   "source": [
    "scores = cross_val_score(tree, data, target, cv=10, scoring=scorer)\n",
    "\n",
    "print(f\"Precision score: {scores.mean():.3f} ± {scores.std():.3f}\")"
   ]
  },
  {
   "cell_type": "markdown",
   "id": "c80d337e",
   "metadata": {},
   "source": [
    "`cross_val_score` will only compute a single score provided to the `scoring`\n",
    "parameter. The function `cross_validate` allows the computation of multiple\n",
    "scores by passing a list of string or scorer to the parameter `scoring`,\n",
    "which could be handy.\n",
    "\n",
    "Import `sklearn.model_selection.cross_validate` and compute the accuracy and\n",
    "balanced accuracy through cross-validation. Plot the cross-validation score\n",
    "for both metrics using a box plot."
   ]
  },
  {
   "cell_type": "code",
   "execution_count": 56,
   "id": "655e81cb-12a2-4c00-9bd7-bd490018abcf",
   "metadata": {},
   "outputs": [
    {
     "data": {
      "text/plain": [
       "{'fit_time': array([0.00601554, 0.00362277, 0.00403833, 0.00584221, 0.00571728]),\n",
       " 'score_time': array([0.00445294, 0.00260067, 0.00396132, 0.00570464, 0.00853419]),\n",
       " 'test_accuracy': array([0.74      , 0.77333333, 0.65333333, 0.73154362, 0.69798658]),\n",
       " 'test_balanced_accuracy': array([0.61038012, 0.66081871, 0.51535088, 0.60676692, 0.58483709])}"
      ]
     },
     "execution_count": 56,
     "metadata": {},
     "output_type": "execute_result"
    }
   ],
   "source": [
    "from sklearn.model_selection import cross_validate\n",
    "\n",
    "scoring = ['accuracy', 'balanced_accuracy']\n",
    "\n",
    "scores = cross_validate(tree, data, target, cv=cv, scoring=scoring)\n",
    "scores"
   ]
  },
  {
   "cell_type": "code",
   "execution_count": 57,
   "id": "4ebff31e",
   "metadata": {},
   "outputs": [],
   "source": [
    "from sklearn.model_selection import cross_validate\n",
    "\n",
    "accuracy = cross_validate(\n",
    "    tree, data, target, scoring='accuracy', cv=cv,\n",
    ")\n",
    "balanced_accuracy = cross_validate(\n",
    "    tree, data, target, scoring='balanced_accuracy', cv=cv\n",
    ")"
   ]
  },
  {
   "cell_type": "code",
   "execution_count": 59,
   "id": "9d4eb814-1fa7-4a5c-8f75-f4272deabe7b",
   "metadata": {},
   "outputs": [
    {
     "data": {
      "image/png": "[encoded data removed]",
      "text/plain": [
       "<Figure size 432x288 with 1 Axes>"
      ]
     },
     "metadata": {
      "needs_background": "light"
     },
     "output_type": "display_data"
    }
   ],
   "source": [
    "import matplotlib.pyplot as plt\n",
    "\n",
    "color = {'whiskers': 'black', 'medians': 'black', 'caps':'black'}\n",
    "\n",
    "all_scores = {\n",
    "    'Accuracy': accuracy['test_score'],\n",
    "    'Balanced acc': balanced_accuracy['test_score']\n",
    "}\n",
    "all_scores = pd.DataFrame(all_scores)\n",
    "all_scores.plot.box(color=color, vert=False)\n",
    "plt.xlabel('Accuracy'), \n",
    "\n",
    "_ = plt.title('Comparison of accuracy and balanced accuracy')"
   ]
  },
  {
   "cell_type": "code",
   "execution_count": null,
   "id": "7b9c3f5c-4976-4a4b-8f8d-c59a7b5e3652",
   "metadata": {},
   "outputs": [],
   "source": []
  }
 ],
 "metadata": {
  "jupytext": {
   "encoding": "# -*- coding: utf-8 -*-",
   "main_language": "python"
  },
  "kernelspec": {
   "display_name": "Python 3 (ipykernel)",
   "language": "python",
   "name": "python3"
  },
  "language_info": {
   "codemirror_mode": {
    "name": "ipython",
    "version": 3
   },
   "file_extension": ".py",
   "mimetype": "text/x-python",
   "name": "python",
   "nbconvert_exporter": "python",
   "pygments_lexer": "ipython3",
   "version": "3.10.6"
  }
 },
 "nbformat": 4,
 "nbformat_minor": 5
}
