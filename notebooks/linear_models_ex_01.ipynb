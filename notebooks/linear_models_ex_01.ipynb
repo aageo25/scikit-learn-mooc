{
 "cells": [
  {
   "cell_type": "markdown",
   "id": "2d1869cb",
   "metadata": {},
   "source": [
    "# 📝 Exercise M4.01\n",
    "\n",
    "The aim of this exercise is two-fold:\n",
    "\n",
    "* understand the parametrization of a linear model;\n",
    "* quantify the fitting accuracy of a set of such models.\n",
    "\n",
    "We will reuse part of the code of the course to:\n",
    "\n",
    "* load data;\n",
    "* create the function representing a linear model.\n",
    "\n",
    "## Prerequisites\n",
    "\n",
    "### Data loading"
   ]
  },
  {
   "cell_type": "markdown",
   "id": "abc4adeb",
   "metadata": {},
   "source": [
    "<div class=\"admonition note alert alert-info\">\n",
    "<p class=\"first admonition-title\" style=\"font-weight: bold;\">Note</p>\n",
    "<p class=\"last\">If you want a deeper overview regarding this dataset, you can refer to the\n",
    "Appendix - Datasets description section at the end of this MOOC.</p>\n",
    "</div>"
   ]
  },
  {
   "cell_type": "code",
   "execution_count": 1,
   "id": "569181d5",
   "metadata": {},
   "outputs": [],
   "source": [
    "import pandas as pd\n",
    "\n",
    "penguins = pd.read_csv(\"../datasets/penguins_regression.csv\")\n",
    "feature_name = \"Flipper Length (mm)\"\n",
    "target_name = \"Body Mass (g)\"\n",
    "data, target = penguins[[feature_name]], penguins[target_name]"
   ]
  },
  {
   "cell_type": "markdown",
   "id": "107ab44d",
   "metadata": {
    "lines_to_next_cell": 2
   },
   "source": [
    "### Model definition"
   ]
  },
  {
   "cell_type": "code",
   "execution_count": 2,
   "id": "0dddc67b",
   "metadata": {},
   "outputs": [],
   "source": [
    "def linear_model_flipper_mass(\n",
    "    flipper_length, weight_flipper_length, intercept_body_mass\n",
    "):\n",
    "    \"\"\"Linear model of the form y = a * x + b\"\"\"\n",
    "    body_mass = weight_flipper_length * flipper_length + intercept_body_mass\n",
    "    return body_mass"
   ]
  },
  {
   "cell_type": "markdown",
   "id": "4013449a",
   "metadata": {},
   "source": [
    "## Main exercise\n",
    "\n",
    "Define a vector `weights = [...]` and a vector `intercepts = [...]` of\n",
    "the same length. Each pair of entries `(weights[i], intercepts[i])` tags a\n",
    "different model. Use these vectors along with the vector\n",
    "`flipper_length_range` to plot several linear models that could possibly\n",
    "fit our data. Use the above helper function to visualize both the models and\n",
    "the real samples."
   ]
  },
  {
   "cell_type": "code",
   "execution_count": 3,
   "id": "8ba313bd",
   "metadata": {},
   "outputs": [],
   "source": [
    "import numpy as np\n",
    "\n",
    "flipper_length_range = np.linspace(data.min(), data.max(), num=300)"
   ]
  },
  {
   "cell_type": "code",
   "execution_count": 4,
   "id": "f18e8f4e",
   "metadata": {},
   "outputs": [],
   "source": [
    "# Write your code here.\n",
    "weights = np.arange(0,20)\n",
    "intercepts = np.arange(0,20)"
   ]
  },
  {
   "cell_type": "code",
   "execution_count": 7,
   "id": "8cab9a8f-0628-429d-9259-81fc64260274",
   "metadata": {},
   "outputs": [],
   "source": [
    "predicted_body_mass = linear_model_flipper_mass(\n",
    "    flipper_length_range, weights, intercepts)"
   ]
  },
  {
   "cell_type": "code",
   "execution_count": 14,
   "id": "f7a01a5c-d80a-40c5-9240-5aa861faa138",
   "metadata": {},
   "outputs": [
    {
     "data": {
      "text/plain": [
       "[<matplotlib.lines.Line2D at 0x7f4edd29a1d0>]"
      ]
     },
     "execution_count": 14,
     "metadata": {},
     "output_type": "execute_result"
    },
    {
     "data": {
      "image/png": "[encoded data removed]",
      "text/plain": [
       "<Figure size 432x288 with 1 Axes>"
      ]
     },
     "metadata": {
      "needs_background": "light"
     },
     "output_type": "display_data"
    }
   ],
   "source": [
    "import seaborn as sns\n",
    "\n",
    "ax = sns.scatterplot(data=penguins, x=feature_name, y=target_name,\n",
    "                     color=\"black\", alpha=0.5)\n",
    "ax.plot(weights, predicted_body_mass[0])"
   ]
  },
  {
   "cell_type": "markdown",
   "id": "df8d4133",
   "metadata": {
    "lines_to_next_cell": 2
   },
   "source": [
    "In the previous question, you were asked to create several linear models.\n",
    "The visualization allowed you to qualitatively assess if a model was better\n",
    "than another.\n",
    "\n",
    "Now, you should come up with a quantitative measure which indicates the\n",
    "goodness of fit of each linear model and allows you to select the best model.\n",
    "Define a function `goodness_fit_measure(true_values, predictions)` that takes\n",
    "as inputs the true target values and the predictions and returns a single\n",
    "scalar as output."
   ]
  },
  {
   "cell_type": "code",
   "execution_count": null,
   "id": "90e11ada",
   "metadata": {},
   "outputs": [],
   "source": [
    "# Write your code here."
   ]
  },
  {
   "cell_type": "markdown",
   "id": "ed80b6b8",
   "metadata": {},
   "source": [
    "You can now copy and paste the code below to show the goodness of fit for\n",
    "each model.\n",
    "\n",
    "```python\n",
    "for model_idx, (weight, intercept) in enumerate(zip(weights, intercepts)):\n",
    "    target_predicted = linear_model_flipper_mass(data, weight, intercept)\n",
    "    print(f\"Model #{model_idx}:\")\n",
    "    print(f\"{weight:.2f} (g / mm) * flipper length + {intercept:.2f} (g)\")\n",
    "    print(f\"Error: {goodness_fit_measure(target, target_predicted):.3f}\\n\")\n",
    "```"
   ]
  },
  {
   "cell_type": "code",
   "execution_count": null,
   "id": "0a47fa44",
   "metadata": {},
   "outputs": [],
   "source": [
    "# Write your code here."
   ]
  }
 ],
 "metadata": {
  "jupytext": {
   "encoding": "# -*- coding: utf-8 -*-",
   "main_language": "python"
  },
  "kernelspec": {
   "display_name": "Python 3 (ipykernel)",
   "language": "python",
   "name": "python3"
  },
  "language_info": {
   "codemirror_mode": {
    "name": "ipython",
    "version": 3
   },
   "file_extension": ".py",
   "mimetype": "text/x-python",
   "name": "python",
   "nbconvert_exporter": "python",
   "pygments_lexer": "ipython3",
   "version": "3.10.6"
  }
 },
 "nbformat": 4,
 "nbformat_minor": 5
}
