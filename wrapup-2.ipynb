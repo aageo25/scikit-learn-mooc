{
 "cells": [
  {
   "cell_type": "markdown",
   "id": "b25611da-6429-4a92-9c79-76fa4e736501",
   "metadata": {},
   "source": [
    "# [Wrap-up quiz 2](https://inria.github.io/scikit-learn-mooc/overfit/overfit_wrap_up_quiz.html)"
   ]
  },
  {
   "cell_type": "code",
   "execution_count": 1,
   "id": "1242a85c-1d35-4d41-ab75-768ed2221d37",
   "metadata": {},
   "outputs": [],
   "source": [
    "import pandas as pd\n",
    "\n",
    "blood_transfusion = pd.read_csv('./datasets/blood_transfusion.csv')\n",
    "target_name = 'Class'\n",
    "data = blood_transfusion.drop(columns=target_name)\n",
    "target = blood_transfusion[target_name]"
   ]
  },
  {
   "cell_type": "code",
   "execution_count": 6,
   "id": "0a01ed06-0dfb-466f-a680-d7511a1af86a",
   "metadata": {},
   "outputs": [
    {
     "data": {
      "text/plain": [
       "count             748\n",
       "unique              2\n",
       "top       not donated\n",
       "freq              570\n",
       "Name: Class, dtype: object"
      ]
     },
     "execution_count": 6,
     "metadata": {},
     "output_type": "execute_result"
    }
   ],
   "source": [
    "target.describe()"
   ]
  },
  {
   "cell_type": "code",
   "execution_count": 7,
   "id": "0e8ce572-e955-48a4-b4ca-6cb44b9b2465",
   "metadata": {},
   "outputs": [
    {
     "data": {
      "text/plain": [
       "not donated    570\n",
       "donated        178\n",
       "Name: Class, dtype: int64"
      ]
     },
     "execution_count": 7,
     "metadata": {},
     "output_type": "execute_result"
    }
   ],
   "source": [
    "target.value_counts()"
   ]
  },
  {
   "cell_type": "markdown",
   "id": "61481d7c-893f-47c6-88ca-fdbec9a89f52",
   "metadata": {},
   "source": [
    "The problem to be solved in a binary classification problem (exactly 2 possible classes).\n",
    "\n",
    "The proportions of the class counts are imbalanced: Some classes have more than twice as many rows than others."
   ]
  },
  {
   "cell_type": "code",
   "execution_count": 10,
   "id": "67d82323-482b-416d-a195-b8d44a15ab3c",
   "metadata": {},
   "outputs": [],
   "source": [
    "from sklearn.dummy import DummyClassifier\n",
    "from sklearn.model_selection import cross_validate\n",
    "\n",
    "dummy = DummyClassifier(strategy='most_frequent')\n",
    "\n",
    "cv_scores = cross_validate(dummy, data, target, cv=10)"
   ]
  },
  {
   "cell_type": "code",
   "execution_count": 12,
   "id": "c6a6326a-2ffc-42c6-8e22-7a556a0046a1",
   "metadata": {},
   "outputs": [
    {
     "name": "stdout",
     "output_type": "stream",
     "text": [
      "Average score of a dummy classifier: 0.762\n"
     ]
    }
   ],
   "source": [
    "print(f\"Average score of a dummy classifier: \"\n",
    "      f\"{cv_scores['test_score'].mean():.3f}\")"
   ]
  },
  {
   "cell_type": "code",
   "execution_count": 13,
   "id": "5dc60382-7254-43b7-8325-751c4fbee7b1",
   "metadata": {},
   "outputs": [],
   "source": [
    "cv_scores = cross_validate(\n",
    "    dummy, data, target, cv=10, scoring='balanced_accuracy'\n",
    ")"
   ]
  },
  {
   "cell_type": "code",
   "execution_count": 14,
   "id": "cc005205-96f8-45f7-8c61-0b8e90f6ecd8",
   "metadata": {},
   "outputs": [
    {
     "name": "stdout",
     "output_type": "stream",
     "text": [
      "Average score with balanced accuracy of a dummy classifier: 0.500\n"
     ]
    }
   ],
   "source": [
    "print(f\"Average score with balanced accuracy of a dummy classifier: \"\n",
    "      f\"{cv_scores['test_score'].mean():.3f}\")"
   ]
  },
  {
   "cell_type": "code",
   "execution_count": 18,
   "id": "2941f1a2-9195-4423-91d7-1e632ba5324a",
   "metadata": {},
   "outputs": [],
   "source": [
    "from sklearn.neighbors import KNeighborsClassifier\n",
    "from sklearn.pipeline import make_pipeline\n",
    "from sklearn.preprocessing import StandardScaler\n",
    "\n",
    "model = make_pipeline(StandardScaler(), KNeighborsClassifier())"
   ]
  },
  {
   "cell_type": "code",
   "execution_count": 19,
   "id": "6adffc10-b342-4253-b2a4-c3041c84eb9c",
   "metadata": {},
   "outputs": [
    {
     "data": {
      "text/plain": [
       "{'memory': None,\n",
       " 'steps': [('standardscaler', StandardScaler()),\n",
       "  ('kneighborsclassifier', KNeighborsClassifier())],\n",
       " 'verbose': False,\n",
       " 'standardscaler': StandardScaler(),\n",
       " 'kneighborsclassifier': KNeighborsClassifier(),\n",
       " 'standardscaler__copy': True,\n",
       " 'standardscaler__with_mean': True,\n",
       " 'standardscaler__with_std': True,\n",
       " 'kneighborsclassifier__algorithm': 'auto',\n",
       " 'kneighborsclassifier__leaf_size': 30,\n",
       " 'kneighborsclassifier__metric': 'minkowski',\n",
       " 'kneighborsclassifier__metric_params': None,\n",
       " 'kneighborsclassifier__n_jobs': None,\n",
       " 'kneighborsclassifier__n_neighbors': 5,\n",
       " 'kneighborsclassifier__p': 2,\n",
       " 'kneighborsclassifier__weights': 'uniform'}"
      ]
     },
     "execution_count": 19,
     "metadata": {},
     "output_type": "execute_result"
    }
   ],
   "source": [
    "model.get_params()"
   ]
  },
  {
   "cell_type": "markdown",
   "id": "1228456a-c05e-414c-8889-108f47cb0701",
   "metadata": {},
   "source": [
    "The value of K is 5, i.e., `'kneighborsclassifier__n_neighbors': 5`"
   ]
  },
  {
   "cell_type": "code",
   "execution_count": 21,
   "id": "73f3f260-2d10-43d6-b94e-d7da98beba39",
   "metadata": {},
   "outputs": [],
   "source": [
    "model = make_pipeline(StandardScaler(), KNeighborsClassifier(n_neighbors=1))\n",
    "\n",
    "cv_scores = cross_validate(\n",
    "    model, data, target, cv=10, \n",
    "    return_train_score=True, scoring='balanced_accuracy')"
   ]
  },
  {
   "cell_type": "code",
   "execution_count": 23,
   "id": "fe0ad3d1-0e6e-4b9e-a47d-c1385e79f25d",
   "metadata": {},
   "outputs": [
    {
     "data": {
      "text/plain": [
       "array([0.89750853, 0.88595273, 0.87990375, 0.88282773, 0.89357943,\n",
       "       0.8744883 , 0.88188353, 0.86743421, 0.8785006 , 0.88344049])"
      ]
     },
     "execution_count": 23,
     "metadata": {},
     "output_type": "execute_result"
    }
   ],
   "source": [
    "cv_scores['train_score']"
   ]
  },
  {
   "cell_type": "code",
   "execution_count": 22,
   "id": "aa9f7e49-c00d-46bb-a4d1-30e2191c8435",
   "metadata": {},
   "outputs": [
    {
     "data": {
      "text/plain": [
       "array([0.51315789, 0.49122807, 0.5877193 , 0.27192982, 0.38596491,\n",
       "       0.43859649, 0.56432749, 0.6622807 , 0.42156863, 0.50309598])"
      ]
     },
     "execution_count": 22,
     "metadata": {},
     "output_type": "execute_result"
    }
   ],
   "source": [
    "cv_scores['test_score']"
   ]
  },
  {
   "cell_type": "markdown",
   "id": "05efa533-a2b3-4118-b509-b891c8331224",
   "metadata": {},
   "source": [
    "The model clearly overfit, i.e., trai score is greater than test score"
   ]
  },
  {
   "cell_type": "code",
   "execution_count": 24,
   "id": "3a813574-0997-4348-8b4d-b788e539dc90",
   "metadata": {},
   "outputs": [],
   "source": [
    "from sklearn.model_selection import validation_curve"
   ]
  },
  {
   "cell_type": "code",
   "execution_count": 33,
   "id": "1c4a9100-b930-41f8-9dfc-369dcb07807c",
   "metadata": {},
   "outputs": [],
   "source": [
    "model = make_pipeline(StandardScaler(), KNeighborsClassifier())\n",
    "\n",
    "param_range = [1, 2, 5, 10, 20, 50, 100, 200, 500]\n",
    "param_name = 'kneighborsclassifier__n_neighbors'\n",
    "\n",
    "train_scores, test_scores = validation_curve(\n",
    "    model, data, target,\n",
    "    param_range=param_range, param_name=param_name, \n",
    "    cv=5, scoring='balanced_accuracy'\n",
    ")"
   ]
  },
  {
   "cell_type": "code",
   "execution_count": 34,
   "id": "caac4797-018e-420c-bb6f-7fae042c7140",
   "metadata": {},
   "outputs": [
    {
     "data": {
      "image/png": "[encoded data removed]",
      "text/plain": [
       "<Figure size 432x288 with 1 Axes>"
      ]
     },
     "metadata": {
      "needs_background": "light"
     },
     "output_type": "display_data"
    }
   ],
   "source": [
    "import matplotlib.pyplot as plt\n",
    "\n",
    "plt.plot(param_range, train_scores.mean(axis=1), label=\"Training score\")\n",
    "plt.plot(param_range, test_scores.mean(axis=1), label=\"Testing score\")\n",
    "plt.legend()\n",
    "\n",
    "plt.xlabel(\"Number of K neighbors\")\n",
    "plt.ylabel(\"Score\")\n",
    "_ = plt.title(\"Validation curve for K neighbors classifier\")"
   ]
  },
  {
   "cell_type": "code",
   "execution_count": null,
   "id": "856788c5-2b05-4db7-9916-2052acf739e0",
   "metadata": {},
   "outputs": [],
   "source": []
  }
 ],
 "metadata": {
  "kernelspec": {
   "display_name": "Python 3 (ipykernel)",
   "language": "python",
   "name": "python3"
  },
  "language_info": {
   "codemirror_mode": {
    "name": "ipython",
    "version": 3
   },
   "file_extension": ".py",
   "mimetype": "text/x-python",
   "name": "python",
   "nbconvert_exporter": "python",
   "pygments_lexer": "ipython3",
   "version": "3.10.6"
  }
 },
 "nbformat": 4,
 "nbformat_minor": 5
}
