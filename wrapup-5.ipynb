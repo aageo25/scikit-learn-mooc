{
 "cells": [
  {
   "cell_type": "markdown",
   "id": "54102989-94b1-423d-9d38-5dd0ec6968b7",
   "metadata": {},
   "source": [
    "# [Wrap-up quiz 5](https://inria.github.io/scikit-learn-mooc/trees/trees_wrap_up_quiz.html)"
   ]
  },
  {
   "cell_type": "code",
   "execution_count": 1,
   "id": "541bc20b-a998-414e-a820-27298e584153",
   "metadata": {},
   "outputs": [],
   "source": [
    "import pandas as pd\n",
    "\n",
    "ames_housing = pd.read_csv('./datasets/ames_housing_no_missing.csv')\n",
    "target_name = \"SalePrice\"\n",
    "data = ames_housing.drop(columns=target_name)\n",
    "target = ames_housing[target_name]"
   ]
  },
  {
   "cell_type": "code",
   "execution_count": 2,
   "id": "97553b28-35e3-4087-92dd-c1dcac747e21",
   "metadata": {},
   "outputs": [],
   "source": [
    "numerical_features = [\n",
    "    \"LotFrontage\", \"LotArea\", \"MasVnrArea\", \"BsmtFinSF1\", \"BsmtFinSF2\",\n",
    "    \"BsmtUnfSF\", \"TotalBsmtSF\", \"1stFlrSF\", \"2ndFlrSF\", \"LowQualFinSF\",\n",
    "    \"GrLivArea\", \"BedroomAbvGr\", \"KitchenAbvGr\", \"TotRmsAbvGrd\", \"Fireplaces\",\n",
    "    \"GarageCars\", \"GarageArea\", \"WoodDeckSF\", \"OpenPorchSF\", \"EnclosedPorch\",\n",
    "    \"3SsnPorch\", \"ScreenPorch\", \"PoolArea\", \"MiscVal\",\n",
    "]\n",
    "\n",
    "data_numerical = data[numerical_features]"
   ]
  },
  {
   "cell_type": "code",
   "execution_count": 12,
   "id": "e40c0360-765e-4a4a-8507-7c0007605a30",
   "metadata": {},
   "outputs": [],
   "source": [
    "import numpy as np\n",
    "from sklearn.linear_model import LinearRegression\n",
    "from sklearn.tree import DecisionTreeRegressor\n",
    "from sklearn.preprocessing import StandardScaler\n",
    "from sklearn.pipeline import make_pipeline\n",
    "from sklearn.model_selection import cross_validate"
   ]
  },
  {
   "cell_type": "code",
   "execution_count": 7,
   "id": "82cb0f2f-5abf-48be-be24-045ccbe7861d",
   "metadata": {},
   "outputs": [],
   "source": [
    "model_linear = make_pipeline(StandardScaler(), LinearRegression())\n",
    "model_tree = DecisionTreeRegressor(random_state=0)"
   ]
  },
  {
   "cell_type": "code",
   "execution_count": 11,
   "id": "6f409044-43a9-46ba-a928-7a84288808c9",
   "metadata": {},
   "outputs": [],
   "source": [
    "cv_linear = cross_validate(model_linear, data_numerical, target, cv=10, return_estimator=True)\n",
    "cv_tree = cross_validate(model_tree, data_numerical, target, cv=10, return_estimator=True)"
   ]
  },
  {
   "cell_type": "code",
   "execution_count": 13,
   "id": "89cd5ff8-a07c-4b44-9040-d0a49cc4299a",
   "metadata": {},
   "outputs": [
    {
     "data": {
      "text/plain": [
       "9"
      ]
     },
     "execution_count": 13,
     "metadata": {},
     "output_type": "execute_result"
    }
   ],
   "source": [
    "np.count_nonzero(cv_linear['test_score'] > cv_tree['test_score'])"
   ]
  },
  {
   "cell_type": "markdown",
   "id": "0cb7cbe5-4771-4207-aeb2-13a85edf8c02",
   "metadata": {},
   "source": [
    "By comparing the cross-validation test scores for both models fold-to-fold, one can see that the linear model is substantially better than the decision tree"
   ]
  },
  {
   "cell_type": "markdown",
   "id": "f06f461c-cb32-4609-8cea-c7947f13f68b",
   "metadata": {},
   "source": [
    "---"
   ]
  },
  {
   "cell_type": "code",
   "execution_count": 16,
   "id": "368e185e-ba5e-4eb4-8736-7d9feaeb1c70",
   "metadata": {},
   "outputs": [],
   "source": [
    "from sklearn.model_selection import GridSearchCV, cross_val_score, KFold"
   ]
  },
  {
   "cell_type": "code",
   "execution_count": 52,
   "id": "ac19f0c7-a64b-4151-b487-ebaab04dbb2b",
   "metadata": {},
   "outputs": [],
   "source": [
    "param_grid = {'max_depth': np.arange(1, 16)}\n",
    "\n",
    "inner_cv = KFold(n_splits=10, shuffle=True, random_state=0)\n",
    "outer_cv = KFold(n_splits=10, shuffle=True, random_state=0)\n",
    "\n",
    "model_tree = DecisionTreeRegressor(random_state=0)\n",
    "model_tree_opt = GridSearchCV(\n",
    "    estimator=model_tree, param_grid=param_grid, cv=inner_cv, n_jobs=4\n",
    ")"
   ]
  },
  {
   "cell_type": "code",
   "execution_count": 53,
   "id": "6ec2a233-a8f8-492d-a6d5-44920d8d8279",
   "metadata": {},
   "outputs": [],
   "source": [
    "cv_tree_opt = cross_validate(\n",
    "    model_tree_opt, data_numerical, target, cv=outer_cv, return_estimator=True\n",
    ")\n",
    "cv_linear = cross_validate(model_linear, data_numerical, target, cv=outer_cv, return_estimator=True)"
   ]
  },
  {
   "cell_type": "code",
   "execution_count": 54,
   "id": "56a4f643-3dd9-453a-b557-3e1bff78846e",
   "metadata": {},
   "outputs": [
    {
     "data": {
      "text/plain": [
       "[8, 5, 8, 8, 5, 7, 5, 6, 7, 5]"
      ]
     },
     "execution_count": 54,
     "metadata": {},
     "output_type": "execute_result"
    }
   ],
   "source": [
    "[est.best_params_['max_depth'] for est in cv_tree_opt['estimator']]"
   ]
  },
  {
   "cell_type": "markdown",
   "id": "a4be8f9a-ad8f-49c5-8670-5dbabdbf6d4e",
   "metadata": {},
   "source": [
    "The optimal depth is ranging from 5 to 8"
   ]
  },
  {
   "cell_type": "markdown",
   "id": "13d0d4c4-7e15-4f4e-9392-edc54cab4efc",
   "metadata": {},
   "source": [
    "---"
   ]
  },
  {
   "cell_type": "code",
   "execution_count": 56,
   "id": "21ea34c5-7720-4291-89fb-61e5ec3829d3",
   "metadata": {},
   "outputs": [
    {
     "name": "stdout",
     "output_type": "stream",
     "text": [
      "Number of times the linear model is better than the tree with optimal depth: \n",
      "7\n",
      "Number of times the linear model is better than the tree with optimal depth: \n",
      "7\n",
      "Number of times the linear model is better than the tree with optimal depth: \n",
      "8\n",
      "Number of times the linear model is better than the tree with optimal depth: \n",
      "7\n"
     ]
    }
   ],
   "source": [
    "for r in range(4):\n",
    "    model_tree = DecisionTreeRegressor(random_state=r)\n",
    "    \n",
    "    \n",
    "    model_tree_opt = GridSearchCV(\n",
    "        estimator=model_tree, param_grid=param_grid, cv=inner_cv, n_jobs=4\n",
    "    )\n",
    "    \n",
    "    cv_tree_opt = cross_validate(\n",
    "        model_tree_opt, data_numerical, target, \n",
    "        cv=outer_cv, return_estimator=True\n",
    "    )\n",
    "    cv_linear = cross_validate(\n",
    "        model_linear, data_numerical, target, \n",
    "        cv=outer_cv, return_estimator=True)\n",
    "    print(\"Number of times the linear model is better than the tree with optimal depth: \")\n",
    "    print(np.count_nonzero(cv_linear['test_score'] > cv_tree_opt['test_score']))"
   ]
  },
  {
   "cell_type": "markdown",
   "id": "3abb0454-8bf9-4b59-933b-27ae2e5ff333",
   "metadata": {},
   "source": [
    "A tree with tuned depth is often but not always worse than the linear model"
   ]
  },
  {
   "cell_type": "markdown",
   "id": "910c9950-716c-4539-bb75-10fbc40fa958",
   "metadata": {},
   "source": [
    "---"
   ]
  },
  {
   "cell_type": "code",
   "execution_count": 65,
   "id": "1409547a-384c-4a99-9690-07ba46f87795",
   "metadata": {},
   "outputs": [],
   "source": [
    "from sklearn.preprocessing import OrdinalEncoder, StandardScaler\n",
    "from sklearn.compose import ColumnTransformer\n",
    "from sklearn.pipeline import make_pipeline\n",
    "from sklearn.compose import make_column_selector as selector"
   ]
  },
  {
   "cell_type": "code",
   "execution_count": 71,
   "id": "2402029d-6a13-4cc4-8f78-b3b2392f9961",
   "metadata": {},
   "outputs": [
    {
     "name": "stdout",
     "output_type": "stream",
     "text": [
      "Number of times the linear model is better than the tree with optimal depth: \n",
      "7\n",
      "Number of times the linear model is better than the tree with optimal depth: \n",
      "7\n",
      "Number of times the linear model is better than the tree with optimal depth: \n",
      "7\n",
      "Number of times the linear model is better than the tree with optimal depth: \n",
      "7\n",
      "Number of times the linear model is better than the tree with optimal depth: \n",
      "7\n"
     ]
    }
   ],
   "source": [
    "numerical_columns = selector(dtype_exclude=object)(data)\n",
    "categorical_columns = selector(dtype_include=object)(data)\n",
    "\n",
    "categorical_preprcessor = OrdinalEncoder(handle_unknown=\"use_encoded_value\",\n",
    "                                          unknown_value=-1)\n",
    "numerical_preprocessor = StandardScaler()\n",
    "\n",
    "preprocessor = ColumnTransformer([\n",
    "    ('ordinalencoder', categorical_preprcessor, categorical_columns),\n",
    "    ('numerical', numerical_preprocessor, numerical_columns)\n",
    "])\n",
    "for r in range(5):\n",
    "    model = make_pipeline(\n",
    "        preprocessor,\n",
    "        DecisionTreeRegressor(max_depth=7, random_state=r)\n",
    "    )\n",
    "    \n",
    "    cv_tree = cross_validate(\n",
    "        model, data, target, cv=10, return_estimator=True\n",
    "    )\n",
    "    \n",
    "    cv_linear = cross_validate(model_linear, data_numerical, target, \n",
    "                             cv=10, return_estimator=True)\n",
    "    print(\"Number of times the linear model is better than the tree with optimal depth: \")\n",
    "    print(np.count_nonzero(cv_linear['test_score'] > cv_tree_opt['test_score']))"
   ]
  },
  {
   "cell_type": "markdown",
   "id": "2340a106-ddb9-4162-a6db-3461969b3b8a",
   "metadata": {},
   "source": [
    "A tree model trained with both numerical and categorical features is most often worse than the tree model using only the numerical features"
   ]
  }
 ],
 "metadata": {
  "kernelspec": {
   "display_name": "Python 3 (ipykernel)",
   "language": "python",
   "name": "python3"
  },
  "language_info": {
   "codemirror_mode": {
    "name": "ipython",
    "version": 3
   },
   "file_extension": ".py",
   "mimetype": "text/x-python",
   "name": "python",
   "nbconvert_exporter": "python",
   "pygments_lexer": "ipython3",
   "version": "3.10.6"
  }
 },
 "nbformat": 4,
 "nbformat_minor": 5
}
