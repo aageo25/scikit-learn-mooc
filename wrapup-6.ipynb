{
 "cells": [
  {
   "cell_type": "markdown",
   "id": "6a977d5b-8baf-49cd-851f-be8b04664355",
   "metadata": {},
   "source": [
    "# [Wrap-up quiz 6](https://inria.github.io/scikit-learn-mooc/ensemble/ensemble_wrap_up_quiz.html)"
   ]
  },
  {
   "cell_type": "code",
   "execution_count": 1,
   "id": "8df76d4d-506e-4784-963f-7d8acb5ba240",
   "metadata": {},
   "outputs": [],
   "source": [
    "import pandas as pd\n",
    "\n",
    "dataset = pd.read_csv('./datasets/penguins.csv')"
   ]
  },
  {
   "cell_type": "code",
   "execution_count": 2,
   "id": "f88675f6-3b8a-4557-b996-6f54fb795dd2",
   "metadata": {},
   "outputs": [],
   "source": [
    "feature_names = [\n",
    "    'Culmen Length (mm)',\n",
    "    'Culmen Depth (mm)',\n",
    "    'Flipper Length (mm)',\n",
    "]\n",
    "target_name = 'Body Mass (g)'\n",
    "\n",
    "dataset = dataset[feature_names + [target_name]].dropna(axis='rows', how='any')\n",
    "dataset = dataset.sample(frac=1, random_state=0).reset_index(drop=True)\n",
    "data, target = dataset[feature_names], dataset[target_name]"
   ]
  },
  {
   "cell_type": "markdown",
   "id": "6dd1c15e-9ccc-4afd-a0f7-45d5cf8e0a30",
   "metadata": {},
   "source": [
    "## Evaluating a decision tree vs random forest regressor"
   ]
  },
  {
   "cell_type": "code",
   "execution_count": 3,
   "id": "59a156b7-1014-409d-bbb6-3ad53dabb710",
   "metadata": {},
   "outputs": [],
   "source": [
    "from sklearn.tree import DecisionTreeRegressor"
   ]
  },
  {
   "cell_type": "code",
   "execution_count": 4,
   "id": "a38b396f-56f9-4d23-8ca0-eadaa70a2776",
   "metadata": {},
   "outputs": [],
   "source": [
    "decision_tree = DecisionTreeRegressor(random_state=0)"
   ]
  },
  {
   "cell_type": "code",
   "execution_count": 5,
   "id": "92ed5270-b54f-4a13-b48e-5cdfdeb939a7",
   "metadata": {},
   "outputs": [],
   "source": [
    "from sklearn.model_selection import cross_validate\n",
    "\n",
    "cv_dt = cross_validate(\n",
    "    decision_tree, data, target, cv=10, return_train_score=True\n",
    ")"
   ]
  },
  {
   "cell_type": "code",
   "execution_count": 6,
   "id": "4962d533-c10f-4e54-923d-3f6d0a2676b7",
   "metadata": {},
   "outputs": [],
   "source": [
    "from sklearn.ensemble import RandomForestRegressor"
   ]
  },
  {
   "cell_type": "code",
   "execution_count": 7,
   "id": "4fa32487-6ecb-4191-8eac-881509a3c42e",
   "metadata": {},
   "outputs": [],
   "source": [
    "random_forest = RandomForestRegressor(random_state=0)"
   ]
  },
  {
   "cell_type": "code",
   "execution_count": 8,
   "id": "50b85e68-adf2-4cc8-8424-2bdcf6488e8f",
   "metadata": {},
   "outputs": [],
   "source": [
    "cv_rf = cross_validate(\n",
    "    random_forest, data, target, cv=10, return_train_score=True\n",
    ")"
   ]
  },
  {
   "cell_type": "markdown",
   "id": "73ad7c7c-bef3-450f-a413-4da8ceab67f7",
   "metadata": {},
   "source": [
    "### How many times is random forest better than decision trees?"
   ]
  },
  {
   "cell_type": "code",
   "execution_count": 9,
   "id": "8fdba1b5-ab79-447b-befc-80684fe5bb65",
   "metadata": {},
   "outputs": [
    {
     "data": {
      "text/plain": [
       "array([0.78812533, 0.77436104, 0.88871396, 0.84661427, 0.78043644,\n",
       "       0.85771461, 0.79185662, 0.73543268, 0.76485281, 0.8077531 ])"
      ]
     },
     "execution_count": 9,
     "metadata": {},
     "output_type": "execute_result"
    }
   ],
   "source": [
    "cv_rf['test_score']"
   ]
  },
  {
   "cell_type": "code",
   "execution_count": 10,
   "id": "079d3b12-84d6-4771-9c9e-d64ee5cc7d78",
   "metadata": {},
   "outputs": [
    {
     "data": {
      "text/plain": [
       "array([0.59650558, 0.66957713, 0.7193112 , 0.8184209 , 0.6242818 ,\n",
       "       0.72483157, 0.53090702, 0.51655398, 0.58421785, 0.49038086])"
      ]
     },
     "execution_count": 10,
     "metadata": {},
     "output_type": "execute_result"
    }
   ],
   "source": [
    "cv_dt['test_score']"
   ]
  },
  {
   "cell_type": "code",
   "execution_count": 11,
   "id": "b9a6148a-da28-4a39-bae0-0a228975b9a4",
   "metadata": {},
   "outputs": [
    {
     "data": {
      "text/plain": [
       "7"
      ]
     },
     "execution_count": 11,
     "metadata": {},
     "output_type": "execute_result"
    }
   ],
   "source": [
    "import numpy as np\n",
    "\n",
    "np.count_nonzero(cv_rf['test_score'] < cv_dt['test_score'].max())"
   ]
  },
  {
   "cell_type": "markdown",
   "id": "be5809f4-551b-4c6d-bb05-08ecfc7ad0f3",
   "metadata": {},
   "source": [
    "Answer: [7, 10] the random forest model is substaintially better than the single decision tree regressor"
   ]
  },
  {
   "cell_type": "markdown",
   "id": "ab5ed277-704f-4bbe-af70-b48894853e20",
   "metadata": {},
   "source": [
    "### Random forest with 5 and another with 100 decision trees"
   ]
  },
  {
   "cell_type": "code",
   "execution_count": 12,
   "id": "05b28e2a-36d4-41f7-952d-c0331493c46c",
   "metadata": {},
   "outputs": [],
   "source": [
    "random_forest_small = RandomForestRegressor(n_estimators=5, random_state=0)\n",
    "\n",
    "random_forest_big = RandomForestRegressor(n_estimators=100, random_state=100)\n",
    "\n",
    "cv_rf_small = cross_validate(\n",
    "    random_forest_small, data, target, cv=10, return_train_score=True\n",
    ")\n",
    "\n",
    "cv_rf_big = cross_validate(\n",
    "    random_forest_big, data, target, cv=10, return_train_score=True\n",
    ")"
   ]
  },
  {
   "cell_type": "markdown",
   "id": "f19781aa-cace-45d6-a3f2-d000ce655127",
   "metadata": {},
   "source": [
    "### How many times is random forest big better than small?"
   ]
  },
  {
   "cell_type": "code",
   "execution_count": 13,
   "id": "92a920b9-31ee-4e4b-ace6-4ed9d8506052",
   "metadata": {},
   "outputs": [
    {
     "data": {
      "text/plain": [
       "array([0.79424107, 0.78426869, 0.88588674, 0.84682461, 0.77093058,\n",
       "       0.85764216, 0.77984069, 0.74848241, 0.77266049, 0.81816292])"
      ]
     },
     "execution_count": 13,
     "metadata": {},
     "output_type": "execute_result"
    }
   ],
   "source": [
    "cv_rf_big['test_score']"
   ]
  },
  {
   "cell_type": "code",
   "execution_count": 14,
   "id": "4fcac44c-35e5-4422-8ab9-1c97b95275fb",
   "metadata": {},
   "outputs": [
    {
     "data": {
      "text/plain": [
       "array([0.77235183, 0.65802718, 0.85849519, 0.82029064, 0.78921964,\n",
       "       0.85126513, 0.77881189, 0.6144532 , 0.76453205, 0.7611934 ])"
      ]
     },
     "execution_count": 14,
     "metadata": {},
     "output_type": "execute_result"
    }
   ],
   "source": [
    "cv_rf_small['test_score']"
   ]
  },
  {
   "cell_type": "code",
   "execution_count": 15,
   "id": "74c25bca-736a-4ded-9070-618306e3c33d",
   "metadata": {},
   "outputs": [
    {
     "data": {
      "text/plain": [
       "9"
      ]
     },
     "execution_count": 15,
     "metadata": {},
     "output_type": "execute_result"
    }
   ],
   "source": [
    "np.count_nonzero(cv_rf_big['test_score'] < cv_rf_small['test_score'].max())"
   ]
  },
  {
   "cell_type": "markdown",
   "id": "c0aebf9c-493f-47bd-bd88-9c82d3815f19",
   "metadata": {},
   "source": [
    "Answer: [7, 10]: the random forest model with 100 decision trees is substantioally better than the random forest model with 5 decision trees"
   ]
  },
  {
   "cell_type": "markdown",
   "id": "5997554a-1225-4b6c-a100-5519711398ee",
   "metadata": {},
   "source": [
    "## Validation curves"
   ]
  },
  {
   "cell_type": "markdown",
   "id": "4d965af6-13b6-4bc8-af9d-3908ccfaa09f",
   "metadata": {},
   "source": [
    "### Default random forest"
   ]
  },
  {
   "cell_type": "code",
   "execution_count": 16,
   "id": "b8fa1f23-08c9-4808-b7c1-d496ac92a7cf",
   "metadata": {},
   "outputs": [],
   "source": [
    "from sklearn.model_selection import validation_curve"
   ]
  },
  {
   "cell_type": "code",
   "execution_count": 17,
   "id": "9f6bfab9-1aa9-4894-bbd1-46877bafe02c",
   "metadata": {},
   "outputs": [],
   "source": [
    "param_name = 'n_estimators'\n",
    "param_range = [1, 2, 5, 10, 20, 50, 100, 200, 500, 1_000]\n",
    "model = RandomForestRegressor(random_state=0)"
   ]
  },
  {
   "cell_type": "code",
   "execution_count": 18,
   "id": "f8cf0834-3a9b-48b8-b260-7cb03c9a545a",
   "metadata": {},
   "outputs": [],
   "source": [
    "train_scores, validation_scores = validation_curve(\n",
    "    model, data, target,\n",
    "    param_name=param_name, param_range=param_range,\n",
    "    cv=10,\n",
    ")"
   ]
  },
  {
   "cell_type": "code",
   "execution_count": 22,
   "id": "1d9508b7-3a35-4155-aace-b4aadbe300d5",
   "metadata": {
    "scrolled": true
   },
   "outputs": [
    {
     "data": {
      "text/plain": [
       "<matplotlib.legend.Legend at 0x7f95689b5750>"
      ]
     },
     "execution_count": 22,
     "metadata": {},
     "output_type": "execute_result"
    },
    {
     "data": {
      "image/png": "[encoded data removed]",
      "text/plain": [
       "<Figure size 432x288 with 1 Axes>"
      ]
     },
     "metadata": {
      "needs_background": "light"
     },
     "output_type": "display_data"
    }
   ],
   "source": [
    "import matplotlib.pyplot as plt\n",
    "\n",
    "fig = plt.figure()\n",
    "plt.errorbar(\n",
    "    param_range, train_scores.mean(axis=1),\n",
    "    yerr=train_scores.std(axis=1),\n",
    "    label='Training'\n",
    ")\n",
    "\n",
    "plt.errorbar(    param_range, validation_scores.mean(axis=1),\n",
    "    yerr=validation_scores.std(axis=1),\n",
    "    label='Test',\n",
    ")\n",
    "fig.legend()"
   ]
  },
  {
   "cell_type": "markdown",
   "id": "a495e59c-0609-4a4d-89ec-ea2363d1e844",
   "metadata": {},
   "source": [
    "### Random Forest with `max_depth=5`"
   ]
  },
  {
   "cell_type": "code",
   "execution_count": 19,
   "id": "219e4519-70a0-43f6-8366-79d10e9d221f",
   "metadata": {},
   "outputs": [],
   "source": [
    "model_shallow = RandomForestRegressor(max_depth=5, random_state=0)"
   ]
  },
  {
   "cell_type": "code",
   "execution_count": 20,
   "id": "52e79ead-cb06-45d7-aab8-25038c33b7be",
   "metadata": {},
   "outputs": [],
   "source": [
    "train_scores_shallow, validation_scores_shallow = validation_curve(\n",
    "    model_shallow, data, target,\n",
    "    param_name=param_name, param_range=param_range,\n",
    "    cv=10,\n",
    ")"
   ]
  },
  {
   "cell_type": "code",
   "execution_count": 27,
   "id": "462e41d2-0d6a-4a88-8976-d81be5cf09ae",
   "metadata": {},
   "outputs": [
    {
     "data": {
      "image/png": "[encoded data removed]",
      "text/plain": [
       "<Figure size 720x288 with 2 Axes>"
      ]
     },
     "metadata": {
      "needs_background": "light"
     },
     "output_type": "display_data"
    }
   ],
   "source": [
    "fig, axs = plt.subplots(\n",
    "    ncols=2, sharex=True, sharey=True, figsize=(10,4)\n",
    ")\n",
    "\n",
    "# rf train score\n",
    "axs[0].errorbar(\n",
    "    param_range,\n",
    "    train_scores.mean(axis=1),\n",
    "    yerr=train_scores.std(axis=1),\n",
    "    label='Training',\n",
    ")\n",
    "# rf validation score\n",
    "axs[0].errorbar(\n",
    "    param_range,\n",
    "    validation_scores.mean(axis=1),\n",
    "    yerr=validation_scores.std(axis=1),\n",
    "    label='Validation'\n",
    "    \n",
    ")\n",
    "axs[0].set_title('Defaut random forest')\n",
    "axs[0].set_xlabel('Number of trees (estimators)')\n",
    "axs[0].set_ylabel(r'R$^2$ score')\n",
    "\n",
    "# rf_shallow train score\n",
    "axs[1].errorbar(\n",
    "    param_range,\n",
    "    train_scores_shallow.mean(axis=1),\n",
    "    yerr=train_scores_shallow.std(axis=1),\n",
    "    label=\"Training\",\n",
    ")\n",
    "# rf_shallow validation score\n",
    "axs[1].errorbar(\n",
    "    param_range,\n",
    "    validation_scores_shallow.mean(axis=1),\n",
    "    yerr=validation_scores_shallow.std(axis=1),\n",
    "    label='Validation',\n",
    ")\n",
    "axs[1].set_title('Random forest max_depth=5')\n",
    "axs[1].set_xlabel('Number of trees (estimators)')\n",
    "\n",
    "plt.legend()\n",
    "_ = fig.suptitle('Validation curve', y=1.1)"
   ]
  },
  {
   "cell_type": "markdown",
   "id": "90aa7533-cd03-420c-a6b0-95b221692c29",
   "metadata": {},
   "source": [
    "### Random forest with a single tree"
   ]
  },
  {
   "cell_type": "code",
   "execution_count": 31,
   "id": "f4b49578-ef57-422c-aa6a-b3bd8693f6a0",
   "metadata": {},
   "outputs": [
    {
     "data": {
      "text/plain": [
       "array([0.83120264, 0.83309064, 0.83195043, 0.84834224, 0.85790323,\n",
       "       0.86235297, 0.84791111, 0.85183089, 0.82241954, 0.85045978])"
      ]
     },
     "execution_count": 31,
     "metadata": {},
     "output_type": "execute_result"
    }
   ],
   "source": [
    "rf_1_tree = RandomForestRegressor(n_estimators=1, random_state=0)\n",
    "cv_results_tree = cross_validate(\n",
    "    rf_1_tree, data, target, cv=10, return_train_score=True\n",
    ")\n",
    "cv_results_tree['train_score']"
   ]
  },
  {
   "cell_type": "code",
   "execution_count": 32,
   "id": "f642a013-90f9-4284-8f24-70dd3bec267c",
   "metadata": {},
   "outputs": [
    {
     "data": {
      "text/plain": [
       "array([1., 1., 1., 1., 1., 1., 1., 1., 1., 1.])"
      ]
     },
     "execution_count": 32,
     "metadata": {},
     "output_type": "execute_result"
    }
   ],
   "source": [
    "tree = DecisionTreeRegressor(random_state=0)\n",
    "cv_results_tree = cross_validate(\n",
    "    tree, data, target, cv=10, return_train_score=True\n",
    ")\n",
    "cv_results_tree[\"train_score\"]"
   ]
  },
  {
   "cell_type": "markdown",
   "id": "8ad6e352-f894-49ea-891e-2430df858a56",
   "metadata": {},
   "source": [
    "## `HistGradientBoostingRegressor`"
   ]
  },
  {
   "cell_type": "code",
   "execution_count": 33,
   "id": "384ec4e6-412f-471b-b04f-270e01798814",
   "metadata": {},
   "outputs": [],
   "source": [
    "from sklearn.ensemble import HistGradientBoostingRegressor"
   ]
  },
  {
   "cell_type": "code",
   "execution_count": 35,
   "id": "39659c05-0f70-46ed-b25a-7c1feea9a189",
   "metadata": {},
   "outputs": [],
   "source": [
    "param_name ='max_iter'\n",
    "param_range = [1, 2, 5, 10, 20, 50, 100, 200, 500, 1_000]"
   ]
  },
  {
   "cell_type": "code",
   "execution_count": 36,
   "id": "ba5faced-fded-4ed3-bd62-d762bc3cc03d",
   "metadata": {},
   "outputs": [],
   "source": [
    "hgbr = HistGradientBoostingRegressor(random_state=0)"
   ]
  },
  {
   "cell_type": "code",
   "execution_count": 38,
   "id": "88da1635-4b49-4901-a826-1c3630f58825",
   "metadata": {},
   "outputs": [],
   "source": [
    "hgbr_train_scores, hgbr_validation_scores = validation_curve(\n",
    "    hgbr,\n",
    "    param_name=param_name, param_range=param_range,\n",
    "    X=data, y=target,\n",
    "    n_jobs=4\n",
    ")"
   ]
  },
  {
   "cell_type": "code",
   "execution_count": 39,
   "id": "af33d9cf-8e93-499d-8f92-ec64060fb29a",
   "metadata": {},
   "outputs": [
    {
     "data": {
      "text/plain": [
       "<matplotlib.legend.Legend at 0x7f95641d6ef0>"
      ]
     },
     "execution_count": 39,
     "metadata": {},
     "output_type": "execute_result"
    },
    {
     "data": {
      "image/png": "[encoded data removed]",
      "text/plain": [
       "<Figure size 432x288 with 1 Axes>"
      ]
     },
     "metadata": {
      "needs_background": "light"
     },
     "output_type": "display_data"
    }
   ],
   "source": [
    "fig = plt.figure()\n",
    "plt.errorbar(\n",
    "    param_range, hgbr_train_scores.mean(axis=1),\n",
    "    yerr=train_scores.std(axis=1),\n",
    "    label='Training'\n",
    ")\n",
    "\n",
    "plt.errorbar(    \n",
    "    param_range, hgbr_validation_scores.mean(axis=1),\n",
    "    yerr=validation_scores.std(axis=1),\n",
    "    label='Test',\n",
    ")\n",
    "plt.title('Defaut random forest')\n",
    "plt.xlabel('Number of trees (estimators)')\n",
    "plt.ylabel(r'R$^2$ score')\n",
    "fig.legend()"
   ]
  }
 ],
 "metadata": {
  "kernelspec": {
   "display_name": "Python 3 (ipykernel)",
   "language": "python",
   "name": "python3"
  },
  "language_info": {
   "codemirror_mode": {
    "name": "ipython",
    "version": 3
   },
   "file_extension": ".py",
   "mimetype": "text/x-python",
   "name": "python",
   "nbconvert_exporter": "python",
   "pygments_lexer": "ipython3",
   "version": "3.10.6"
  }
 },
 "nbformat": 4,
 "nbformat_minor": 5
}
