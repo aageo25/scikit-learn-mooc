{
 "cells": [
  {
   "cell_type": "code",
   "execution_count": 1,
   "id": "588eead2-97bb-4367-ba1c-cc0e610ca8ea",
   "metadata": {},
   "outputs": [],
   "source": [
    "import pandas as pd\n",
    "\n",
    "ames_housing = pd.read_csv(\"datasets/ames_housing_no_missing.csv\")\n",
    "\n",
    "target_name = \"SalePrice\"\n",
    "\n",
    "data, target = ames_housing.drop(columns=target_name), ames_housing[target_name]\n",
    "target = (target > 200_000).astype(int)"
   ]
  },
  {
   "cell_type": "code",
   "execution_count": 16,
   "id": "b2e27773-d95e-4c1a-bf7f-6667340f2c0a",
   "metadata": {},
   "outputs": [
    {
     "name": "stdout",
     "output_type": "stream",
     "text": [
      "<class 'pandas.core.frame.DataFrame'>\n",
      "RangeIndex: 1460 entries, 0 to 1459\n",
      "Data columns (total 36 columns):\n",
      " #   Column         Non-Null Count  Dtype  \n",
      "---  ------         --------------  -----  \n",
      " 0   MSSubClass     1460 non-null   int64  \n",
      " 1   LotFrontage    1460 non-null   float64\n",
      " 2   LotArea        1460 non-null   int64  \n",
      " 3   OverallQual    1460 non-null   int64  \n",
      " 4   OverallCond    1460 non-null   int64  \n",
      " 5   YearBuilt      1460 non-null   int64  \n",
      " 6   YearRemodAdd   1460 non-null   int64  \n",
      " 7   MasVnrArea     1460 non-null   float64\n",
      " 8   BsmtFinSF1     1460 non-null   int64  \n",
      " 9   BsmtFinSF2     1460 non-null   int64  \n",
      " 10  BsmtUnfSF      1460 non-null   int64  \n",
      " 11  TotalBsmtSF    1460 non-null   int64  \n",
      " 12  1stFlrSF       1460 non-null   int64  \n",
      " 13  2ndFlrSF       1460 non-null   int64  \n",
      " 14  LowQualFinSF   1460 non-null   int64  \n",
      " 15  GrLivArea      1460 non-null   int64  \n",
      " 16  BsmtFullBath   1460 non-null   int64  \n",
      " 17  BsmtHalfBath   1460 non-null   int64  \n",
      " 18  FullBath       1460 non-null   int64  \n",
      " 19  HalfBath       1460 non-null   int64  \n",
      " 20  BedroomAbvGr   1460 non-null   int64  \n",
      " 21  KitchenAbvGr   1460 non-null   int64  \n",
      " 22  TotRmsAbvGrd   1460 non-null   int64  \n",
      " 23  Fireplaces     1460 non-null   int64  \n",
      " 24  GarageYrBlt    1460 non-null   float64\n",
      " 25  GarageCars     1460 non-null   int64  \n",
      " 26  GarageArea     1460 non-null   int64  \n",
      " 27  WoodDeckSF     1460 non-null   int64  \n",
      " 28  OpenPorchSF    1460 non-null   int64  \n",
      " 29  EnclosedPorch  1460 non-null   int64  \n",
      " 30  3SsnPorch      1460 non-null   int64  \n",
      " 31  ScreenPorch    1460 non-null   int64  \n",
      " 32  PoolArea       1460 non-null   int64  \n",
      " 33  MiscVal        1460 non-null   int64  \n",
      " 34  MoSold         1460 non-null   int64  \n",
      " 35  YrSold         1460 non-null   int64  \n",
      "dtypes: float64(3), int64(33)\n",
      "memory usage: 410.8 KB\n"
     ]
    }
   ],
   "source": [
    "data.select_dtypes([int,float]).info()"
   ]
  },
  {
   "cell_type": "code",
   "execution_count": 17,
   "id": "a900f048-32bc-4e95-8acd-5b2fd6eee235",
   "metadata": {},
   "outputs": [],
   "source": [
    "numerical_features = [\n",
    "  \"LotFrontage\", \"LotArea\", \"MasVnrArea\", \"BsmtFinSF1\", \"BsmtFinSF2\",\n",
    "  \"BsmtUnfSF\", \"TotalBsmtSF\", \"1stFlrSF\", \"2ndFlrSF\", \"LowQualFinSF\",\n",
    "  \"GrLivArea\", \"BedroomAbvGr\", \"KitchenAbvGr\", \"TotRmsAbvGrd\", \"Fireplaces\",\n",
    "  \"GarageCars\", \"GarageArea\", \"WoodDeckSF\", \"OpenPorchSF\", \"EnclosedPorch\",\n",
    "  \"3SsnPorch\", \"ScreenPorch\", \"PoolArea\", \"MiscVal\",\n",
    "]"
   ]
  },
  {
   "cell_type": "code",
   "execution_count": 19,
   "id": "b9f3a158-c326-4774-94a1-471ede36f7f7",
   "metadata": {},
   "outputs": [
    {
     "data": {
      "text/plain": [
       "{'fit_time': array([0.02729058, 0.02266216, 0.0174315 , 0.01676035, 0.0151391 ,\n",
       "        0.01318216, 0.01303911, 0.01242661, 0.01241279, 0.0128305 ]),\n",
       " 'score_time': array([0.00510597, 0.00370407, 0.00339794, 0.00278139, 0.00263286,\n",
       "        0.00253272, 0.00244999, 0.00246453, 0.00243902, 0.00243711]),\n",
       " 'test_score': array([0.9109589 , 0.89041096, 0.9109589 , 0.88356164, 0.90410959,\n",
       "        0.88356164, 0.88356164, 0.87671233, 0.89726027, 0.87671233])}"
      ]
     },
     "execution_count": 19,
     "metadata": {},
     "output_type": "execute_result"
    }
   ],
   "source": [
    "from sklearn.pipeline import make_pipeline\n",
    "from sklearn.preprocessing import StandardScaler\n",
    "from sklearn.linear_model import LogisticRegression\n",
    "from sklearn.model_selection import cross_validate\n",
    "\n",
    "data_numeric = data[numerical_features]\n",
    "\n",
    "# choose a model\n",
    "model = make_pipeline(StandardScaler(), LogisticRegression())\n",
    "\n",
    "cv_result = cross_validate(model, data_numeric, target, cv=10)"
   ]
  },
  {
   "cell_type": "code",
   "execution_count": 20,
   "id": "26f591a2-8318-4181-95a1-e12676ef1ddf",
   "metadata": {},
   "outputs": [
    {
     "name": "stdout",
     "output_type": "stream",
     "text": [
      "The mean cross-validation accuracy is: 0.892 ± 0.013\n"
     ]
    }
   ],
   "source": [
    "scores = cv_result['test_score']\n",
    "\n",
    "print(\n",
    "    \"The mean cross-validation accuracy is: \"\n",
    "    f\"{scores.mean():.3f} ± {scores.std():.3f}\"\n",
    ")"
   ]
  },
  {
   "cell_type": "code",
   "execution_count": 21,
   "id": "d3d8cf6c-7730-4cbb-aa98-dc1bc69807bb",
   "metadata": {},
   "outputs": [],
   "source": [
    "# a pipeline with both numercial and categorical\n",
    "from sklearn.preprocessing import OneHotEncoder\n",
    "from sklearn.compose import make_column_selector as selector\n",
    "\n",
    "numerical_columns_selector = selector(dtype_exclude=object)\n",
    "categorical_columns_selector = selector(dtype_include=object)\n",
    "\n",
    "numerical_columns = numerical_columns_selector(data)\n",
    "categorical_columns  = categorical_columns_selector(data)"
   ]
  },
  {
   "cell_type": "code",
   "execution_count": 33,
   "id": "d8a71a95-2207-4cfb-b1d2-cd3cb25d2fb6",
   "metadata": {},
   "outputs": [],
   "source": [
    "# preporcessors\n",
    "from sklearn.compose import ColumnTransformer\n",
    "\n",
    "categorical_preprocessor = OneHotEncoder(handle_unknown='ignore')\n",
    "numerical_preprocessor = StandardScaler()\n",
    "\n",
    "preprocessor = ColumnTransformer([\n",
    "    ('one-hot-encoder', categorical_preprocessor, categorical_columns),\n",
    "    ('standard_scaler', numerical_preprocessor, numerical_columns)\n",
    "])"
   ]
  },
  {
   "cell_type": "code",
   "execution_count": 46,
   "id": "81a4c3bd-c2d5-4a60-a872-28f835a881fa",
   "metadata": {},
   "outputs": [],
   "source": [
    "model = make_pipeline(preprocessor, LogisticRegression(max_iter=300))\n",
    "\n",
    "cv_result = cross_validate(model, data, target, cv=2)"
   ]
  },
  {
   "cell_type": "code",
   "execution_count": 47,
   "id": "a43e7e53-c67c-41d5-bcb1-58625cda226c",
   "metadata": {},
   "outputs": [
    {
     "name": "stdout",
     "output_type": "stream",
     "text": [
      "The mean cross-validation accuracy is: 0.912 ± 0.014\n"
     ]
    }
   ],
   "source": [
    "scores = cv_result['test_score']\n",
    "\n",
    "print(\n",
    "    \"The mean cross-validation accuracy is: \"\n",
    "    f\"{scores.mean():.3f} ± {scores.std():.3f}\"\n",
    ")"
   ]
  },
  {
   "cell_type": "code",
   "execution_count": null,
   "id": "0a6bbbf2-dd6f-4689-9d72-beb1cb0a50ae",
   "metadata": {},
   "outputs": [],
   "source": []
  }
 ],
 "metadata": {
  "kernelspec": {
   "display_name": "Python 3 (ipykernel)",
   "language": "python",
   "name": "python3"
  },
  "language_info": {
   "codemirror_mode": {
    "name": "ipython",
    "version": 3
   },
   "file_extension": ".py",
   "mimetype": "text/x-python",
   "name": "python",
   "nbconvert_exporter": "python",
   "pygments_lexer": "ipython3",
   "version": "3.10.6"
  }
 },
 "nbformat": 4,
 "nbformat_minor": 5
}
