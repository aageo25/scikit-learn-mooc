{
 "cells": [
  {
   "cell_type": "markdown",
   "id": "3aa4afa7-9b52-4a2e-aea1-003a40ef7eb0",
   "metadata": {},
   "source": [
    "# [Wrap-up quiz 4](https://inria.github.io/scikit-learn-mooc/tuning/parameter_tuning_wrap_up_quiz.html)"
   ]
  },
  {
   "cell_type": "code",
   "execution_count": 1,
   "id": "29e4cf8b-f66d-4c56-b074-d216564316e2",
   "metadata": {},
   "outputs": [],
   "source": [
    "import pandas as pd\n",
    "\n",
    "penguins = pd.read_csv('./datasets/penguins.csv')\n",
    "\n",
    "columns = ['Body Mass (g)', 'Flipper Length (mm)', 'Culmen Length (mm)']\n",
    "target_name = 'Species'\n",
    "\n",
    "# Remove lines with missing values for the columns of interest\n",
    "penguins_non_missing = penguins[columns + [target_name]].dropna()\n",
    "\n",
    "data = penguins_non_missing[columns]\n",
    "target = penguins_non_missing[target_name]"
   ]
  },
  {
   "cell_type": "code",
   "execution_count": 4,
   "id": "a8061b0e-0d8c-44aa-9ab3-458775129e49",
   "metadata": {},
   "outputs": [
    {
     "name": "stdout",
     "output_type": "stream",
     "text": [
      "<class 'pandas.core.series.Series'>\n",
      "Int64Index: 342 entries, 0 to 343\n",
      "Series name: Species\n",
      "Non-Null Count  Dtype \n",
      "--------------  ----- \n",
      "342 non-null    object\n",
      "dtypes: object(1)\n",
      "memory usage: 5.3+ KB\n"
     ]
    }
   ],
   "source": [
    "target.info()"
   ]
  },
  {
   "cell_type": "code",
   "execution_count": 5,
   "id": "4c3d788e-99b2-43b8-9fde-2354ed37f8e7",
   "metadata": {},
   "outputs": [
    {
     "data": {
      "text/plain": [
       "count                                     342\n",
       "unique                                      3\n",
       "top       Adelie Penguin (Pygoscelis adeliae)\n",
       "freq                                      151\n",
       "Name: Species, dtype: object"
      ]
     },
     "execution_count": 5,
     "metadata": {},
     "output_type": "execute_result"
    }
   ],
   "source": [
    "target.describe()"
   ]
  },
  {
   "cell_type": "code",
   "execution_count": 10,
   "id": "f733613e-7f0c-41b0-bfa2-094454b69604",
   "metadata": {},
   "outputs": [
    {
     "data": {
      "text/plain": [
       "3"
      ]
     },
     "execution_count": 10,
     "metadata": {},
     "output_type": "execute_result"
    }
   ],
   "source": [
    "target.nunique()"
   ]
  },
  {
   "cell_type": "markdown",
   "id": "37941160-b6d4-4ec5-a880-e13203323891",
   "metadata": {},
   "source": [
    "The problem to be solved is a multiclass classification problem (more than 2 possible classes)"
   ]
  },
  {
   "cell_type": "code",
   "execution_count": 3,
   "id": "71ef0ece-56ce-4cb8-8b53-991162941487",
   "metadata": {},
   "outputs": [
    {
     "data": {
      "text/html": [
       "<div>\n",
       "<style scoped>\n",
       "    .dataframe tbody tr th:only-of-type {\n",
       "        vertical-align: middle;\n",
       "    }\n",
       "\n",
       "    .dataframe tbody tr th {\n",
       "        vertical-align: top;\n",
       "    }\n",
       "\n",
       "    .dataframe thead th {\n",
       "        text-align: right;\n",
       "    }\n",
       "</style>\n",
       "<table border=\"1\" class=\"dataframe\">\n",
       "  <thead>\n",
       "    <tr style=\"text-align: right;\">\n",
       "      <th></th>\n",
       "      <th>Body Mass (g)</th>\n",
       "      <th>Flipper Length (mm)</th>\n",
       "      <th>Culmen Length (mm)</th>\n",
       "    </tr>\n",
       "  </thead>\n",
       "  <tbody>\n",
       "    <tr>\n",
       "      <th>count</th>\n",
       "      <td>342.000000</td>\n",
       "      <td>342.000000</td>\n",
       "      <td>342.000000</td>\n",
       "    </tr>\n",
       "    <tr>\n",
       "      <th>mean</th>\n",
       "      <td>4201.754386</td>\n",
       "      <td>200.915205</td>\n",
       "      <td>43.921930</td>\n",
       "    </tr>\n",
       "    <tr>\n",
       "      <th>std</th>\n",
       "      <td>801.954536</td>\n",
       "      <td>14.061714</td>\n",
       "      <td>5.459584</td>\n",
       "    </tr>\n",
       "    <tr>\n",
       "      <th>min</th>\n",
       "      <td>2700.000000</td>\n",
       "      <td>172.000000</td>\n",
       "      <td>32.100000</td>\n",
       "    </tr>\n",
       "    <tr>\n",
       "      <th>25%</th>\n",
       "      <td>3550.000000</td>\n",
       "      <td>190.000000</td>\n",
       "      <td>39.225000</td>\n",
       "    </tr>\n",
       "    <tr>\n",
       "      <th>50%</th>\n",
       "      <td>4050.000000</td>\n",
       "      <td>197.000000</td>\n",
       "      <td>44.450000</td>\n",
       "    </tr>\n",
       "    <tr>\n",
       "      <th>75%</th>\n",
       "      <td>4750.000000</td>\n",
       "      <td>213.000000</td>\n",
       "      <td>48.500000</td>\n",
       "    </tr>\n",
       "    <tr>\n",
       "      <th>max</th>\n",
       "      <td>6300.000000</td>\n",
       "      <td>231.000000</td>\n",
       "      <td>59.600000</td>\n",
       "    </tr>\n",
       "  </tbody>\n",
       "</table>\n",
       "</div>"
      ],
      "text/plain": [
       "       Body Mass (g)  Flipper Length (mm)  Culmen Length (mm)\n",
       "count     342.000000           342.000000          342.000000\n",
       "mean     4201.754386           200.915205           43.921930\n",
       "std       801.954536            14.061714            5.459584\n",
       "min      2700.000000           172.000000           32.100000\n",
       "25%      3550.000000           190.000000           39.225000\n",
       "50%      4050.000000           197.000000           44.450000\n",
       "75%      4750.000000           213.000000           48.500000\n",
       "max      6300.000000           231.000000           59.600000"
      ]
     },
     "execution_count": 3,
     "metadata": {},
     "output_type": "execute_result"
    }
   ],
   "source": [
    "data.describe()"
   ]
  },
  {
   "cell_type": "code",
   "execution_count": 2,
   "id": "7e7cdb53-7a10-4850-a361-21a8a29e3ead",
   "metadata": {},
   "outputs": [
    {
     "name": "stdout",
     "output_type": "stream",
     "text": [
      "<class 'pandas.core.frame.DataFrame'>\n",
      "Int64Index: 342 entries, 0 to 343\n",
      "Data columns (total 3 columns):\n",
      " #   Column               Non-Null Count  Dtype  \n",
      "---  ------               --------------  -----  \n",
      " 0   Body Mass (g)        342 non-null    float64\n",
      " 1   Flipper Length (mm)  342 non-null    float64\n",
      " 2   Culmen Length (mm)   342 non-null    float64\n",
      "dtypes: float64(3)\n",
      "memory usage: 10.7 KB\n"
     ]
    }
   ],
   "source": [
    "data.info()"
   ]
  },
  {
   "cell_type": "markdown",
   "id": "56e5ec92-526c-4a7c-af78-8a49b89bf276",
   "metadata": {},
   "source": [
    "The proportion of the class counts are balanced: There are approximately the same number of rows for each class.\n",
    "\n",
    "The input feature DO NOT have similar scales (range of values)"
   ]
  },
  {
   "cell_type": "code",
   "execution_count": 48,
   "id": "09eeb8b0-3724-457d-9e1b-21e086b8c2d5",
   "metadata": {},
   "outputs": [],
   "source": [
    "from sklearn.neighbors import KNeighborsClassifier\n",
    "from sklearn.preprocessing import StandardScaler\n",
    "from sklearn.pipeline import Pipeline\n",
    "\n",
    "model = Pipeline(steps=[\n",
    "    ('preprocessor', StandardScaler()),\n",
    "    ('classifier', KNeighborsClassifier(n_neighbors=5))\n",
    "])"
   ]
  },
  {
   "cell_type": "code",
   "execution_count": 18,
   "id": "05deb87e-ac15-4495-afa5-7fe4e88b0f3f",
   "metadata": {},
   "outputs": [
    {
     "name": "stdout",
     "output_type": "stream",
     "text": [
      "Average cross-validates test balanced accuracy score: 0.952\n"
     ]
    }
   ],
   "source": [
    "from sklearn.model_selection import cross_validate\n",
    "\n",
    "cv_scores = cross_validate(\n",
    "    model, data, target, cv=10, scoring='balanced_accuracy'\n",
    ")\n",
    "\n",
    "print(f\"Average cross-validates test balanced accuracy score: \"\n",
    "      f\"{cv_scores['test_score'].mean():.3f}\")"
   ]
  },
  {
   "cell_type": "code",
   "execution_count": 20,
   "id": "1bf78dd9-dea3-4231-bbb3-f4875a46740c",
   "metadata": {},
   "outputs": [
    {
     "data": {
      "text/plain": [
       "{'memory': None,\n",
       " 'steps': [('preprocessor', StandardScaler()),\n",
       "  ('classifier', KNeighborsClassifier())],\n",
       " 'verbose': False,\n",
       " 'preprocessor': StandardScaler(),\n",
       " 'classifier': KNeighborsClassifier(),\n",
       " 'preprocessor__copy': True,\n",
       " 'preprocessor__with_mean': True,\n",
       " 'preprocessor__with_std': True,\n",
       " 'classifier__algorithm': 'auto',\n",
       " 'classifier__leaf_size': 30,\n",
       " 'classifier__metric': 'minkowski',\n",
       " 'classifier__metric_params': None,\n",
       " 'classifier__n_jobs': None,\n",
       " 'classifier__n_neighbors': 5,\n",
       " 'classifier__p': 2,\n",
       " 'classifier__weights': 'uniform'}"
      ]
     },
     "execution_count": 20,
     "metadata": {},
     "output_type": "execute_result"
    }
   ],
   "source": [
    "model.get_params()"
   ]
  },
  {
   "cell_type": "code",
   "execution_count": 49,
   "id": "102d5acd-44d4-49d2-8599-3da20094c04b",
   "metadata": {},
   "outputs": [],
   "source": [
    "from sklearn.model_selection import validation_curve\n",
    "\n",
    "param_range = [5, 51, 101]\n",
    "param_name = 'classifier__n_neighbors'\n",
    "\n",
    "train_scores, test_scores = validation_curve(\n",
    "    model, data, target, cv=10, scoring='balanced_accuracy',\n",
    "    param_name=param_name, param_range=param_range,\n",
    ")"
   ]
  },
  {
   "cell_type": "code",
   "execution_count": 30,
   "id": "849369cd-1aea-43ce-b110-638f4704dcb3",
   "metadata": {},
   "outputs": [],
   "source": [
    "import numpy as np"
   ]
  },
  {
   "cell_type": "code",
   "execution_count": 50,
   "id": "11506095-4435-48b7-b968-40629e9f7b49",
   "metadata": {},
   "outputs": [
    {
     "data": {
      "text/plain": [
       "4"
      ]
     },
     "execution_count": 50,
     "metadata": {},
     "output_type": "execute_result"
    }
   ],
   "source": [
    "np.count_nonzero(test_scores[0] > test_scores[1])"
   ]
  },
  {
   "cell_type": "markdown",
   "id": "b79c01c3-bf28-4daa-9c4f-478157c96b04",
   "metadata": {},
   "source": [
    "Looking at the individual cross-validation scores, using a model with `n_neighbors=5` is NOT  substantially better than a model with `n_neighbors=51`.\n"
   ]
  },
  {
   "cell_type": "code",
   "execution_count": 51,
   "id": "157cac74-ecc3-4792-b21d-cd98a59d962d",
   "metadata": {},
   "outputs": [
    {
     "data": {
      "text/plain": [
       "10"
      ]
     },
     "execution_count": 51,
     "metadata": {},
     "output_type": "execute_result"
    }
   ],
   "source": [
    "np.count_nonzero(test_scores[0] > test_scores[2])"
   ]
  },
  {
   "cell_type": "markdown",
   "id": "1b77eab5-e5a9-44ad-9f21-62c0a29fb6a7",
   "metadata": {},
   "source": [
    "Looking at the individual cross-validation scores, using a model with `n_neighbors=5` is substantially better than a model with `n_neighbors=101`"
   ]
  },
  {
   "cell_type": "code",
   "execution_count": 52,
   "id": "820d0fe4-7602-4838-ab0e-e96dcb108a71",
   "metadata": {},
   "outputs": [],
   "source": [
    "model_unscaled = KNeighborsClassifier(n_neighbors=5)"
   ]
  },
  {
   "cell_type": "code",
   "execution_count": 53,
   "id": "a44c2f81-5588-4bfe-830d-e95e69cf7899",
   "metadata": {},
   "outputs": [],
   "source": [
    "cv_scores_unscaled = cross_validate(\n",
    "    model_unscaled, data, target, cv=10, scoring='balanced_accuracy'\n",
    ")"
   ]
  },
  {
   "cell_type": "code",
   "execution_count": 61,
   "id": "9c5b172f-952e-4d1b-ab74-bb900c61c68b",
   "metadata": {},
   "outputs": [
    {
     "data": {
      "text/plain": [
       "10"
      ]
     },
     "execution_count": 61,
     "metadata": {},
     "output_type": "execute_result"
    }
   ],
   "source": [
    "np.count_nonzero(test_scores[0] > cv_scores_unscaled['test_score'])"
   ]
  },
  {
   "cell_type": "code",
   "execution_count": 59,
   "id": "9261aab1-bade-4d7a-a91e-577c845c5fa0",
   "metadata": {},
   "outputs": [
    {
     "data": {
      "text/plain": [
       "array([0.66468254, 0.73601954, 0.74102564, 0.7042735 , 0.58412698,\n",
       "       0.66984127, 0.83492063, 0.74285714, 0.88253968, 0.83809524])"
      ]
     },
     "execution_count": 59,
     "metadata": {},
     "output_type": "execute_result"
    }
   ],
   "source": [
    "cv_scores_unscaled['test_score']"
   ]
  },
  {
   "cell_type": "code",
   "execution_count": 60,
   "id": "f143f4cd-8f77-41e1-8059-fa6ceeaaf5bd",
   "metadata": {},
   "outputs": [
    {
     "data": {
      "text/plain": [
       "array([1.        , 1.        , 1.        , 0.91880342, 0.88253968,\n",
       "       0.95238095, 0.97777778, 0.93015873, 0.90793651, 0.95238095])"
      ]
     },
     "execution_count": 60,
     "metadata": {},
     "output_type": "execute_result"
    }
   ],
   "source": [
    "test_scores[0]"
   ]
  },
  {
   "cell_type": "markdown",
   "id": "87f5aa14-cc5f-44fd-b387-8a7b8cb28188",
   "metadata": {},
   "source": [
    "Looking at the individual cross-validation scores, a 5 neares neighbors using a `StandardScaler` is substantially better (at least 7 of the cross-validations scores are better) than a 5 nearest neighbors using the raw features (without scaling)."
   ]
  },
  {
   "cell_type": "code",
   "execution_count": 65,
   "id": "a63ce97c-c897-49e6-8ecb-9f77bd66cef2",
   "metadata": {},
   "outputs": [],
   "source": [
    "from sklearn.preprocessing import MinMaxScaler, QuantileTransformer, PowerTransformer\n",
    "\n",
    "all_preprocessors = [\n",
    "    None,\n",
    "    StandardScaler(),\n",
    "    MinMaxScaler(),\n",
    "    QuantileTransformer(n_quantiles=100),\n",
    "    PowerTransformer(method='box-cox')\n",
    "]\n",
    "\n",
    "param_grid = {\n",
    "    'preprocessor': all_preprocessors,\n",
    "    'classifier__n_neighbors': [5, 51, 101]\n",
    "}"
   ]
  },
  {
   "cell_type": "code",
   "execution_count": 63,
   "id": "476b740b-d896-4420-a248-48c3690f569b",
   "metadata": {},
   "outputs": [],
   "source": [
    "from sklearn.model_selection import GridSearchCV, StratifiedKFold"
   ]
  },
  {
   "cell_type": "code",
   "execution_count": 69,
   "id": "701399e5-253c-427d-b59f-4992f9175e70",
   "metadata": {},
   "outputs": [
    {
     "ename": "TypeError",
     "evalue": "GridSearchCV.__init__() got multiple values for argument 'param_grid'",
     "output_type": "error",
     "traceback": [
      "\u001b[0;31m---------------------------------------------------------------------------\u001b[0m",
      "\u001b[0;31mTypeError\u001b[0m                                 Traceback (most recent call last)",
      "Cell \u001b[0;32mIn[69], line 6\u001b[0m\n\u001b[1;32m      1\u001b[0m model \u001b[38;5;241m=\u001b[39m Pipeline(steps\u001b[38;5;241m=\u001b[39m[\n\u001b[1;32m      2\u001b[0m     (\u001b[38;5;124m'\u001b[39m\u001b[38;5;124mpreprocessor\u001b[39m\u001b[38;5;124m'\u001b[39m, StandardScaler()),\n\u001b[1;32m      3\u001b[0m     (\u001b[38;5;124m'\u001b[39m\u001b[38;5;124mclassifier\u001b[39m\u001b[38;5;124m'\u001b[39m, KNeighborsClassifier())\n\u001b[1;32m      4\u001b[0m ])\n\u001b[0;32m----> 6\u001b[0m gridsearch \u001b[38;5;241m=\u001b[39m \u001b[43mGridSearchCV\u001b[49m\u001b[43m(\u001b[49m\n\u001b[1;32m      7\u001b[0m \u001b[43m    \u001b[49m\u001b[43mmodel\u001b[49m\u001b[43m,\u001b[49m\u001b[43m \u001b[49m\u001b[43mdata\u001b[49m\u001b[43m,\u001b[49m\u001b[43m \u001b[49m\u001b[43mtarget\u001b[49m\u001b[43m,\u001b[49m\u001b[43m \u001b[49m\u001b[43mparam_grid\u001b[49m\u001b[38;5;241;43m=\u001b[39;49m\u001b[43mparam_grid\u001b[49m\u001b[43m,\u001b[49m\n\u001b[1;32m      8\u001b[0m \u001b[43m    \u001b[49m\u001b[43mcv\u001b[49m\u001b[38;5;241;43m=\u001b[39;49m\u001b[38;5;241;43m10\u001b[39;49m\u001b[43m,\u001b[49m\u001b[43m \u001b[49m\u001b[43mscoring\u001b[49m\u001b[38;5;241;43m=\u001b[39;49m\u001b[38;5;124;43m'\u001b[39;49m\u001b[38;5;124;43mbalanced_accuracy\u001b[39;49m\u001b[38;5;124;43m'\u001b[39;49m\u001b[43m,\u001b[49m\u001b[43m \u001b[49m\u001b[43mn_jobs\u001b[49m\u001b[38;5;241;43m=\u001b[39;49m\u001b[38;5;241;43m4\u001b[39;49m\n\u001b[1;32m      9\u001b[0m \u001b[43m)\u001b[49m\n",
      "\u001b[0;31mTypeError\u001b[0m: GridSearchCV.__init__() got multiple values for argument 'param_grid'"
     ]
    }
   ],
   "source": [
    "model = Pipeline(steps=[\n",
    "    ('preprocessor', StandardScaler()),\n",
    "    ('classifier', KNeighborsClassifier())\n",
    "])\n",
    "\n",
    "gridsearch = GridSearchCV(\n",
    "    model, param_grid=param_grid,\n",
    "    cv=10, scoring='balanced_accuracy', n_jobs=4\n",
    ")"
   ]
  },
  {
   "cell_type": "code",
   "execution_count": 70,
   "id": "57cdb27c-57a2-4ca6-8d77-14266d7f3732",
   "metadata": {
    "scrolled": true
   },
   "outputs": [
    {
     "data": {
      "text/html": [
       "<style>#sk-container-id-2 {color: black;}#sk-container-id-2 pre{padding: 0;}#sk-container-id-2 div.sk-toggleable {background-color: white;}#sk-container-id-2 label.sk-toggleable__label {cursor: pointer;display: block;width: 100%;margin-bottom: 0;padding: 0.3em;box-sizing: border-box;text-align: center;}#sk-container-id-2 label.sk-toggleable__label-arrow:before {content: \"▸\";float: left;margin-right: 0.25em;color: #696969;}#sk-container-id-2 label.sk-toggleable__label-arrow:hover:before {color: black;}#sk-container-id-2 div.sk-estimator:hover label.sk-toggleable__label-arrow:before {color: black;}#sk-container-id-2 div.sk-toggleable__content {max-height: 0;max-width: 0;overflow: hidden;text-align: left;background-color: #f0f8ff;}#sk-container-id-2 div.sk-toggleable__content pre {margin: 0.2em;color: black;border-radius: 0.25em;background-color: #f0f8ff;}#sk-container-id-2 input.sk-toggleable__control:checked~div.sk-toggleable__content {max-height: 200px;max-width: 100%;overflow: auto;}#sk-container-id-2 input.sk-toggleable__control:checked~label.sk-toggleable__label-arrow:before {content: \"▾\";}#sk-container-id-2 div.sk-estimator input.sk-toggleable__control:checked~label.sk-toggleable__label {background-color: #d4ebff;}#sk-container-id-2 div.sk-label input.sk-toggleable__control:checked~label.sk-toggleable__label {background-color: #d4ebff;}#sk-container-id-2 input.sk-hidden--visually {border: 0;clip: rect(1px 1px 1px 1px);clip: rect(1px, 1px, 1px, 1px);height: 1px;margin: -1px;overflow: hidden;padding: 0;position: absolute;width: 1px;}#sk-container-id-2 div.sk-estimator {font-family: monospace;background-color: #f0f8ff;border: 1px dotted black;border-radius: 0.25em;box-sizing: border-box;margin-bottom: 0.5em;}#sk-container-id-2 div.sk-estimator:hover {background-color: #d4ebff;}#sk-container-id-2 div.sk-parallel-item::after {content: \"\";width: 100%;border-bottom: 1px solid gray;flex-grow: 1;}#sk-container-id-2 div.sk-label:hover label.sk-toggleable__label {background-color: #d4ebff;}#sk-container-id-2 div.sk-serial::before {content: \"\";position: absolute;border-left: 1px solid gray;box-sizing: border-box;top: 0;bottom: 0;left: 50%;z-index: 0;}#sk-container-id-2 div.sk-serial {display: flex;flex-direction: column;align-items: center;background-color: white;padding-right: 0.2em;padding-left: 0.2em;position: relative;}#sk-container-id-2 div.sk-item {position: relative;z-index: 1;}#sk-container-id-2 div.sk-parallel {display: flex;align-items: stretch;justify-content: center;background-color: white;position: relative;}#sk-container-id-2 div.sk-item::before, #sk-container-id-2 div.sk-parallel-item::before {content: \"\";position: absolute;border-left: 1px solid gray;box-sizing: border-box;top: 0;bottom: 0;left: 50%;z-index: -1;}#sk-container-id-2 div.sk-parallel-item {display: flex;flex-direction: column;z-index: 1;position: relative;background-color: white;}#sk-container-id-2 div.sk-parallel-item:first-child::after {align-self: flex-end;width: 50%;}#sk-container-id-2 div.sk-parallel-item:last-child::after {align-self: flex-start;width: 50%;}#sk-container-id-2 div.sk-parallel-item:only-child::after {width: 0;}#sk-container-id-2 div.sk-dashed-wrapped {border: 1px dashed gray;margin: 0 0.4em 0.5em 0.4em;box-sizing: border-box;padding-bottom: 0.4em;background-color: white;}#sk-container-id-2 div.sk-label label {font-family: monospace;font-weight: bold;display: inline-block;line-height: 1.2em;}#sk-container-id-2 div.sk-label-container {text-align: center;}#sk-container-id-2 div.sk-container {/* jupyter's `normalize.less` sets `[hidden] { display: none; }` but bootstrap.min.css set `[hidden] { display: none !important; }` so we also need the `!important` here to be able to override the default hidden behavior on the sphinx rendered scikit-learn.org. See: https://github.com/scikit-learn/scikit-learn/issues/21755 */display: inline-block !important;position: relative;}#sk-container-id-2 div.sk-text-repr-fallback {display: none;}</style><div id=\"sk-container-id-2\" class=\"sk-top-container\"><div class=\"sk-text-repr-fallback\"><pre>GridSearchCV(cv=10,\n",
       "             estimator=Pipeline(steps=[(&#x27;preprocessor&#x27;, StandardScaler()),\n",
       "                                       (&#x27;classifier&#x27;, KNeighborsClassifier())]),\n",
       "             n_jobs=4,\n",
       "             param_grid={&#x27;classifier__n_neighbors&#x27;: [5, 51, 101],\n",
       "                         &#x27;preprocessor&#x27;: [None, StandardScaler(),\n",
       "                                          MinMaxScaler(),\n",
       "                                          QuantileTransformer(n_quantiles=100),\n",
       "                                          PowerTransformer(method=&#x27;box-cox&#x27;)]},\n",
       "             scoring=&#x27;balanced_accuracy&#x27;)</pre><b>In a Jupyter environment, please rerun this cell to show the HTML representation or trust the notebook. <br />On GitHub, the HTML representation is unable to render, please try loading this page with nbviewer.org.</b></div><div class=\"sk-container\" hidden><div class=\"sk-item sk-dashed-wrapped\"><div class=\"sk-label-container\"><div class=\"sk-label sk-toggleable\"><input class=\"sk-toggleable__control sk-hidden--visually\" id=\"sk-estimator-id-5\" type=\"checkbox\" ><label for=\"sk-estimator-id-5\" class=\"sk-toggleable__label sk-toggleable__label-arrow\">GridSearchCV</label><div class=\"sk-toggleable__content\"><pre>GridSearchCV(cv=10,\n",
       "             estimator=Pipeline(steps=[(&#x27;preprocessor&#x27;, StandardScaler()),\n",
       "                                       (&#x27;classifier&#x27;, KNeighborsClassifier())]),\n",
       "             n_jobs=4,\n",
       "             param_grid={&#x27;classifier__n_neighbors&#x27;: [5, 51, 101],\n",
       "                         &#x27;preprocessor&#x27;: [None, StandardScaler(),\n",
       "                                          MinMaxScaler(),\n",
       "                                          QuantileTransformer(n_quantiles=100),\n",
       "                                          PowerTransformer(method=&#x27;box-cox&#x27;)]},\n",
       "             scoring=&#x27;balanced_accuracy&#x27;)</pre></div></div></div><div class=\"sk-parallel\"><div class=\"sk-parallel-item\"><div class=\"sk-item\"><div class=\"sk-label-container\"><div class=\"sk-label sk-toggleable\"><input class=\"sk-toggleable__control sk-hidden--visually\" id=\"sk-estimator-id-6\" type=\"checkbox\" ><label for=\"sk-estimator-id-6\" class=\"sk-toggleable__label sk-toggleable__label-arrow\">estimator: Pipeline</label><div class=\"sk-toggleable__content\"><pre>Pipeline(steps=[(&#x27;preprocessor&#x27;, StandardScaler()),\n",
       "                (&#x27;classifier&#x27;, KNeighborsClassifier())])</pre></div></div></div><div class=\"sk-serial\"><div class=\"sk-item\"><div class=\"sk-serial\"><div class=\"sk-item\"><div class=\"sk-estimator sk-toggleable\"><input class=\"sk-toggleable__control sk-hidden--visually\" id=\"sk-estimator-id-7\" type=\"checkbox\" ><label for=\"sk-estimator-id-7\" class=\"sk-toggleable__label sk-toggleable__label-arrow\">StandardScaler</label><div class=\"sk-toggleable__content\"><pre>StandardScaler()</pre></div></div></div><div class=\"sk-item\"><div class=\"sk-estimator sk-toggleable\"><input class=\"sk-toggleable__control sk-hidden--visually\" id=\"sk-estimator-id-8\" type=\"checkbox\" ><label for=\"sk-estimator-id-8\" class=\"sk-toggleable__label sk-toggleable__label-arrow\">KNeighborsClassifier</label><div class=\"sk-toggleable__content\"><pre>KNeighborsClassifier()</pre></div></div></div></div></div></div></div></div></div></div></div></div>"
      ],
      "text/plain": [
       "GridSearchCV(cv=10,\n",
       "             estimator=Pipeline(steps=[('preprocessor', StandardScaler()),\n",
       "                                       ('classifier', KNeighborsClassifier())]),\n",
       "             n_jobs=4,\n",
       "             param_grid={'classifier__n_neighbors': [5, 51, 101],\n",
       "                         'preprocessor': [None, StandardScaler(),\n",
       "                                          MinMaxScaler(),\n",
       "                                          QuantileTransformer(n_quantiles=100),\n",
       "                                          PowerTransformer(method='box-cox')]},\n",
       "             scoring='balanced_accuracy')"
      ]
     },
     "execution_count": 70,
     "metadata": {},
     "output_type": "execute_result"
    }
   ],
   "source": [
    "gridsearch.fit(data, target)"
   ]
  },
  {
   "cell_type": "code",
   "execution_count": 88,
   "id": "fe04570a-4cf9-4547-af96-3e5e4ab67ce8",
   "metadata": {},
   "outputs": [
    {
     "data": {
      "text/html": [
       "<div>\n",
       "<style scoped>\n",
       "    .dataframe tbody tr th:only-of-type {\n",
       "        vertical-align: middle;\n",
       "    }\n",
       "\n",
       "    .dataframe tbody tr th {\n",
       "        vertical-align: top;\n",
       "    }\n",
       "\n",
       "    .dataframe thead th {\n",
       "        text-align: right;\n",
       "    }\n",
       "</style>\n",
       "<table border=\"1\" class=\"dataframe\">\n",
       "  <thead>\n",
       "    <tr style=\"text-align: right;\">\n",
       "      <th></th>\n",
       "      <th>mean_fit_time</th>\n",
       "      <th>std_fit_time</th>\n",
       "      <th>mean_score_time</th>\n",
       "      <th>std_score_time</th>\n",
       "      <th>param_classifier__n_neighbors</th>\n",
       "      <th>param_preprocessor</th>\n",
       "      <th>params</th>\n",
       "      <th>split0_test_score</th>\n",
       "      <th>split1_test_score</th>\n",
       "      <th>split2_test_score</th>\n",
       "      <th>split3_test_score</th>\n",
       "      <th>split4_test_score</th>\n",
       "      <th>split5_test_score</th>\n",
       "      <th>split6_test_score</th>\n",
       "      <th>split7_test_score</th>\n",
       "      <th>split8_test_score</th>\n",
       "      <th>split9_test_score</th>\n",
       "      <th>mean_test_score</th>\n",
       "      <th>std_test_score</th>\n",
       "      <th>rank_test_score</th>\n",
       "    </tr>\n",
       "  </thead>\n",
       "  <tbody>\n",
       "    <tr>\n",
       "      <th>1</th>\n",
       "      <td>0.006578</td>\n",
       "      <td>0.000898</td>\n",
       "      <td>0.008160</td>\n",
       "      <td>0.000783</td>\n",
       "      <td>5</td>\n",
       "      <td>StandardScaler()</td>\n",
       "      <td>{'classifier__n_neighbors': 5, 'preprocessor':...</td>\n",
       "      <td>1.000000</td>\n",
       "      <td>1.000000</td>\n",
       "      <td>1.0</td>\n",
       "      <td>0.918803</td>\n",
       "      <td>0.882540</td>\n",
       "      <td>0.952381</td>\n",
       "      <td>0.977778</td>\n",
       "      <td>0.930159</td>\n",
       "      <td>0.907937</td>\n",
       "      <td>0.952381</td>\n",
       "      <td>0.952198</td>\n",
       "      <td>0.039902</td>\n",
       "      <td>1</td>\n",
       "    </tr>\n",
       "    <tr>\n",
       "      <th>2</th>\n",
       "      <td>0.005309</td>\n",
       "      <td>0.000653</td>\n",
       "      <td>0.006965</td>\n",
       "      <td>0.000604</td>\n",
       "      <td>5</td>\n",
       "      <td>MinMaxScaler()</td>\n",
       "      <td>{'classifier__n_neighbors': 5, 'preprocessor':...</td>\n",
       "      <td>1.000000</td>\n",
       "      <td>0.952381</td>\n",
       "      <td>1.0</td>\n",
       "      <td>0.944444</td>\n",
       "      <td>0.882540</td>\n",
       "      <td>0.930159</td>\n",
       "      <td>0.955556</td>\n",
       "      <td>0.952381</td>\n",
       "      <td>0.907937</td>\n",
       "      <td>0.952381</td>\n",
       "      <td>0.947778</td>\n",
       "      <td>0.034268</td>\n",
       "      <td>2</td>\n",
       "    </tr>\n",
       "    <tr>\n",
       "      <th>3</th>\n",
       "      <td>0.006465</td>\n",
       "      <td>0.000899</td>\n",
       "      <td>0.006506</td>\n",
       "      <td>0.000495</td>\n",
       "      <td>5</td>\n",
       "      <td>QuantileTransformer(n_quantiles=100)</td>\n",
       "      <td>{'classifier__n_neighbors': 5, 'preprocessor':...</td>\n",
       "      <td>0.952381</td>\n",
       "      <td>0.926740</td>\n",
       "      <td>1.0</td>\n",
       "      <td>0.918803</td>\n",
       "      <td>0.904762</td>\n",
       "      <td>1.000000</td>\n",
       "      <td>0.977778</td>\n",
       "      <td>0.930159</td>\n",
       "      <td>0.907937</td>\n",
       "      <td>0.952381</td>\n",
       "      <td>0.947094</td>\n",
       "      <td>0.033797</td>\n",
       "      <td>3</td>\n",
       "    </tr>\n",
       "    <tr>\n",
       "      <th>4</th>\n",
       "      <td>0.008953</td>\n",
       "      <td>0.002144</td>\n",
       "      <td>0.006120</td>\n",
       "      <td>0.000553</td>\n",
       "      <td>5</td>\n",
       "      <td>PowerTransformer(method='box-cox')</td>\n",
       "      <td>{'classifier__n_neighbors': 5, 'preprocessor':...</td>\n",
       "      <td>1.000000</td>\n",
       "      <td>0.977778</td>\n",
       "      <td>1.0</td>\n",
       "      <td>0.863248</td>\n",
       "      <td>0.882540</td>\n",
       "      <td>0.952381</td>\n",
       "      <td>0.955556</td>\n",
       "      <td>0.930159</td>\n",
       "      <td>0.907937</td>\n",
       "      <td>1.000000</td>\n",
       "      <td>0.946960</td>\n",
       "      <td>0.047387</td>\n",
       "      <td>4</td>\n",
       "    </tr>\n",
       "    <tr>\n",
       "      <th>6</th>\n",
       "      <td>0.004229</td>\n",
       "      <td>0.000566</td>\n",
       "      <td>0.006067</td>\n",
       "      <td>0.000453</td>\n",
       "      <td>51</td>\n",
       "      <td>StandardScaler()</td>\n",
       "      <td>{'classifier__n_neighbors': 51, 'preprocessor'...</td>\n",
       "      <td>0.952381</td>\n",
       "      <td>0.977778</td>\n",
       "      <td>1.0</td>\n",
       "      <td>0.863248</td>\n",
       "      <td>0.882540</td>\n",
       "      <td>0.952381</td>\n",
       "      <td>0.955556</td>\n",
       "      <td>0.952381</td>\n",
       "      <td>0.930159</td>\n",
       "      <td>0.952381</td>\n",
       "      <td>0.941880</td>\n",
       "      <td>0.038905</td>\n",
       "      <td>5</td>\n",
       "    </tr>\n",
       "  </tbody>\n",
       "</table>\n",
       "</div>"
      ],
      "text/plain": [
       "   mean_fit_time  std_fit_time  ...  std_test_score  rank_test_score\n",
       "1       0.006578      0.000898  ...        0.039902                1\n",
       "2       0.005309      0.000653  ...        0.034268                2\n",
       "3       0.006465      0.000899  ...        0.033797                3\n",
       "4       0.008953      0.002144  ...        0.047387                4\n",
       "6       0.004229      0.000566  ...        0.038905                5\n",
       "\n",
       "[5 rows x 20 columns]"
      ]
     },
     "execution_count": 88,
     "metadata": {},
     "output_type": "execute_result"
    }
   ],
   "source": [
    "cv_results = pd.DataFrame(gridsearch.cv_results_).sort_values(\n",
    "    \"mean_test_score\", ascending=False)\n",
    "cv_results.head()"
   ]
  },
  {
   "cell_type": "markdown",
   "id": "03c5e9b6-ee5a-4623-ac56-7f48f9022e88",
   "metadata": {},
   "source": [
    "Let us focus on the most interesting columns and shorten the parameter\n",
    "names to remove the `\"param_classifier__\"` prefix for readability:"
   ]
  },
  {
   "cell_type": "code",
   "execution_count": 89,
   "id": "455eb5a1-c01a-4806-806e-73c89bbb522b",
   "metadata": {},
   "outputs": [],
   "source": [
    "# get the parameter names\n",
    "column_results = [f\"param_{name}\" for name in param_grid.keys()]\n",
    "column_results += [\n",
    "    \"mean_test_score\", \"std_test_score\", \"rank_test_score\"]\n",
    "cv_results = cv_results[column_results]"
   ]
  },
  {
   "cell_type": "code",
   "execution_count": 90,
   "id": "78f38948-bda0-4288-90bb-9284af310ff7",
   "metadata": {},
   "outputs": [
    {
     "data": {
      "text/html": [
       "<div>\n",
       "<style scoped>\n",
       "    .dataframe tbody tr th:only-of-type {\n",
       "        vertical-align: middle;\n",
       "    }\n",
       "\n",
       "    .dataframe tbody tr th {\n",
       "        vertical-align: top;\n",
       "    }\n",
       "\n",
       "    .dataframe thead th {\n",
       "        text-align: right;\n",
       "    }\n",
       "</style>\n",
       "<table border=\"1\" class=\"dataframe\">\n",
       "  <thead>\n",
       "    <tr style=\"text-align: right;\">\n",
       "      <th></th>\n",
       "      <th>param_preprocessor</th>\n",
       "      <th>n_neighbors</th>\n",
       "      <th>mean_test_score</th>\n",
       "      <th>std_test_score</th>\n",
       "      <th>rank_test_score</th>\n",
       "    </tr>\n",
       "  </thead>\n",
       "  <tbody>\n",
       "    <tr>\n",
       "      <th>1</th>\n",
       "      <td>StandardScaler()</td>\n",
       "      <td>5</td>\n",
       "      <td>0.952198</td>\n",
       "      <td>0.039902</td>\n",
       "      <td>1</td>\n",
       "    </tr>\n",
       "    <tr>\n",
       "      <th>2</th>\n",
       "      <td>MinMaxScaler()</td>\n",
       "      <td>5</td>\n",
       "      <td>0.947778</td>\n",
       "      <td>0.034268</td>\n",
       "      <td>2</td>\n",
       "    </tr>\n",
       "    <tr>\n",
       "      <th>3</th>\n",
       "      <td>QuantileTransformer(n_quantiles=100)</td>\n",
       "      <td>5</td>\n",
       "      <td>0.947094</td>\n",
       "      <td>0.033797</td>\n",
       "      <td>3</td>\n",
       "    </tr>\n",
       "    <tr>\n",
       "      <th>4</th>\n",
       "      <td>PowerTransformer(method='box-cox')</td>\n",
       "      <td>5</td>\n",
       "      <td>0.946960</td>\n",
       "      <td>0.047387</td>\n",
       "      <td>4</td>\n",
       "    </tr>\n",
       "    <tr>\n",
       "      <th>6</th>\n",
       "      <td>StandardScaler()</td>\n",
       "      <td>51</td>\n",
       "      <td>0.941880</td>\n",
       "      <td>0.038905</td>\n",
       "      <td>5</td>\n",
       "    </tr>\n",
       "    <tr>\n",
       "      <th>8</th>\n",
       "      <td>QuantileTransformer(n_quantiles=100)</td>\n",
       "      <td>51</td>\n",
       "      <td>0.927277</td>\n",
       "      <td>0.043759</td>\n",
       "      <td>6</td>\n",
       "    </tr>\n",
       "    <tr>\n",
       "      <th>9</th>\n",
       "      <td>PowerTransformer(method='box-cox')</td>\n",
       "      <td>51</td>\n",
       "      <td>0.922833</td>\n",
       "      <td>0.047883</td>\n",
       "      <td>7</td>\n",
       "    </tr>\n",
       "    <tr>\n",
       "      <th>7</th>\n",
       "      <td>MinMaxScaler()</td>\n",
       "      <td>51</td>\n",
       "      <td>0.920293</td>\n",
       "      <td>0.045516</td>\n",
       "      <td>8</td>\n",
       "    </tr>\n",
       "    <tr>\n",
       "      <th>11</th>\n",
       "      <td>StandardScaler()</td>\n",
       "      <td>101</td>\n",
       "      <td>0.876642</td>\n",
       "      <td>0.041618</td>\n",
       "      <td>9</td>\n",
       "    </tr>\n",
       "    <tr>\n",
       "      <th>12</th>\n",
       "      <td>MinMaxScaler()</td>\n",
       "      <td>101</td>\n",
       "      <td>0.862357</td>\n",
       "      <td>0.046244</td>\n",
       "      <td>10</td>\n",
       "    </tr>\n",
       "    <tr>\n",
       "      <th>14</th>\n",
       "      <td>PowerTransformer(method='box-cox')</td>\n",
       "      <td>101</td>\n",
       "      <td>0.857143</td>\n",
       "      <td>0.041000</td>\n",
       "      <td>11</td>\n",
       "    </tr>\n",
       "    <tr>\n",
       "      <th>13</th>\n",
       "      <td>QuantileTransformer(n_quantiles=100)</td>\n",
       "      <td>101</td>\n",
       "      <td>0.812991</td>\n",
       "      <td>0.044788</td>\n",
       "      <td>12</td>\n",
       "    </tr>\n",
       "    <tr>\n",
       "      <th>0</th>\n",
       "      <td>None</td>\n",
       "      <td>5</td>\n",
       "      <td>0.739838</td>\n",
       "      <td>0.086685</td>\n",
       "      <td>13</td>\n",
       "    </tr>\n",
       "    <tr>\n",
       "      <th>10</th>\n",
       "      <td>None</td>\n",
       "      <td>101</td>\n",
       "      <td>0.613857</td>\n",
       "      <td>0.031472</td>\n",
       "      <td>14</td>\n",
       "    </tr>\n",
       "    <tr>\n",
       "      <th>5</th>\n",
       "      <td>None</td>\n",
       "      <td>51</td>\n",
       "      <td>0.605182</td>\n",
       "      <td>0.036480</td>\n",
       "      <td>15</td>\n",
       "    </tr>\n",
       "  </tbody>\n",
       "</table>\n",
       "</div>"
      ],
      "text/plain": [
       "                      param_preprocessor  ... rank_test_score\n",
       "1                       StandardScaler()  ...               1\n",
       "2                         MinMaxScaler()  ...               2\n",
       "3   QuantileTransformer(n_quantiles=100)  ...               3\n",
       "4     PowerTransformer(method='box-cox')  ...               4\n",
       "6                       StandardScaler()  ...               5\n",
       "8   QuantileTransformer(n_quantiles=100)  ...               6\n",
       "9     PowerTransformer(method='box-cox')  ...               7\n",
       "7                         MinMaxScaler()  ...               8\n",
       "11                      StandardScaler()  ...               9\n",
       "12                        MinMaxScaler()  ...              10\n",
       "14    PowerTransformer(method='box-cox')  ...              11\n",
       "13  QuantileTransformer(n_quantiles=100)  ...              12\n",
       "0                                   None  ...              13\n",
       "10                                  None  ...              14\n",
       "5                                   None  ...              15\n",
       "\n",
       "[15 rows x 5 columns]"
      ]
     },
     "execution_count": 90,
     "metadata": {},
     "output_type": "execute_result"
    }
   ],
   "source": [
    "def shorten_param(param_name):\n",
    "    if \"__\" in param_name:\n",
    "        return param_name.rsplit(\"__\", 1)[1]\n",
    "    return param_name\n",
    "\n",
    "\n",
    "cv_results = cv_results.rename(shorten_param, axis=1)\n",
    "cv_results"
   ]
  }
 ],
 "metadata": {
  "kernelspec": {
   "display_name": "Python 3 (ipykernel)",
   "language": "python",
   "name": "python3"
  },
  "language_info": {
   "codemirror_mode": {
    "name": "ipython",
    "version": 3
   },
   "file_extension": ".py",
   "mimetype": "text/x-python",
   "name": "python",
   "nbconvert_exporter": "python",
   "pygments_lexer": "ipython3",
   "version": "3.10.6"
  }
 },
 "nbformat": 4,
 "nbformat_minor": 5
}
