{
 "cells": [
  {
   "cell_type": "code",
   "execution_count": 1,
   "id": "82616e30-7ecf-45ba-b4d2-2413458289cf",
   "metadata": {},
   "outputs": [
    {
     "data": {
      "text/html": [
       "<div>\n",
       "<style scoped>\n",
       "    .dataframe tbody tr th:only-of-type {\n",
       "        vertical-align: middle;\n",
       "    }\n",
       "\n",
       "    .dataframe tbody tr th {\n",
       "        vertical-align: top;\n",
       "    }\n",
       "\n",
       "    .dataframe thead th {\n",
       "        text-align: right;\n",
       "    }\n",
       "</style>\n",
       "<table border=\"1\" class=\"dataframe\">\n",
       "  <thead>\n",
       "    <tr style=\"text-align: right;\">\n",
       "      <th></th>\n",
       "      <th>heart-rate</th>\n",
       "      <th>cadence</th>\n",
       "      <th>speed</th>\n",
       "      <th>acceleration</th>\n",
       "      <th>slope</th>\n",
       "    </tr>\n",
       "    <tr>\n",
       "      <th></th>\n",
       "      <th></th>\n",
       "      <th></th>\n",
       "      <th></th>\n",
       "      <th></th>\n",
       "      <th></th>\n",
       "    </tr>\n",
       "  </thead>\n",
       "  <tbody>\n",
       "    <tr>\n",
       "      <th>2020-08-18 14:43:19</th>\n",
       "      <td>102.0</td>\n",
       "      <td>64.0</td>\n",
       "      <td>4.325</td>\n",
       "      <td>0.0880</td>\n",
       "      <td>-0.033870</td>\n",
       "    </tr>\n",
       "    <tr>\n",
       "      <th>2020-08-18 14:43:20</th>\n",
       "      <td>103.0</td>\n",
       "      <td>64.0</td>\n",
       "      <td>4.336</td>\n",
       "      <td>0.0842</td>\n",
       "      <td>-0.033571</td>\n",
       "    </tr>\n",
       "    <tr>\n",
       "      <th>2020-08-18 14:43:21</th>\n",
       "      <td>105.0</td>\n",
       "      <td>66.0</td>\n",
       "      <td>4.409</td>\n",
       "      <td>0.0234</td>\n",
       "      <td>-0.033223</td>\n",
       "    </tr>\n",
       "    <tr>\n",
       "      <th>2020-08-18 14:43:22</th>\n",
       "      <td>106.0</td>\n",
       "      <td>66.0</td>\n",
       "      <td>4.445</td>\n",
       "      <td>0.0016</td>\n",
       "      <td>-0.032908</td>\n",
       "    </tr>\n",
       "    <tr>\n",
       "      <th>2020-08-18 14:43:23</th>\n",
       "      <td>106.0</td>\n",
       "      <td>67.0</td>\n",
       "      <td>4.441</td>\n",
       "      <td>0.1144</td>\n",
       "      <td>0.000000</td>\n",
       "    </tr>\n",
       "    <tr>\n",
       "      <th>...</th>\n",
       "      <td>...</td>\n",
       "      <td>...</td>\n",
       "      <td>...</td>\n",
       "      <td>...</td>\n",
       "      <td>...</td>\n",
       "    </tr>\n",
       "    <tr>\n",
       "      <th>2020-09-13 14:55:57</th>\n",
       "      <td>130.0</td>\n",
       "      <td>0.0</td>\n",
       "      <td>1.054</td>\n",
       "      <td>0.0234</td>\n",
       "      <td>0.000000</td>\n",
       "    </tr>\n",
       "    <tr>\n",
       "      <th>2020-09-13 14:55:58</th>\n",
       "      <td>130.0</td>\n",
       "      <td>0.0</td>\n",
       "      <td>0.829</td>\n",
       "      <td>0.0258</td>\n",
       "      <td>0.000000</td>\n",
       "    </tr>\n",
       "    <tr>\n",
       "      <th>2020-09-13 14:55:59</th>\n",
       "      <td>129.0</td>\n",
       "      <td>0.0</td>\n",
       "      <td>0.616</td>\n",
       "      <td>-0.1686</td>\n",
       "      <td>0.000000</td>\n",
       "    </tr>\n",
       "    <tr>\n",
       "      <th>2020-09-13 14:56:00</th>\n",
       "      <td>130.0</td>\n",
       "      <td>0.0</td>\n",
       "      <td>0.000</td>\n",
       "      <td>-0.4284</td>\n",
       "      <td>0.000000</td>\n",
       "    </tr>\n",
       "    <tr>\n",
       "      <th>2020-09-13 14:56:01</th>\n",
       "      <td>130.0</td>\n",
       "      <td>0.0</td>\n",
       "      <td>0.000</td>\n",
       "      <td>-0.3096</td>\n",
       "      <td>0.000000</td>\n",
       "    </tr>\n",
       "  </tbody>\n",
       "</table>\n",
       "<p>38254 rows × 5 columns</p>\n",
       "</div>"
      ],
      "text/plain": [
       "                     heart-rate  cadence  speed  acceleration     slope\n",
       "                                                                       \n",
       "2020-08-18 14:43:19       102.0     64.0  4.325        0.0880 -0.033870\n",
       "2020-08-18 14:43:20       103.0     64.0  4.336        0.0842 -0.033571\n",
       "2020-08-18 14:43:21       105.0     66.0  4.409        0.0234 -0.033223\n",
       "2020-08-18 14:43:22       106.0     66.0  4.445        0.0016 -0.032908\n",
       "2020-08-18 14:43:23       106.0     67.0  4.441        0.1144  0.000000\n",
       "...                         ...      ...    ...           ...       ...\n",
       "2020-09-13 14:55:57       130.0      0.0  1.054        0.0234  0.000000\n",
       "2020-09-13 14:55:58       130.0      0.0  0.829        0.0258  0.000000\n",
       "2020-09-13 14:55:59       129.0      0.0  0.616       -0.1686  0.000000\n",
       "2020-09-13 14:56:00       130.0      0.0  0.000       -0.4284  0.000000\n",
       "2020-09-13 14:56:01       130.0      0.0  0.000       -0.3096  0.000000\n",
       "\n",
       "[38254 rows x 5 columns]"
      ]
     },
     "execution_count": 1,
     "metadata": {},
     "output_type": "execute_result"
    }
   ],
   "source": [
    "import pandas as pd\n",
    "\n",
    "cycling = pd.read_csv('./datasets/bike_rides.csv', index_col=0, parse_dates=True)\n",
    "cycling.index.name = ''\n",
    "target_name = 'power'\n",
    "data, target = cycling.drop(columns=target_name), cycling[target_name]\n",
    "data"
   ]
  },
  {
   "cell_type": "code",
   "execution_count": 9,
   "id": "52b4d234-2d91-4d18-abd3-b491bfbd8012",
   "metadata": {},
   "outputs": [],
   "source": [
    "import numpy as np"
   ]
  },
  {
   "cell_type": "code",
   "execution_count": 36,
   "id": "8e64fb99-0a36-46d9-8ee0-4e3265ee9ec3",
   "metadata": {},
   "outputs": [],
   "source": [
    "new_data = {\n",
    "    'speed^3': data['speed']**3,\n",
    "    'speed': data['speed'],\n",
    "    'sin(alpha)*speed' : np.sin(np.arctan(data['slope']))*data['speed'],\n",
    "    'acc*speed': data['acceleration'].clip(lower=0)*data['speed']\n",
    "}\n",
    "new_data = pd.DataFrame(new_data)"
   ]
  },
  {
   "cell_type": "code",
   "execution_count": 42,
   "id": "8ca64e82-8e94-4639-a532-261b905092ef",
   "metadata": {},
   "outputs": [
    {
     "data": {
      "text/plain": [
       "-0.002709709612566326"
      ]
     },
     "execution_count": 42,
     "metadata": {},
     "output_type": "execute_result"
    }
   ],
   "source": [
    "new_data['sin(alpha)*speed'].mean()"
   ]
  },
  {
   "cell_type": "code",
   "execution_count": 106,
   "id": "a566fb25-9ee0-4753-8a3b-19533d7375d8",
   "metadata": {},
   "outputs": [],
   "source": [
    "from sklearn.pipeline import make_pipeline\n",
    "from sklearn.preprocessing import StandardScaler\n",
    "from sklearn.linear_model import RidgeCV\n",
    "from sklearn.model_selection import ShuffleSplit\n",
    "\n",
    "cv = ShuffleSplit(n_splits=4) \n",
    "scaler = StandardScaler()\n",
    "model = RidgeCV()\n",
    "\n",
    "scaler.fit(new_data)\n",
    "scaled_new_data = scaler.transform(new_data)"
   ]
  },
  {
   "cell_type": "code",
   "execution_count": 107,
   "id": "30fa8446-0516-4deb-a9bb-0c2bf6114fcb",
   "metadata": {
    "scrolled": true
   },
   "outputs": [],
   "source": [
    "from sklearn.model_selection import ShuffleSplit, cross_validate\n",
    "\n",
    "cv = ShuffleSplit(n_splits=4)\n",
    "scores_linear = cross_validate(\n",
    "    model, scaled_new_data, y=target,\n",
    "    cv=cv, scoring='neg_mean_absolute_error',\n",
    "    return_estimator=True,\n",
    "    return_train_score=True,\n",
    ")"
   ]
  },
  {
   "cell_type": "code",
   "execution_count": 108,
   "id": "82c8d949-343f-4935-a36f-4d596a5c2b18",
   "metadata": {},
   "outputs": [
    {
     "name": "stdout",
     "output_type": "stream",
     "text": [
      "Mean absolute error on the test sets: 72.203\n"
     ]
    }
   ],
   "source": [
    "print(\n",
    "    f\"Mean absolute error on the test sets: \"\n",
    "    f\"{-scores_linear['test_score'].mean():.3f}\"\n",
    ")"
   ]
  },
  {
   "cell_type": "code",
   "execution_count": 109,
   "id": "2e1a13e3-ee34-4f5b-8eda-eea3cb3a6567",
   "metadata": {},
   "outputs": [
    {
     "data": {
      "text/html": [
       "<style>#sk-container-id-7 {color: black;}#sk-container-id-7 pre{padding: 0;}#sk-container-id-7 div.sk-toggleable {background-color: white;}#sk-container-id-7 label.sk-toggleable__label {cursor: pointer;display: block;width: 100%;margin-bottom: 0;padding: 0.3em;box-sizing: border-box;text-align: center;}#sk-container-id-7 label.sk-toggleable__label-arrow:before {content: \"▸\";float: left;margin-right: 0.25em;color: #696969;}#sk-container-id-7 label.sk-toggleable__label-arrow:hover:before {color: black;}#sk-container-id-7 div.sk-estimator:hover label.sk-toggleable__label-arrow:before {color: black;}#sk-container-id-7 div.sk-toggleable__content {max-height: 0;max-width: 0;overflow: hidden;text-align: left;background-color: #f0f8ff;}#sk-container-id-7 div.sk-toggleable__content pre {margin: 0.2em;color: black;border-radius: 0.25em;background-color: #f0f8ff;}#sk-container-id-7 input.sk-toggleable__control:checked~div.sk-toggleable__content {max-height: 200px;max-width: 100%;overflow: auto;}#sk-container-id-7 input.sk-toggleable__control:checked~label.sk-toggleable__label-arrow:before {content: \"▾\";}#sk-container-id-7 div.sk-estimator input.sk-toggleable__control:checked~label.sk-toggleable__label {background-color: #d4ebff;}#sk-container-id-7 div.sk-label input.sk-toggleable__control:checked~label.sk-toggleable__label {background-color: #d4ebff;}#sk-container-id-7 input.sk-hidden--visually {border: 0;clip: rect(1px 1px 1px 1px);clip: rect(1px, 1px, 1px, 1px);height: 1px;margin: -1px;overflow: hidden;padding: 0;position: absolute;width: 1px;}#sk-container-id-7 div.sk-estimator {font-family: monospace;background-color: #f0f8ff;border: 1px dotted black;border-radius: 0.25em;box-sizing: border-box;margin-bottom: 0.5em;}#sk-container-id-7 div.sk-estimator:hover {background-color: #d4ebff;}#sk-container-id-7 div.sk-parallel-item::after {content: \"\";width: 100%;border-bottom: 1px solid gray;flex-grow: 1;}#sk-container-id-7 div.sk-label:hover label.sk-toggleable__label {background-color: #d4ebff;}#sk-container-id-7 div.sk-serial::before {content: \"\";position: absolute;border-left: 1px solid gray;box-sizing: border-box;top: 0;bottom: 0;left: 50%;z-index: 0;}#sk-container-id-7 div.sk-serial {display: flex;flex-direction: column;align-items: center;background-color: white;padding-right: 0.2em;padding-left: 0.2em;position: relative;}#sk-container-id-7 div.sk-item {position: relative;z-index: 1;}#sk-container-id-7 div.sk-parallel {display: flex;align-items: stretch;justify-content: center;background-color: white;position: relative;}#sk-container-id-7 div.sk-item::before, #sk-container-id-7 div.sk-parallel-item::before {content: \"\";position: absolute;border-left: 1px solid gray;box-sizing: border-box;top: 0;bottom: 0;left: 50%;z-index: -1;}#sk-container-id-7 div.sk-parallel-item {display: flex;flex-direction: column;z-index: 1;position: relative;background-color: white;}#sk-container-id-7 div.sk-parallel-item:first-child::after {align-self: flex-end;width: 50%;}#sk-container-id-7 div.sk-parallel-item:last-child::after {align-self: flex-start;width: 50%;}#sk-container-id-7 div.sk-parallel-item:only-child::after {width: 0;}#sk-container-id-7 div.sk-dashed-wrapped {border: 1px dashed gray;margin: 0 0.4em 0.5em 0.4em;box-sizing: border-box;padding-bottom: 0.4em;background-color: white;}#sk-container-id-7 div.sk-label label {font-family: monospace;font-weight: bold;display: inline-block;line-height: 1.2em;}#sk-container-id-7 div.sk-label-container {text-align: center;}#sk-container-id-7 div.sk-container {/* jupyter's `normalize.less` sets `[hidden] { display: none; }` but bootstrap.min.css set `[hidden] { display: none !important; }` so we also need the `!important` here to be able to override the default hidden behavior on the sphinx rendered scikit-learn.org. See: https://github.com/scikit-learn/scikit-learn/issues/21755 */display: inline-block !important;position: relative;}#sk-container-id-7 div.sk-text-repr-fallback {display: none;}</style><div id=\"sk-container-id-7\" class=\"sk-top-container\"><div class=\"sk-text-repr-fallback\"><pre>RidgeCV()</pre><b>In a Jupyter environment, please rerun this cell to show the HTML representation or trust the notebook. <br />On GitHub, the HTML representation is unable to render, please try loading this page with nbviewer.org.</b></div><div class=\"sk-container\" hidden><div class=\"sk-item\"><div class=\"sk-estimator sk-toggleable\"><input class=\"sk-toggleable__control sk-hidden--visually\" id=\"sk-estimator-id-7\" type=\"checkbox\" checked><label for=\"sk-estimator-id-7\" class=\"sk-toggleable__label sk-toggleable__label-arrow\">RidgeCV</label><div class=\"sk-toggleable__content\"><pre>RidgeCV()</pre></div></div></div></div></div>"
      ],
      "text/plain": [
       "RidgeCV()"
      ]
     },
     "execution_count": 109,
     "metadata": {},
     "output_type": "execute_result"
    }
   ],
   "source": [
    "scores_linear['estimator'][1].fit(new_data, target)"
   ]
  },
  {
   "cell_type": "code",
   "execution_count": 110,
   "id": "2a156679-15c0-4b78-842c-e1ed0853f1dd",
   "metadata": {},
   "outputs": [
    {
     "data": {
      "text/plain": [
       "array([8.95641209e-03, 1.26178534e+01, 3.23619060e+02, 1.03469648e+01])"
      ]
     },
     "execution_count": 110,
     "metadata": {},
     "output_type": "execute_result"
    }
   ],
   "source": [
    "scores_linear['estimator'][1].coef_"
   ]
  },
  {
   "cell_type": "code",
   "execution_count": 111,
   "id": "d6d9bac5-fb76-427e-831c-8535e5c28494",
   "metadata": {},
   "outputs": [],
   "source": [
    "from sklearn.ensemble import HistGradientBoostingRegressor\n",
    "\n",
    "model = HistGradientBoostingRegressor(max_iter=1_000, early_stopping=True)\n",
    "\n",
    "cv = ShuffleSplit(n_splits=4)\n",
    "scores_hist = cross_validate(\n",
    "    model, data, y=target,\n",
    "    cv=cv, scoring='neg_mean_absolute_error',\n",
    "    return_estimator=True,\n",
    "    return_train_score=True,\n",
    ")"
   ]
  },
  {
   "cell_type": "code",
   "execution_count": 112,
   "id": "f09b2d6c-6084-4dd5-af78-f5c7a36171ca",
   "metadata": {},
   "outputs": [
    {
     "name": "stdout",
     "output_type": "stream",
     "text": [
      "Mean absolute error on the test sets: 43.662\n"
     ]
    }
   ],
   "source": [
    "print(\n",
    "    f\"Mean absolute error on the test sets: \"\n",
    "    f\"{-scores_hist['test_score'].mean():.3f}\"\n",
    ")"
   ]
  },
  {
   "cell_type": "code",
   "execution_count": 114,
   "id": "179ab450-d277-45a8-9686-2a730bdf6b3f",
   "metadata": {},
   "outputs": [
    {
     "data": {
      "text/plain": [
       "{'fit_time': array([0.03616619, 0.0538435 , 0.08363962, 0.05134916]),\n",
       " 'score_time': array([0.00469804, 0.00166821, 0.00267482, 0.00453138]),\n",
       " 'estimator': [RidgeCV(), RidgeCV(), RidgeCV(), RidgeCV()],\n",
       " 'test_score': array([-71.32824763, -73.33578215, -72.31008067, -71.83808168]),\n",
       " 'train_score': array([-72.5927553 , -72.38662295, -72.45024204, -72.542963  ])}"
      ]
     },
     "execution_count": 114,
     "metadata": {},
     "output_type": "execute_result"
    }
   ],
   "source": [
    "scores_linear"
   ]
  },
  {
   "cell_type": "code",
   "execution_count": 113,
   "id": "4b64c271-784b-4ada-94df-cf8f67ff4927",
   "metadata": {},
   "outputs": [
    {
     "data": {
      "text/plain": [
       "{'fit_time': array([0.59966969, 0.43975139, 0.52923584, 0.49590015]),\n",
       " 'score_time': array([0.01310587, 0.00982738, 0.01554537, 0.01061773]),\n",
       " 'estimator': [HistGradientBoostingRegressor(early_stopping=True, max_iter=1000),\n",
       "  HistGradientBoostingRegressor(early_stopping=True, max_iter=1000),\n",
       "  HistGradientBoostingRegressor(early_stopping=True, max_iter=1000),\n",
       "  HistGradientBoostingRegressor(early_stopping=True, max_iter=1000)],\n",
       " 'test_score': array([-42.97334336, -45.35593732, -43.91813654, -42.39997667]),\n",
       " 'train_score': array([-40.14300543, -41.10829082, -39.50339165, -41.00758613])}"
      ]
     },
     "execution_count": 113,
     "metadata": {},
     "output_type": "execute_result"
    }
   ],
   "source": [
    "scores_hist"
   ]
  },
  {
   "cell_type": "code",
   "execution_count": null,
   "id": "5d03a469-fc8e-439b-b537-878580366b12",
   "metadata": {},
   "outputs": [],
   "source": []
  }
 ],
 "metadata": {
  "kernelspec": {
   "display_name": "Python 3 (ipykernel)",
   "language": "python",
   "name": "python3"
  },
  "language_info": {
   "codemirror_mode": {
    "name": "ipython",
    "version": 3
   },
   "file_extension": ".py",
   "mimetype": "text/x-python",
   "name": "python",
   "nbconvert_exporter": "python",
   "pygments_lexer": "ipython3",
   "version": "3.10.6"
  }
 },
 "nbformat": 4,
 "nbformat_minor": 5
}
