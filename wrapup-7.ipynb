{
 "cells": [
  {
   "cell_type": "markdown",
   "id": "ad6bf65a-54c9-414d-9973-5b249dd281f8",
   "metadata": {},
   "source": [
    "# [Wrap-up quiz 7](https://inria.github.io/scikit-learn-mooc/evaluation/evaluation_wrap_up_quiz.html)"
   ]
  },
  {
   "cell_type": "code",
   "execution_count": 1,
   "id": "82616e30-7ecf-45ba-b4d2-2413458289cf",
   "metadata": {},
   "outputs": [
    {
     "data": {
      "text/html": [
       "<div>\n",
       "<style scoped>\n",
       "    .dataframe tbody tr th:only-of-type {\n",
       "        vertical-align: middle;\n",
       "    }\n",
       "\n",
       "    .dataframe tbody tr th {\n",
       "        vertical-align: top;\n",
       "    }\n",
       "\n",
       "    .dataframe thead th {\n",
       "        text-align: right;\n",
       "    }\n",
       "</style>\n",
       "<table border=\"1\" class=\"dataframe\">\n",
       "  <thead>\n",
       "    <tr style=\"text-align: right;\">\n",
       "      <th></th>\n",
       "      <th>heart-rate</th>\n",
       "      <th>cadence</th>\n",
       "      <th>speed</th>\n",
       "      <th>acceleration</th>\n",
       "      <th>slope</th>\n",
       "    </tr>\n",
       "    <tr>\n",
       "      <th></th>\n",
       "      <th></th>\n",
       "      <th></th>\n",
       "      <th></th>\n",
       "      <th></th>\n",
       "      <th></th>\n",
       "    </tr>\n",
       "  </thead>\n",
       "  <tbody>\n",
       "    <tr>\n",
       "      <th>2020-08-18 14:43:19</th>\n",
       "      <td>102.0</td>\n",
       "      <td>64.0</td>\n",
       "      <td>4.325</td>\n",
       "      <td>0.0880</td>\n",
       "      <td>-0.033870</td>\n",
       "    </tr>\n",
       "    <tr>\n",
       "      <th>2020-08-18 14:43:20</th>\n",
       "      <td>103.0</td>\n",
       "      <td>64.0</td>\n",
       "      <td>4.336</td>\n",
       "      <td>0.0842</td>\n",
       "      <td>-0.033571</td>\n",
       "    </tr>\n",
       "    <tr>\n",
       "      <th>2020-08-18 14:43:21</th>\n",
       "      <td>105.0</td>\n",
       "      <td>66.0</td>\n",
       "      <td>4.409</td>\n",
       "      <td>0.0234</td>\n",
       "      <td>-0.033223</td>\n",
       "    </tr>\n",
       "    <tr>\n",
       "      <th>2020-08-18 14:43:22</th>\n",
       "      <td>106.0</td>\n",
       "      <td>66.0</td>\n",
       "      <td>4.445</td>\n",
       "      <td>0.0016</td>\n",
       "      <td>-0.032908</td>\n",
       "    </tr>\n",
       "    <tr>\n",
       "      <th>2020-08-18 14:43:23</th>\n",
       "      <td>106.0</td>\n",
       "      <td>67.0</td>\n",
       "      <td>4.441</td>\n",
       "      <td>0.1144</td>\n",
       "      <td>0.000000</td>\n",
       "    </tr>\n",
       "    <tr>\n",
       "      <th>...</th>\n",
       "      <td>...</td>\n",
       "      <td>...</td>\n",
       "      <td>...</td>\n",
       "      <td>...</td>\n",
       "      <td>...</td>\n",
       "    </tr>\n",
       "    <tr>\n",
       "      <th>2020-09-13 14:55:57</th>\n",
       "      <td>130.0</td>\n",
       "      <td>0.0</td>\n",
       "      <td>1.054</td>\n",
       "      <td>0.0234</td>\n",
       "      <td>0.000000</td>\n",
       "    </tr>\n",
       "    <tr>\n",
       "      <th>2020-09-13 14:55:58</th>\n",
       "      <td>130.0</td>\n",
       "      <td>0.0</td>\n",
       "      <td>0.829</td>\n",
       "      <td>0.0258</td>\n",
       "      <td>0.000000</td>\n",
       "    </tr>\n",
       "    <tr>\n",
       "      <th>2020-09-13 14:55:59</th>\n",
       "      <td>129.0</td>\n",
       "      <td>0.0</td>\n",
       "      <td>0.616</td>\n",
       "      <td>-0.1686</td>\n",
       "      <td>0.000000</td>\n",
       "    </tr>\n",
       "    <tr>\n",
       "      <th>2020-09-13 14:56:00</th>\n",
       "      <td>130.0</td>\n",
       "      <td>0.0</td>\n",
       "      <td>0.000</td>\n",
       "      <td>-0.4284</td>\n",
       "      <td>0.000000</td>\n",
       "    </tr>\n",
       "    <tr>\n",
       "      <th>2020-09-13 14:56:01</th>\n",
       "      <td>130.0</td>\n",
       "      <td>0.0</td>\n",
       "      <td>0.000</td>\n",
       "      <td>-0.3096</td>\n",
       "      <td>0.000000</td>\n",
       "    </tr>\n",
       "  </tbody>\n",
       "</table>\n",
       "<p>38254 rows × 5 columns</p>\n",
       "</div>"
      ],
      "text/plain": [
       "                     heart-rate  cadence  speed  acceleration     slope\n",
       "                                                                       \n",
       "2020-08-18 14:43:19       102.0     64.0  4.325        0.0880 -0.033870\n",
       "2020-08-18 14:43:20       103.0     64.0  4.336        0.0842 -0.033571\n",
       "2020-08-18 14:43:21       105.0     66.0  4.409        0.0234 -0.033223\n",
       "2020-08-18 14:43:22       106.0     66.0  4.445        0.0016 -0.032908\n",
       "2020-08-18 14:43:23       106.0     67.0  4.441        0.1144  0.000000\n",
       "...                         ...      ...    ...           ...       ...\n",
       "2020-09-13 14:55:57       130.0      0.0  1.054        0.0234  0.000000\n",
       "2020-09-13 14:55:58       130.0      0.0  0.829        0.0258  0.000000\n",
       "2020-09-13 14:55:59       129.0      0.0  0.616       -0.1686  0.000000\n",
       "2020-09-13 14:56:00       130.0      0.0  0.000       -0.4284  0.000000\n",
       "2020-09-13 14:56:01       130.0      0.0  0.000       -0.3096  0.000000\n",
       "\n",
       "[38254 rows x 5 columns]"
      ]
     },
     "execution_count": 1,
     "metadata": {},
     "output_type": "execute_result"
    }
   ],
   "source": [
    "import pandas as pd\n",
    "\n",
    "cycling = pd.read_csv('./datasets/bike_rides.csv', index_col=0, parse_dates=True)\n",
    "cycling.index.name = ''\n",
    "target_name = 'power'\n",
    "data, target = cycling.drop(columns=target_name), cycling[target_name]\n",
    "data"
   ]
  },
  {
   "cell_type": "markdown",
   "id": "8534ea83-7916-4ad7-a118-9696d49cc009",
   "metadata": {},
   "source": [
    "## Data Handling"
   ]
  },
  {
   "cell_type": "code",
   "execution_count": 2,
   "id": "52b4d234-2d91-4d18-abd3-b491bfbd8012",
   "metadata": {},
   "outputs": [],
   "source": [
    "import numpy as np"
   ]
  },
  {
   "cell_type": "code",
   "execution_count": 3,
   "id": "8e64fb99-0a36-46d9-8ee0-4e3265ee9ec3",
   "metadata": {},
   "outputs": [],
   "source": [
    "new_data = {\n",
    "    'speed^3': data['speed']**3,\n",
    "    'speed': data['speed'],\n",
    "    'sin(alpha)*speed' : np.sin(np.arctan(data['slope']))*data['speed'],\n",
    "    'acc*speed': data['acceleration'].clip(lower=0)*data['speed']\n",
    "}\n",
    "new_data = pd.DataFrame(new_data)"
   ]
  },
  {
   "cell_type": "code",
   "execution_count": 4,
   "id": "8ca64e82-8e94-4639-a532-261b905092ef",
   "metadata": {},
   "outputs": [
    {
     "data": {
      "text/plain": [
       "-0.002709709612566326"
      ]
     },
     "execution_count": 4,
     "metadata": {},
     "output_type": "execute_result"
    }
   ],
   "source": [
    "new_data['sin(alpha)*speed'].mean()"
   ]
  },
  {
   "cell_type": "markdown",
   "id": "4b069e53-cdbf-4fd4-89d1-8c15612e177f",
   "metadata": {},
   "source": [
    "## Linear predictive model"
   ]
  },
  {
   "cell_type": "code",
   "execution_count": 5,
   "id": "a566fb25-9ee0-4753-8a3b-19533d7375d8",
   "metadata": {},
   "outputs": [],
   "source": [
    "from sklearn.pipeline import make_pipeline\n",
    "from sklearn.preprocessing import StandardScaler\n",
    "from sklearn.linear_model import RidgeCV\n",
    "from sklearn.model_selection import ShuffleSplit\n",
    "\n",
    "cv = ShuffleSplit(n_splits=4) \n",
    "scaler = StandardScaler()\n",
    "model = RidgeCV()\n",
    "\n",
    "scaler.fit(new_data)\n",
    "scaled_new_data = pd.DataFrame(scaler.transform(new_data),index=new_data.index, columns=new_data.columns)"
   ]
  },
  {
   "cell_type": "markdown",
   "id": "115fea3f-14a5-485c-b22c-4295d76b14ea",
   "metadata": {},
   "source": [
    "### Cross validation"
   ]
  },
  {
   "cell_type": "code",
   "execution_count": 6,
   "id": "30fa8446-0516-4deb-a9bb-0c2bf6114fcb",
   "metadata": {
    "scrolled": true
   },
   "outputs": [],
   "source": [
    "from sklearn.model_selection import ShuffleSplit, cross_validate\n",
    "\n",
    "cv = ShuffleSplit(n_splits=4)\n",
    "scores_linear = cross_validate(\n",
    "    model, scaled_new_data, y=target,\n",
    "    cv=cv, scoring='neg_mean_absolute_error',\n",
    "    return_estimator=True,\n",
    "    return_train_score=True,\n",
    ")"
   ]
  },
  {
   "cell_type": "code",
   "execution_count": 7,
   "id": "82c8d949-343f-4935-a36f-4d596a5c2b18",
   "metadata": {},
   "outputs": [
    {
     "name": "stdout",
     "output_type": "stream",
     "text": [
      "Mean absolute error on the test sets: 72.468 ± 1.238\n"
     ]
    }
   ],
   "source": [
    "print(\n",
    "    f\"Mean absolute error on the test sets: \"\n",
    "    f\"{-scores_linear['test_score'].mean():.3f} ± \"\n",
    "    f\"{scores_linear['test_score'].std():.3f}\"\n",
    ")"
   ]
  },
  {
   "cell_type": "code",
   "execution_count": 8,
   "id": "2e1a13e3-ee34-4f5b-8eda-eea3cb3a6567",
   "metadata": {},
   "outputs": [
    {
     "data": {
      "text/html": [
       "<style>#sk-container-id-1 {color: black;}#sk-container-id-1 pre{padding: 0;}#sk-container-id-1 div.sk-toggleable {background-color: white;}#sk-container-id-1 label.sk-toggleable__label {cursor: pointer;display: block;width: 100%;margin-bottom: 0;padding: 0.3em;box-sizing: border-box;text-align: center;}#sk-container-id-1 label.sk-toggleable__label-arrow:before {content: \"▸\";float: left;margin-right: 0.25em;color: #696969;}#sk-container-id-1 label.sk-toggleable__label-arrow:hover:before {color: black;}#sk-container-id-1 div.sk-estimator:hover label.sk-toggleable__label-arrow:before {color: black;}#sk-container-id-1 div.sk-toggleable__content {max-height: 0;max-width: 0;overflow: hidden;text-align: left;background-color: #f0f8ff;}#sk-container-id-1 div.sk-toggleable__content pre {margin: 0.2em;color: black;border-radius: 0.25em;background-color: #f0f8ff;}#sk-container-id-1 input.sk-toggleable__control:checked~div.sk-toggleable__content {max-height: 200px;max-width: 100%;overflow: auto;}#sk-container-id-1 input.sk-toggleable__control:checked~label.sk-toggleable__label-arrow:before {content: \"▾\";}#sk-container-id-1 div.sk-estimator input.sk-toggleable__control:checked~label.sk-toggleable__label {background-color: #d4ebff;}#sk-container-id-1 div.sk-label input.sk-toggleable__control:checked~label.sk-toggleable__label {background-color: #d4ebff;}#sk-container-id-1 input.sk-hidden--visually {border: 0;clip: rect(1px 1px 1px 1px);clip: rect(1px, 1px, 1px, 1px);height: 1px;margin: -1px;overflow: hidden;padding: 0;position: absolute;width: 1px;}#sk-container-id-1 div.sk-estimator {font-family: monospace;background-color: #f0f8ff;border: 1px dotted black;border-radius: 0.25em;box-sizing: border-box;margin-bottom: 0.5em;}#sk-container-id-1 div.sk-estimator:hover {background-color: #d4ebff;}#sk-container-id-1 div.sk-parallel-item::after {content: \"\";width: 100%;border-bottom: 1px solid gray;flex-grow: 1;}#sk-container-id-1 div.sk-label:hover label.sk-toggleable__label {background-color: #d4ebff;}#sk-container-id-1 div.sk-serial::before {content: \"\";position: absolute;border-left: 1px solid gray;box-sizing: border-box;top: 0;bottom: 0;left: 50%;z-index: 0;}#sk-container-id-1 div.sk-serial {display: flex;flex-direction: column;align-items: center;background-color: white;padding-right: 0.2em;padding-left: 0.2em;position: relative;}#sk-container-id-1 div.sk-item {position: relative;z-index: 1;}#sk-container-id-1 div.sk-parallel {display: flex;align-items: stretch;justify-content: center;background-color: white;position: relative;}#sk-container-id-1 div.sk-item::before, #sk-container-id-1 div.sk-parallel-item::before {content: \"\";position: absolute;border-left: 1px solid gray;box-sizing: border-box;top: 0;bottom: 0;left: 50%;z-index: -1;}#sk-container-id-1 div.sk-parallel-item {display: flex;flex-direction: column;z-index: 1;position: relative;background-color: white;}#sk-container-id-1 div.sk-parallel-item:first-child::after {align-self: flex-end;width: 50%;}#sk-container-id-1 div.sk-parallel-item:last-child::after {align-self: flex-start;width: 50%;}#sk-container-id-1 div.sk-parallel-item:only-child::after {width: 0;}#sk-container-id-1 div.sk-dashed-wrapped {border: 1px dashed gray;margin: 0 0.4em 0.5em 0.4em;box-sizing: border-box;padding-bottom: 0.4em;background-color: white;}#sk-container-id-1 div.sk-label label {font-family: monospace;font-weight: bold;display: inline-block;line-height: 1.2em;}#sk-container-id-1 div.sk-label-container {text-align: center;}#sk-container-id-1 div.sk-container {/* jupyter's `normalize.less` sets `[hidden] { display: none; }` but bootstrap.min.css set `[hidden] { display: none !important; }` so we also need the `!important` here to be able to override the default hidden behavior on the sphinx rendered scikit-learn.org. See: https://github.com/scikit-learn/scikit-learn/issues/21755 */display: inline-block !important;position: relative;}#sk-container-id-1 div.sk-text-repr-fallback {display: none;}</style><div id=\"sk-container-id-1\" class=\"sk-top-container\"><div class=\"sk-text-repr-fallback\"><pre>RidgeCV()</pre><b>In a Jupyter environment, please rerun this cell to show the HTML representation or trust the notebook. <br />On GitHub, the HTML representation is unable to render, please try loading this page with nbviewer.org.</b></div><div class=\"sk-container\" hidden><div class=\"sk-item\"><div class=\"sk-estimator sk-toggleable\"><input class=\"sk-toggleable__control sk-hidden--visually\" id=\"sk-estimator-id-1\" type=\"checkbox\" checked><label for=\"sk-estimator-id-1\" class=\"sk-toggleable__label sk-toggleable__label-arrow\">RidgeCV</label><div class=\"sk-toggleable__content\"><pre>RidgeCV()</pre></div></div></div></div></div>"
      ],
      "text/plain": [
       "RidgeCV()"
      ]
     },
     "execution_count": 8,
     "metadata": {},
     "output_type": "execute_result"
    }
   ],
   "source": [
    "scores_linear['estimator'][1].fit(new_data, target)"
   ]
  },
  {
   "cell_type": "code",
   "execution_count": 9,
   "id": "2a156679-15c0-4b78-842c-e1ed0853f1dd",
   "metadata": {},
   "outputs": [
    {
     "data": {
      "text/plain": [
       "array([8.95641209e-03, 1.26178534e+01, 3.23619060e+02, 1.03469648e+01])"
      ]
     },
     "execution_count": 9,
     "metadata": {},
     "output_type": "execute_result"
    }
   ],
   "source": [
    "scores_linear['estimator'][1].coef_"
   ]
  },
  {
   "cell_type": "markdown",
   "id": "16731e58-1cde-44fb-b1cd-f5b9987e640f",
   "metadata": {},
   "source": [
    "## Predictive model with original data"
   ]
  },
  {
   "cell_type": "code",
   "execution_count": 10,
   "id": "d6d9bac5-fb76-427e-831c-8535e5c28494",
   "metadata": {},
   "outputs": [],
   "source": [
    "from sklearn.ensemble import HistGradientBoostingRegressor\n",
    "\n",
    "model = HistGradientBoostingRegressor(max_iter=1_000, early_stopping=True)\n",
    "\n",
    "cv = ShuffleSplit(n_splits=4)\n",
    "scores_hist = cross_validate(\n",
    "    model, data, y=target,\n",
    "    cv=cv, scoring='neg_mean_absolute_error',\n",
    "    return_estimator=True,\n",
    "    return_train_score=True,\n",
    ")"
   ]
  },
  {
   "cell_type": "code",
   "execution_count": 11,
   "id": "f09b2d6c-6084-4dd5-af78-f5c7a36171ca",
   "metadata": {},
   "outputs": [
    {
     "name": "stdout",
     "output_type": "stream",
     "text": [
      "Mean absolute error on the test sets: 43.330 ± 1.217\n"
     ]
    }
   ],
   "source": [
    "print(\n",
    "    f\"Mean absolute error on the test sets: \"\n",
    "    f\"{-scores_hist['test_score'].mean():.3f} ± \"\n",
    "    f\"{scores_hist['test_score'].std():.3f}\"\n",
    ")"
   ]
  },
  {
   "cell_type": "markdown",
   "id": "5e139b09-3e29-423f-9964-dc49afe9d14d",
   "metadata": {},
   "source": [
    "## Comparing the two models"
   ]
  },
  {
   "cell_type": "code",
   "execution_count": 12,
   "id": "179ab450-d277-45a8-9686-2a730bdf6b3f",
   "metadata": {},
   "outputs": [
    {
     "data": {
      "text/plain": [
       "{'fit_time': array([0.04560637, 0.03683805, 0.04315448, 0.04491615]),\n",
       " 'score_time': array([0.00822711, 0.00908256, 0.00548744, 0.01016688]),\n",
       " 'estimator': [RidgeCV(), RidgeCV(), RidgeCV(), RidgeCV()],\n",
       " 'test_score': array([-72.31667642, -71.00242473, -72.12395835, -74.42741317]),\n",
       " 'train_score': array([-72.49167937, -72.60905925, -72.4931107 , -72.240853  ])}"
      ]
     },
     "execution_count": 12,
     "metadata": {},
     "output_type": "execute_result"
    }
   ],
   "source": [
    "scores_linear"
   ]
  },
  {
   "cell_type": "code",
   "execution_count": 13,
   "id": "4b64c271-784b-4ada-94df-cf8f67ff4927",
   "metadata": {},
   "outputs": [
    {
     "data": {
      "text/plain": [
       "{'fit_time': array([0.80083728, 0.9858439 , 0.40906978, 0.52624345]),\n",
       " 'score_time': array([0.0218842 , 0.0245316 , 0.01199818, 0.01719117]),\n",
       " 'estimator': [HistGradientBoostingRegressor(early_stopping=True, max_iter=1000),\n",
       "  HistGradientBoostingRegressor(early_stopping=True, max_iter=1000),\n",
       "  HistGradientBoostingRegressor(early_stopping=True, max_iter=1000),\n",
       "  HistGradientBoostingRegressor(early_stopping=True, max_iter=1000)],\n",
       " 'test_score': array([-43.31548689, -41.71571811, -45.14264181, -43.14449558]),\n",
       " 'train_score': array([-39.7900123 , -37.59382439, -41.08843416, -39.80068862])}"
      ]
     },
     "execution_count": 13,
     "metadata": {},
     "output_type": "execute_result"
    }
   ],
   "source": [
    "scores_hist"
   ]
  },
  {
   "cell_type": "markdown",
   "id": "7fb2947b-7ac7-4924-9262-d56756fb6083",
   "metadata": {},
   "source": [
    "## Group cross validation"
   ]
  },
  {
   "cell_type": "code",
   "execution_count": 14,
   "id": "7277d5fa-27c1-4319-9585-487762076cc0",
   "metadata": {},
   "outputs": [
    {
     "data": {
      "text/plain": [
       "4"
      ]
     },
     "execution_count": 14,
     "metadata": {},
     "output_type": "execute_result"
    }
   ],
   "source": [
    "rides = len(pd.Series(data.index.date).unique())\n",
    "rides"
   ]
  },
  {
   "cell_type": "code",
   "execution_count": 15,
   "id": "99b0d0fd-2b03-4f9f-9213-1b31ff8a801b",
   "metadata": {},
   "outputs": [],
   "source": [
    "groups = pd.factorize(data.index.date)[0]"
   ]
  },
  {
   "cell_type": "code",
   "execution_count": 16,
   "id": "15009cb0-58b3-47d5-b23c-22c340e42ede",
   "metadata": {},
   "outputs": [
    {
     "data": {
      "text/plain": [
       "True"
      ]
     },
     "execution_count": 16,
     "metadata": {},
     "output_type": "execute_result"
    }
   ],
   "source": [
    "len(groups) == len(data)"
   ]
  },
  {
   "cell_type": "code",
   "execution_count": 17,
   "id": "c477674a-3a4d-4000-bd88-b4cd81c72ec4",
   "metadata": {},
   "outputs": [],
   "source": [
    "from sklearn.model_selection import LeaveOneGroupOut\n",
    "\n",
    "cv = LeaveOneGroupOut()"
   ]
  },
  {
   "cell_type": "code",
   "execution_count": 18,
   "id": "430c378c-7104-4fad-9fef-42111b8d1789",
   "metadata": {},
   "outputs": [
    {
     "data": {
      "text/plain": [
       "{'fit_time': array([0.66814327, 0.85300159, 0.72272444, 0.41222143]),\n",
       " 'score_time': array([0.04192042, 0.04707503, 0.04188299, 0.0230782 ]),\n",
       " 'estimator': [HistGradientBoostingRegressor(early_stopping=True, max_iter=1000),\n",
       "  HistGradientBoostingRegressor(early_stopping=True, max_iter=1000),\n",
       "  HistGradientBoostingRegressor(early_stopping=True, max_iter=1000),\n",
       "  HistGradientBoostingRegressor(early_stopping=True, max_iter=1000)],\n",
       " 'test_score': array([-48.08993346, -48.65334791, -54.10710087, -48.65737105]),\n",
       " 'train_score': array([-37.64198378, -36.90105101, -36.03893717, -41.11716458])}"
      ]
     },
     "execution_count": 18,
     "metadata": {},
     "output_type": "execute_result"
    }
   ],
   "source": [
    "model = HistGradientBoostingRegressor(max_iter=1_000, early_stopping=True)\n",
    "\n",
    "scores_hist = cross_validate(\n",
    "    model, data, y=target,\n",
    "    cv=cv, groups=groups, scoring='neg_mean_absolute_error',\n",
    "    return_estimator=True,\n",
    "    return_train_score=True,\n",
    ")\n",
    "scores_hist"
   ]
  },
  {
   "cell_type": "code",
   "execution_count": 19,
   "id": "38d70eee-476a-4720-8820-9016e7367d15",
   "metadata": {},
   "outputs": [
    {
     "name": "stdout",
     "output_type": "stream",
     "text": [
      "Mean absolute error on the test sets: 49.877 ± 2.453\n",
      "Mean absolute error on the train sets: 37.925 ± 1.928\n"
     ]
    }
   ],
   "source": [
    "print(\n",
    "    f\"Mean absolute error on the test sets: \"\n",
    "    f\"{-scores_hist['test_score'].mean():.3f} ± \"\n",
    "    f\"{scores_hist['test_score'].std():.3f}\"\n",
    ")\n",
    "print(\n",
    "    f\"Mean absolute error on the train sets: \"\n",
    "    f\"{-scores_hist['train_score'].mean():.3f} ± \"\n",
    "    f\"{scores_hist['train_score'].std():.3f}\"\n",
    ")"
   ]
  },
  {
   "cell_type": "code",
   "execution_count": 20,
   "id": "ccfa9939-61c9-4172-b26b-d15791191d18",
   "metadata": {},
   "outputs": [
    {
     "data": {
      "text/plain": [
       "{'fit_time': array([0.01484704, 0.0199194 , 0.02133226, 0.02659369]),\n",
       " 'score_time': array([0.00270271, 0.0048542 , 0.00483465, 0.00516677]),\n",
       " 'estimator': [RidgeCV(), RidgeCV(), RidgeCV(), RidgeCV()],\n",
       " 'test_score': array([-72.44060496, -73.32064411, -81.30751786, -64.99051728]),\n",
       " 'train_score': array([-72.43175577, -72.28703286, -68.96504583, -75.31153691])}"
      ]
     },
     "execution_count": 20,
     "metadata": {},
     "output_type": "execute_result"
    }
   ],
   "source": [
    "model = RidgeCV()\n",
    "\n",
    "scores_linear = cross_validate(\n",
    "    model, scaled_new_data, y=target,\n",
    "    cv=cv, groups=groups, scoring='neg_mean_absolute_error',\n",
    "    return_estimator=True,\n",
    "    return_train_score=True,\n",
    ")\n",
    "scores_linear"
   ]
  },
  {
   "cell_type": "code",
   "execution_count": 21,
   "id": "e9b1c3a3-3057-494b-9356-d97a5ceaaab8",
   "metadata": {},
   "outputs": [
    {
     "name": "stdout",
     "output_type": "stream",
     "text": [
      "Mean absolute error on the test sets: 73.015 ± 5.779\n",
      "Mean absolute error on the train sets: 72.249 ± 2.247\n"
     ]
    }
   ],
   "source": [
    "print(\n",
    "    f\"Mean absolute error on the test sets: \"\n",
    "    f\"{-scores_linear['test_score'].mean():.3f} ± \"\n",
    "    f\"{scores_linear['test_score'].std():.3f}\"\n",
    ")\n",
    "print(\n",
    "    f\"Mean absolute error on the train sets: \"\n",
    "    f\"{-scores_linear['train_score'].mean():.3f} ± \"\n",
    "    f\"{scores_linear['train_score'].std():.3f}\"\n",
    ")"
   ]
  },
  {
   "cell_type": "markdown",
   "id": "3e9c0811-ffd2-45c4-8197-b6228c82737a",
   "metadata": {},
   "source": [
    "# Prediction of a single ride"
   ]
  },
  {
   "cell_type": "code",
   "execution_count": 22,
   "id": "df19771e-89ee-46b0-9b06-a88fcab4eed7",
   "metadata": {},
   "outputs": [],
   "source": [
    "cv = LeaveOneGroupOut()\n",
    "train_indices, test_indices = list(cv.split(data, target, groups=groups))[0]\n",
    "\n",
    "data_linear_model_train = scaled_new_data.iloc[train_indices]\n",
    "data_linear_model_test = scaled_new_data.iloc[test_indices]\n",
    "\n",
    "data_train = data.iloc[train_indices]\n",
    "data_test = data.iloc[test_indices]\n",
    "\n",
    "target_train = target.iloc[train_indices]\n",
    "target_test = target.iloc[test_indices]"
   ]
  },
  {
   "cell_type": "code",
   "execution_count": 23,
   "id": "3d2aca1a-687e-4f5a-9a33-5834966159d6",
   "metadata": {},
   "outputs": [],
   "source": [
    "model_hist = HistGradientBoostingRegressor(max_iter=1_000, early_stopping=True)\n",
    "model_hist.fit(data_train, target_train)\n",
    "model_hist_predictions = model_hist.predict(data_test)\n",
    "\n",
    "model_linear = RidgeCV()\n",
    "model_linear.fit(data_linear_model_train, target_train)\n",
    "model_linear_predictions = model_linear.predict(data_linear_model_test)"
   ]
  },
  {
   "cell_type": "code",
   "execution_count": 24,
   "id": "bb48784c-f495-42ad-aa7d-3f80406151a0",
   "metadata": {},
   "outputs": [
    {
     "data": {
      "text/plain": [
       "Text(0.5, 1.0, 'HGBR model')"
      ]
     },
     "execution_count": 24,
     "metadata": {},
     "output_type": "execute_result"
    },
    {
     "data": {
      "image/png": "[encoded data removed]",
      "text/plain": [
       "<Figure size 432x288 with 2 Axes>"
      ]
     },
     "metadata": {
      "needs_background": "light"
     },
     "output_type": "display_data"
    }
   ],
   "source": [
    "import matplotlib.pyplot as plt\n",
    "import seaborn as sns\n",
    "\n",
    "fig, ax = plt.subplots(ncols=2, sharey=True)\n",
    "\n",
    "sns.scatterplot(\n",
    "    x=target_test, y=model_linear_predictions, ax=ax[0], color='black', alpha=0.5,\n",
    ")\n",
    "ax[0].axline((0, 0), slope=1, label='Perfect fit')\n",
    "\n",
    "sns.scatterplot(\n",
    "    x=target_test, y=model_hist_predictions, ax=ax[1], color='black', alpha=0.5\n",
    ")\n",
    "ax[1].axline((0, 0), slope=1, label='Perfect fit')\n",
    "\n",
    "ax[0].set_ylabel('Predicted power')\n",
    "ax[0].set_title('Linear model')\n",
    "ax[1].set_title('HGBR model')"
   ]
  },
  {
   "cell_type": "code",
   "execution_count": 30,
   "id": "226ee7d7-734f-4679-b86a-5cfa7f3a4c60",
   "metadata": {},
   "outputs": [],
   "source": [
    "time_slice = slice(\"2020-08-18 17:00:00\", \"2020-08-18 17:05:00\")\n",
    "\n",
    "data_test_linear_model_subset = scaled_new_data[time_slice]\n",
    "data_test_subset = data_test[time_slice]\n",
    "target_test_subset = target_test[time_slice]\n",
    "\n",
    "model_hist_subset_predictions = model_hist.predict(data_test_subset)\n",
    "model_linear_subset_predictions = model_linear.predict(data_test_linear_model_subset)"
   ]
  },
  {
   "cell_type": "code",
   "execution_count": 34,
   "id": "61d1203d-c5bc-4741-af95-c61e4509b6e7",
   "metadata": {},
   "outputs": [
    {
     "data": {
      "text/plain": [
       "(-18.8, 446.65210259688706, -23.43020312012134, 442.0218994767657)"
      ]
     },
     "execution_count": 34,
     "metadata": {},
     "output_type": "execute_result"
    },
    {
     "data": {
      "image/png": "[encoded data removed]",
      "text/plain": [
       "<Figure size 432x288 with 2 Axes>"
      ]
     },
     "metadata": {
      "needs_background": "light"
     },
     "output_type": "display_data"
    }
   ],
   "source": [
    "import matplotlib.pyplot as plt\n",
    "import seaborn as sns\n",
    "\n",
    "fig, ax = plt.subplots(ncols=2, sharey=True)\n",
    "\n",
    "sns.scatterplot(\n",
    "    x=target_test_subset, y=model_linear_subset_predictions, ax=ax[0], color='black', alpha=0.5,\n",
    ")\n",
    "ax[0].axline((0, 0), slope=1, label='Perfect fit')\n",
    "\n",
    "sns.scatterplot(\n",
    "    x=target_test_subset, y=model_hist_subset_predictions, ax=ax[1], color='black', alpha=0.5\n",
    ")\n",
    "ax[1].axline((0, 0), slope=1, label='Perfect fit')\n",
    "\n",
    "ax[0].set_ylabel('Predicted power')\n",
    "ax[0].set_title('Linear model')\n",
    "ax[1].set_title('HGBR model')\n",
    "\n",
    "ax[0].axis('square')\n",
    "ax[1].axis('square')"
   ]
  },
  {
   "cell_type": "code",
   "execution_count": null,
   "id": "84578e7e-599f-421b-97e5-fed7b18665cc",
   "metadata": {},
   "outputs": [],
   "source": []
  }
 ],
 "metadata": {
  "kernelspec": {
   "display_name": "Python 3 (ipykernel)",
   "language": "python",
   "name": "python3"
  },
  "language_info": {
   "codemirror_mode": {
    "name": "ipython",
    "version": 3
   },
   "file_extension": ".py",
   "mimetype": "text/x-python",
   "name": "python",
   "nbconvert_exporter": "python",
   "pygments_lexer": "ipython3",
   "version": "3.10.6"
  }
 },
 "nbformat": 4,
 "nbformat_minor": 5
}
